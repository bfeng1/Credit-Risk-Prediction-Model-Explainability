{
 "cells": [
  {
   "cell_type": "markdown",
   "id": "d05aca61",
   "metadata": {
    "papermill": {
     "duration": 0.016702,
     "end_time": "2023-08-12T19:30:34.009843",
     "exception": false,
     "start_time": "2023-08-12T19:30:33.993141",
     "status": "completed"
    },
    "tags": []
   },
   "source": [
    "## Dataset background\n",
    "\n",
    "[Credit Risk Dataset](https://www.kaggle.com/datasets/laotse/credit-risk-dataset?sort=votes)\n",
    "\n",
    "Credit To: [Lao Tse](https://www.kaggle.com/laotse)"
   ]
  },
  {
   "cell_type": "markdown",
   "id": "99ef5c14",
   "metadata": {
    "execution": {
     "iopub.execute_input": "2023-07-01T13:48:32.484501Z",
     "iopub.status.busy": "2023-07-01T13:48:32.483935Z",
     "iopub.status.idle": "2023-07-01T13:48:32.492070Z",
     "shell.execute_reply": "2023-07-01T13:48:32.490645Z",
     "shell.execute_reply.started": "2023-07-01T13:48:32.484461Z"
    },
    "papermill": {
     "duration": 0.014655,
     "end_time": "2023-08-12T19:30:34.040016",
     "exception": false,
     "start_time": "2023-08-12T19:30:34.025361",
     "status": "completed"
    },
    "tags": []
   },
   "source": [
    "## Objective of this analysis\n",
    "* Perform EDA to understand the what features could indicate the risk of loan default\n",
    "* Build a classification model to predict the potential default loans\n",
    "* Use grid search for hyperparameter tuning to achieve the best performance on the random forest tree model.\n",
    "* Use permutation importance to understand which features are the most critical for the overall model performance\n",
    "* Use SHAP to form a better understanding how the chosen model is working to make each predictions. This is able to help us understand how the values within each feature affect the prediction. \n",
    "* Through the exercise, understand the process of credit risk analysis in banking."
   ]
  },
  {
   "cell_type": "markdown",
   "id": "012ee26a",
   "metadata": {
    "papermill": {
     "duration": 0.014355,
     "end_time": "2023-08-12T19:30:34.069159",
     "exception": false,
     "start_time": "2023-08-12T19:30:34.054804",
     "status": "completed"
    },
    "tags": []
   },
   "source": [
    "## EDA"
   ]
  },
  {
   "cell_type": "markdown",
   "id": "ee86b11a",
   "metadata": {
    "papermill": {
     "duration": 0.014196,
     "end_time": "2023-08-12T19:30:34.097837",
     "exception": false,
     "start_time": "2023-08-12T19:30:34.083641",
     "status": "completed"
    },
    "tags": []
   },
   "source": [
    "### Import Libaries and load datasets"
   ]
  },
  {
   "cell_type": "code",
   "execution_count": 1,
   "id": "c0f5e1dc",
   "metadata": {
    "execution": {
     "iopub.execute_input": "2023-08-12T19:30:34.128948Z",
     "iopub.status.busy": "2023-08-12T19:30:34.128285Z",
     "iopub.status.idle": "2023-08-12T19:31:07.938299Z",
     "shell.execute_reply": "2023-08-12T19:31:07.937041Z"
    },
    "papermill": {
     "duration": 33.828651,
     "end_time": "2023-08-12T19:31:07.940769",
     "exception": false,
     "start_time": "2023-08-12T19:30:34.112118",
     "status": "completed"
    },
    "tags": []
   },
   "outputs": [
    {
     "name": "stdout",
     "output_type": "stream",
     "text": [
      "Collecting fancyimpute\r\n",
      "  Downloading fancyimpute-0.7.0.tar.gz (25 kB)\r\n",
      "  Preparing metadata (setup.py) ... \u001b[?25l-\b \bdone\r\n",
      "\u001b[?25hCollecting knnimpute>=0.1.0\r\n",
      "  Downloading knnimpute-0.1.0.tar.gz (8.3 kB)\r\n",
      "  Preparing metadata (setup.py) ... \u001b[?25l-\b \bdone\r\n",
      "\u001b[?25hRequirement already satisfied: scikit-learn>=0.24.2 in /opt/conda/lib/python3.7/site-packages (from fancyimpute) (1.0.2)\r\n",
      "Collecting cvxpy\r\n",
      "  Downloading cvxpy-1.3.2-cp37-cp37m-manylinux_2_17_x86_64.manylinux2014_x86_64.whl (4.0 MB)\r\n",
      "\u001b[2K     \u001b[90m━━━━━━━━━━━━━━━━━━━━━━━━━━━━━━━━━━━━━━━━\u001b[0m \u001b[32m4.0/4.0 MB\u001b[0m \u001b[31m32.5 MB/s\u001b[0m eta \u001b[36m0:00:00\u001b[0m\r\n",
      "\u001b[?25hCollecting cvxopt\r\n",
      "  Downloading cvxopt-1.3.2-cp37-cp37m-manylinux_2_17_x86_64.manylinux2014_x86_64.whl (13.6 MB)\r\n",
      "\u001b[2K     \u001b[90m━━━━━━━━━━━━━━━━━━━━━━━━━━━━━━━━━━━━━━━━\u001b[0m \u001b[32m13.6/13.6 MB\u001b[0m \u001b[31m53.6 MB/s\u001b[0m eta \u001b[36m0:00:00\u001b[0m\r\n",
      "\u001b[?25hRequirement already satisfied: pytest in /opt/conda/lib/python3.7/site-packages (from fancyimpute) (7.1.2)\r\n",
      "Requirement already satisfied: nose in /opt/conda/lib/python3.7/site-packages (from fancyimpute) (1.3.7)\r\n",
      "Requirement already satisfied: six in /opt/conda/lib/python3.7/site-packages (from knnimpute>=0.1.0->fancyimpute) (1.16.0)\r\n",
      "Requirement already satisfied: numpy>=1.10 in /opt/conda/lib/python3.7/site-packages (from knnimpute>=0.1.0->fancyimpute) (1.21.6)\r\n",
      "Requirement already satisfied: threadpoolctl>=2.0.0 in /opt/conda/lib/python3.7/site-packages (from scikit-learn>=0.24.2->fancyimpute) (3.1.0)\r\n",
      "Requirement already satisfied: joblib>=0.11 in /opt/conda/lib/python3.7/site-packages (from scikit-learn>=0.24.2->fancyimpute) (1.1.0)\r\n",
      "Requirement already satisfied: scipy>=1.1.0 in /opt/conda/lib/python3.7/site-packages (from scikit-learn>=0.24.2->fancyimpute) (1.7.3)\r\n",
      "Collecting setuptools>65.5.1\r\n",
      "  Downloading setuptools-68.0.0-py3-none-any.whl (804 kB)\r\n",
      "\u001b[2K     \u001b[90m━━━━━━━━━━━━━━━━━━━━━━━━━━━━━━━━━━━━━━\u001b[0m \u001b[32m804.0/804.0 kB\u001b[0m \u001b[31m42.3 MB/s\u001b[0m eta \u001b[36m0:00:00\u001b[0m\r\n",
      "\u001b[?25hRequirement already satisfied: ecos>=2 in /opt/conda/lib/python3.7/site-packages (from cvxpy->fancyimpute) (2.0.10)\r\n",
      "Collecting scs>=1.1.6\r\n",
      "  Downloading scs-3.2.3-cp37-cp37m-manylinux_2_17_x86_64.manylinux2014_x86_64.whl (10.7 MB)\r\n",
      "\u001b[2K     \u001b[90m━━━━━━━━━━━━━━━━━━━━━━━━━━━━━━━━━━━━━━━━\u001b[0m \u001b[32m10.7/10.7 MB\u001b[0m \u001b[31m66.6 MB/s\u001b[0m eta \u001b[36m0:00:00\u001b[0m\r\n",
      "\u001b[?25hCollecting osqp>=0.4.1\r\n",
      "  Downloading osqp-0.6.3-cp37-cp37m-manylinux_2_5_x86_64.manylinux1_x86_64.manylinux_2_17_x86_64.manylinux2014_x86_64.whl (296 kB)\r\n",
      "\u001b[2K     \u001b[90m━━━━━━━━━━━━━━━━━━━━━━━━━━━━━━━━━━━━━━\u001b[0m \u001b[32m296.7/296.7 kB\u001b[0m \u001b[31m19.7 MB/s\u001b[0m eta \u001b[36m0:00:00\u001b[0m\r\n",
      "\u001b[?25hRequirement already satisfied: packaging in /opt/conda/lib/python3.7/site-packages (from pytest->fancyimpute) (21.3)\r\n",
      "Requirement already satisfied: pluggy<2.0,>=0.12 in /opt/conda/lib/python3.7/site-packages (from pytest->fancyimpute) (1.0.0)\r\n",
      "Requirement already satisfied: py>=1.8.2 in /opt/conda/lib/python3.7/site-packages (from pytest->fancyimpute) (1.11.0)\r\n",
      "Requirement already satisfied: importlib-metadata>=0.12 in /opt/conda/lib/python3.7/site-packages (from pytest->fancyimpute) (4.11.4)\r\n",
      "Requirement already satisfied: tomli>=1.0.0 in /opt/conda/lib/python3.7/site-packages (from pytest->fancyimpute) (2.0.1)\r\n",
      "Requirement already satisfied: attrs>=19.2.0 in /opt/conda/lib/python3.7/site-packages (from pytest->fancyimpute) (21.4.0)\r\n",
      "Requirement already satisfied: iniconfig in /opt/conda/lib/python3.7/site-packages (from pytest->fancyimpute) (1.1.1)\r\n",
      "Requirement already satisfied: typing-extensions>=3.6.4 in /opt/conda/lib/python3.7/site-packages (from importlib-metadata>=0.12->pytest->fancyimpute) (4.2.0)\r\n",
      "Requirement already satisfied: zipp>=0.5 in /opt/conda/lib/python3.7/site-packages (from importlib-metadata>=0.12->pytest->fancyimpute) (3.8.0)\r\n",
      "Collecting qdldl\r\n",
      "  Downloading qdldl-0.1.7.post0-cp37-cp37m-manylinux_2_17_x86_64.manylinux2014_x86_64.whl (1.1 MB)\r\n",
      "\u001b[2K     \u001b[90m━━━━━━━━━━━━━━━━━━━━━━━━━━━━━━━━━━━━━━━━\u001b[0m \u001b[32m1.1/1.1 MB\u001b[0m \u001b[31m50.7 MB/s\u001b[0m eta \u001b[36m0:00:00\u001b[0m\r\n",
      "\u001b[?25hRequirement already satisfied: pyparsing!=3.0.5,>=2.0.2 in /opt/conda/lib/python3.7/site-packages (from packaging->pytest->fancyimpute) (3.0.9)\r\n",
      "Building wheels for collected packages: fancyimpute, knnimpute\r\n",
      "  Building wheel for fancyimpute (setup.py) ... \u001b[?25l-\b \b\\\b \bdone\r\n",
      "\u001b[?25h  Created wheel for fancyimpute: filename=fancyimpute-0.7.0-py3-none-any.whl size=29899 sha256=423874ba07062c182b3970da6a8f2302e01f5de7656727f19bffd5dee7f29453\r\n",
      "  Stored in directory: /root/.cache/pip/wheels/e3/04/06/a1a7d89ef4e631ce6268ea2d8cde04f7290651c1ff1025ce68\r\n",
      "  Building wheel for knnimpute (setup.py) ... \u001b[?25l-\b \b\\\b \bdone\r\n",
      "\u001b[?25h  Created wheel for knnimpute: filename=knnimpute-0.1.0-py3-none-any.whl size=11353 sha256=12c49c2b517f36eae6448680eeae6dc7fd37fc4c8bbe2f7010f0a225154db6eb\r\n",
      "  Stored in directory: /root/.cache/pip/wheels/72/21/a8/a045cacd9838abd5643f6bfa852c0796a99d6b1494760494e0\r\n",
      "Successfully built fancyimpute knnimpute\r\n",
      "Installing collected packages: setuptools, knnimpute, cvxopt, scs, qdldl, osqp, cvxpy, fancyimpute\r\n",
      "  Attempting uninstall: setuptools\r\n",
      "    Found existing installation: setuptools 59.8.0\r\n",
      "    Uninstalling setuptools-59.8.0:\r\n",
      "      Successfully uninstalled setuptools-59.8.0\r\n",
      "\u001b[31mERROR: pip's dependency resolver does not currently take into account all the packages that are installed. This behaviour is the source of the following dependency conflicts.\r\n",
      "beatrix-jupyterlab 3.1.7 requires google-cloud-bigquery-storage, which is not installed.\r\n",
      "thinc 8.0.16 requires typing-extensions<4.0.0.0,>=3.7.4.1; python_version < \"3.8\", but you have typing-extensions 4.2.0 which is incompatible.\r\n",
      "spacy 3.2.4 requires typing-extensions<4.0.0.0,>=3.7.4; python_version < \"3.8\", but you have typing-extensions 4.2.0 which is incompatible.\r\n",
      "gcsfs 2022.3.0 requires fsspec==2022.3.0, but you have fsspec 2022.5.0 which is incompatible.\r\n",
      "cloud-tpu-client 0.10 requires google-api-python-client==1.8.0, but you have google-api-python-client 1.12.11 which is incompatible.\u001b[0m\u001b[31m\r\n",
      "\u001b[0mSuccessfully installed cvxopt-1.3.2 cvxpy-1.3.2 fancyimpute-0.7.0 knnimpute-0.1.0 osqp-0.6.3 qdldl-0.1.7.post0 scs-3.2.3 setuptools-68.0.0\r\n",
      "\u001b[33mWARNING: Running pip as the 'root' user can result in broken permissions and conflicting behaviour with the system package manager. It is recommended to use a virtual environment instead: https://pip.pypa.io/warnings/venv\u001b[0m\u001b[33m\r\n",
      "\u001b[0mNote: you may need to restart the kernel to use updated packages.\n"
     ]
    }
   ],
   "source": [
    "pip install fancyimpute"
   ]
  },
  {
   "cell_type": "code",
   "execution_count": 2,
   "id": "0fbec274",
   "metadata": {
    "execution": {
     "iopub.execute_input": "2023-08-12T19:31:07.982331Z",
     "iopub.status.busy": "2023-08-12T19:31:07.981140Z",
     "iopub.status.idle": "2023-08-12T19:31:10.699286Z",
     "shell.execute_reply": "2023-08-12T19:31:10.698517Z"
    },
    "papermill": {
     "duration": 2.74157,
     "end_time": "2023-08-12T19:31:10.701659",
     "exception": false,
     "start_time": "2023-08-12T19:31:07.960089",
     "status": "completed"
    },
    "tags": []
   },
   "outputs": [
    {
     "data": {
      "text/html": [
       "        <script type=\"text/javascript\">\n",
       "        window.PlotlyConfig = {MathJaxConfig: 'local'};\n",
       "        if (window.MathJax && window.MathJax.Hub && window.MathJax.Hub.Config) {window.MathJax.Hub.Config({SVG: {font: \"STIX-Web\"}});}\n",
       "        if (typeof require !== 'undefined') {\n",
       "        require.undef(\"plotly\");\n",
       "        requirejs.config({\n",
       "            paths: {\n",
       "                'plotly': ['https://cdn.plot.ly/plotly-2.12.1.min']\n",
       "            }\n",
       "        });\n",
       "        require(['plotly'], function(Plotly) {\n",
       "            window._Plotly = Plotly;\n",
       "        });\n",
       "        }\n",
       "        </script>\n",
       "        "
      ]
     },
     "metadata": {},
     "output_type": "display_data"
    }
   ],
   "source": [
    "import pandas as pd\n",
    "import numpy as np\n",
    "\n",
    "import matplotlib.pyplot as plt\n",
    "%matplotlib inline\n",
    "import seaborn as sns\n",
    "import warnings\n",
    "warnings.filterwarnings(\"ignore\")\n",
    "\n",
    "import plotly.express as px\n",
    "import plotly.graph_objects as go\n",
    "import plotly.io as pio\n",
    "import plotly.offline as py\n",
    "py.init_notebook_mode(connected=True)\n",
    "\n",
    "from fancyimpute import KNN"
   ]
  },
  {
   "cell_type": "code",
   "execution_count": 3,
   "id": "027aa006",
   "metadata": {
    "execution": {
     "iopub.execute_input": "2023-08-12T19:31:10.742278Z",
     "iopub.status.busy": "2023-08-12T19:31:10.741800Z",
     "iopub.status.idle": "2023-08-12T19:31:10.823595Z",
     "shell.execute_reply": "2023-08-12T19:31:10.822443Z"
    },
    "papermill": {
     "duration": 0.105142,
     "end_time": "2023-08-12T19:31:10.826017",
     "exception": false,
     "start_time": "2023-08-12T19:31:10.720875",
     "status": "completed"
    },
    "tags": []
   },
   "outputs": [],
   "source": [
    "from sklearn.ensemble import RandomForestClassifier\n",
    "from sklearn.linear_model import LogisticRegression\n",
    "from sklearn.model_selection import train_test_split\n",
    "from sklearn.metrics import accuracy_score, f1_score, recall_score, precision_score\n",
    "from sklearn.model_selection import GridSearchCV\n",
    "from joblib import dump, load"
   ]
  },
  {
   "cell_type": "code",
   "execution_count": 4,
   "id": "ffff4b35",
   "metadata": {
    "execution": {
     "iopub.execute_input": "2023-08-12T19:31:10.864778Z",
     "iopub.status.busy": "2023-08-12T19:31:10.863783Z",
     "iopub.status.idle": "2023-08-12T19:31:17.701742Z",
     "shell.execute_reply": "2023-08-12T19:31:17.700695Z"
    },
    "papermill": {
     "duration": 6.860078,
     "end_time": "2023-08-12T19:31:17.704584",
     "exception": false,
     "start_time": "2023-08-12T19:31:10.844506",
     "status": "completed"
    },
    "tags": []
   },
   "outputs": [
    {
     "data": {
      "text/html": [
       "<style type='text/css'>\n",
       ".datatable table.frame { margin-bottom: 0; }\n",
       ".datatable table.frame thead { border-bottom: none; }\n",
       ".datatable table.frame tr.coltypes td {  color: #FFFFFF;  line-height: 6px;  padding: 0 0.5em;}\n",
       ".datatable .bool    { background: #DDDD99; }\n",
       ".datatable .object  { background: #565656; }\n",
       ".datatable .int     { background: #5D9E5D; }\n",
       ".datatable .float   { background: #4040CC; }\n",
       ".datatable .str     { background: #CC4040; }\n",
       ".datatable .time    { background: #40CC40; }\n",
       ".datatable .row_index {  background: var(--jp-border-color3);  border-right: 1px solid var(--jp-border-color0);  color: var(--jp-ui-font-color3);  font-size: 9px;}\n",
       ".datatable .frame tbody td { text-align: left; }\n",
       ".datatable .frame tr.coltypes .row_index {  background: var(--jp-border-color0);}\n",
       ".datatable th:nth-child(2) { padding-left: 12px; }\n",
       ".datatable .hellipsis {  color: var(--jp-cell-editor-border-color);}\n",
       ".datatable .vellipsis {  background: var(--jp-layout-color0);  color: var(--jp-cell-editor-border-color);}\n",
       ".datatable .na {  color: var(--jp-cell-editor-border-color);  font-size: 80%;}\n",
       ".datatable .sp {  opacity: 0.25;}\n",
       ".datatable .footer { font-size: 9px; }\n",
       ".datatable .frame_dimensions {  background: var(--jp-border-color3);  border-top: 1px solid var(--jp-border-color0);  color: var(--jp-ui-font-color3);  display: inline-block;  opacity: 0.6;  padding: 1px 10px 1px 5px;}\n",
       "</style>\n"
      ],
      "text/plain": [
       "<IPython.core.display.HTML object>"
      ]
     },
     "metadata": {},
     "output_type": "display_data"
    }
   ],
   "source": [
    "import eli5\n",
    "from eli5.sklearn import PermutationImportance\n",
    "import shap"
   ]
  },
  {
   "cell_type": "code",
   "execution_count": 5,
   "id": "6f67f1d5",
   "metadata": {
    "execution": {
     "iopub.execute_input": "2023-08-12T19:31:17.748419Z",
     "iopub.status.busy": "2023-08-12T19:31:17.747039Z",
     "iopub.status.idle": "2023-08-12T19:31:17.849986Z",
     "shell.execute_reply": "2023-08-12T19:31:17.848702Z"
    },
    "papermill": {
     "duration": 0.12733,
     "end_time": "2023-08-12T19:31:17.852881",
     "exception": false,
     "start_time": "2023-08-12T19:31:17.725551",
     "status": "completed"
    },
    "tags": []
   },
   "outputs": [],
   "source": [
    "df = pd.read_csv(\"../input/credit-risk-dataset/credit_risk_dataset.csv\", skipinitialspace = True)"
   ]
  },
  {
   "cell_type": "markdown",
   "id": "a1fc5254",
   "metadata": {
    "papermill": {
     "duration": 0.020022,
     "end_time": "2023-08-12T19:31:17.894099",
     "exception": false,
     "start_time": "2023-08-12T19:31:17.874077",
     "status": "completed"
    },
    "tags": []
   },
   "source": [
    "### get familar with the datasets"
   ]
  },
  {
   "cell_type": "code",
   "execution_count": 6,
   "id": "b3811ac3",
   "metadata": {
    "execution": {
     "iopub.execute_input": "2023-08-12T19:31:17.935862Z",
     "iopub.status.busy": "2023-08-12T19:31:17.935441Z",
     "iopub.status.idle": "2023-08-12T19:31:17.979007Z",
     "shell.execute_reply": "2023-08-12T19:31:17.977292Z"
    },
    "papermill": {
     "duration": 0.067009,
     "end_time": "2023-08-12T19:31:17.981354",
     "exception": false,
     "start_time": "2023-08-12T19:31:17.914345",
     "status": "completed"
    },
    "tags": []
   },
   "outputs": [
    {
     "name": "stdout",
     "output_type": "stream",
     "text": [
      "<class 'pandas.core.frame.DataFrame'>\n",
      "RangeIndex: 32581 entries, 0 to 32580\n",
      "Data columns (total 12 columns):\n",
      " #   Column                      Non-Null Count  Dtype  \n",
      "---  ------                      --------------  -----  \n",
      " 0   person_age                  32581 non-null  int64  \n",
      " 1   person_income               32581 non-null  int64  \n",
      " 2   person_home_ownership       32581 non-null  object \n",
      " 3   person_emp_length           31686 non-null  float64\n",
      " 4   loan_intent                 32581 non-null  object \n",
      " 5   loan_grade                  32581 non-null  object \n",
      " 6   loan_amnt                   32581 non-null  int64  \n",
      " 7   loan_int_rate               29465 non-null  float64\n",
      " 8   loan_status                 32581 non-null  int64  \n",
      " 9   loan_percent_income         32581 non-null  float64\n",
      " 10  cb_person_default_on_file   32581 non-null  object \n",
      " 11  cb_person_cred_hist_length  32581 non-null  int64  \n",
      "dtypes: float64(3), int64(5), object(4)\n",
      "memory usage: 3.0+ MB\n"
     ]
    }
   ],
   "source": [
    "df.info()"
   ]
  },
  {
   "cell_type": "code",
   "execution_count": 7,
   "id": "d36b2c11",
   "metadata": {
    "execution": {
     "iopub.execute_input": "2023-08-12T19:31:18.024639Z",
     "iopub.status.busy": "2023-08-12T19:31:18.024202Z",
     "iopub.status.idle": "2023-08-12T19:31:18.093620Z",
     "shell.execute_reply": "2023-08-12T19:31:18.092604Z"
    },
    "papermill": {
     "duration": 0.094222,
     "end_time": "2023-08-12T19:31:18.096296",
     "exception": false,
     "start_time": "2023-08-12T19:31:18.002074",
     "status": "completed"
    },
    "tags": []
   },
   "outputs": [
    {
     "data": {
      "text/html": [
       "<div>\n",
       "<style scoped>\n",
       "    .dataframe tbody tr th:only-of-type {\n",
       "        vertical-align: middle;\n",
       "    }\n",
       "\n",
       "    .dataframe tbody tr th {\n",
       "        vertical-align: top;\n",
       "    }\n",
       "\n",
       "    .dataframe thead th {\n",
       "        text-align: right;\n",
       "    }\n",
       "</style>\n",
       "<table border=\"1\" class=\"dataframe\">\n",
       "  <thead>\n",
       "    <tr style=\"text-align: right;\">\n",
       "      <th></th>\n",
       "      <th>count</th>\n",
       "      <th>mean</th>\n",
       "      <th>std</th>\n",
       "      <th>min</th>\n",
       "      <th>5%</th>\n",
       "      <th>10%</th>\n",
       "      <th>25%</th>\n",
       "      <th>50%</th>\n",
       "      <th>75%</th>\n",
       "      <th>80%</th>\n",
       "      <th>90%</th>\n",
       "      <th>95%</th>\n",
       "      <th>99%</th>\n",
       "      <th>max</th>\n",
       "    </tr>\n",
       "  </thead>\n",
       "  <tbody>\n",
       "    <tr>\n",
       "      <th>person_age</th>\n",
       "      <td>32581.0</td>\n",
       "      <td>27.734600</td>\n",
       "      <td>6.348078</td>\n",
       "      <td>20.00</td>\n",
       "      <td>22.00</td>\n",
       "      <td>22.00</td>\n",
       "      <td>23.00</td>\n",
       "      <td>26.00</td>\n",
       "      <td>30.00</td>\n",
       "      <td>32.00</td>\n",
       "      <td>36.000</td>\n",
       "      <td>40.00</td>\n",
       "      <td>50.00</td>\n",
       "      <td>144.00</td>\n",
       "    </tr>\n",
       "    <tr>\n",
       "      <th>person_income</th>\n",
       "      <td>32581.0</td>\n",
       "      <td>66074.848470</td>\n",
       "      <td>61983.119168</td>\n",
       "      <td>4000.00</td>\n",
       "      <td>22880.00</td>\n",
       "      <td>28590.00</td>\n",
       "      <td>38500.00</td>\n",
       "      <td>55000.00</td>\n",
       "      <td>79200.00</td>\n",
       "      <td>86000.00</td>\n",
       "      <td>110004.000</td>\n",
       "      <td>138000.00</td>\n",
       "      <td>225200.00</td>\n",
       "      <td>6000000.00</td>\n",
       "    </tr>\n",
       "    <tr>\n",
       "      <th>person_emp_length</th>\n",
       "      <td>31686.0</td>\n",
       "      <td>4.789686</td>\n",
       "      <td>4.142630</td>\n",
       "      <td>0.00</td>\n",
       "      <td>0.00</td>\n",
       "      <td>0.00</td>\n",
       "      <td>2.00</td>\n",
       "      <td>4.00</td>\n",
       "      <td>7.00</td>\n",
       "      <td>8.00</td>\n",
       "      <td>10.000</td>\n",
       "      <td>13.00</td>\n",
       "      <td>18.00</td>\n",
       "      <td>123.00</td>\n",
       "    </tr>\n",
       "    <tr>\n",
       "      <th>loan_amnt</th>\n",
       "      <td>32581.0</td>\n",
       "      <td>9589.371106</td>\n",
       "      <td>6322.086646</td>\n",
       "      <td>500.00</td>\n",
       "      <td>2000.00</td>\n",
       "      <td>3000.00</td>\n",
       "      <td>5000.00</td>\n",
       "      <td>8000.00</td>\n",
       "      <td>12200.00</td>\n",
       "      <td>14500.00</td>\n",
       "      <td>19000.000</td>\n",
       "      <td>24000.00</td>\n",
       "      <td>29800.00</td>\n",
       "      <td>35000.00</td>\n",
       "    </tr>\n",
       "    <tr>\n",
       "      <th>loan_int_rate</th>\n",
       "      <td>29465.0</td>\n",
       "      <td>11.011695</td>\n",
       "      <td>3.240459</td>\n",
       "      <td>5.42</td>\n",
       "      <td>6.03</td>\n",
       "      <td>6.91</td>\n",
       "      <td>7.90</td>\n",
       "      <td>10.99</td>\n",
       "      <td>13.47</td>\n",
       "      <td>13.92</td>\n",
       "      <td>15.298</td>\n",
       "      <td>16.32</td>\n",
       "      <td>18.62</td>\n",
       "      <td>23.22</td>\n",
       "    </tr>\n",
       "    <tr>\n",
       "      <th>loan_status</th>\n",
       "      <td>32581.0</td>\n",
       "      <td>0.218164</td>\n",
       "      <td>0.413006</td>\n",
       "      <td>0.00</td>\n",
       "      <td>0.00</td>\n",
       "      <td>0.00</td>\n",
       "      <td>0.00</td>\n",
       "      <td>0.00</td>\n",
       "      <td>0.00</td>\n",
       "      <td>1.00</td>\n",
       "      <td>1.000</td>\n",
       "      <td>1.00</td>\n",
       "      <td>1.00</td>\n",
       "      <td>1.00</td>\n",
       "    </tr>\n",
       "    <tr>\n",
       "      <th>loan_percent_income</th>\n",
       "      <td>32581.0</td>\n",
       "      <td>0.170203</td>\n",
       "      <td>0.106782</td>\n",
       "      <td>0.00</td>\n",
       "      <td>0.04</td>\n",
       "      <td>0.05</td>\n",
       "      <td>0.09</td>\n",
       "      <td>0.15</td>\n",
       "      <td>0.23</td>\n",
       "      <td>0.25</td>\n",
       "      <td>0.320</td>\n",
       "      <td>0.38</td>\n",
       "      <td>0.50</td>\n",
       "      <td>0.83</td>\n",
       "    </tr>\n",
       "    <tr>\n",
       "      <th>cb_person_cred_hist_length</th>\n",
       "      <td>32581.0</td>\n",
       "      <td>5.804211</td>\n",
       "      <td>4.055001</td>\n",
       "      <td>2.00</td>\n",
       "      <td>2.00</td>\n",
       "      <td>2.00</td>\n",
       "      <td>3.00</td>\n",
       "      <td>4.00</td>\n",
       "      <td>8.00</td>\n",
       "      <td>9.00</td>\n",
       "      <td>11.000</td>\n",
       "      <td>14.00</td>\n",
       "      <td>17.00</td>\n",
       "      <td>30.00</td>\n",
       "    </tr>\n",
       "  </tbody>\n",
       "</table>\n",
       "</div>"
      ],
      "text/plain": [
       "                              count          mean           std      min  \\\n",
       "person_age                  32581.0     27.734600      6.348078    20.00   \n",
       "person_income               32581.0  66074.848470  61983.119168  4000.00   \n",
       "person_emp_length           31686.0      4.789686      4.142630     0.00   \n",
       "loan_amnt                   32581.0   9589.371106   6322.086646   500.00   \n",
       "loan_int_rate               29465.0     11.011695      3.240459     5.42   \n",
       "loan_status                 32581.0      0.218164      0.413006     0.00   \n",
       "loan_percent_income         32581.0      0.170203      0.106782     0.00   \n",
       "cb_person_cred_hist_length  32581.0      5.804211      4.055001     2.00   \n",
       "\n",
       "                                  5%       10%       25%       50%       75%  \\\n",
       "person_age                     22.00     22.00     23.00     26.00     30.00   \n",
       "person_income               22880.00  28590.00  38500.00  55000.00  79200.00   \n",
       "person_emp_length               0.00      0.00      2.00      4.00      7.00   \n",
       "loan_amnt                    2000.00   3000.00   5000.00   8000.00  12200.00   \n",
       "loan_int_rate                   6.03      6.91      7.90     10.99     13.47   \n",
       "loan_status                     0.00      0.00      0.00      0.00      0.00   \n",
       "loan_percent_income             0.04      0.05      0.09      0.15      0.23   \n",
       "cb_person_cred_hist_length      2.00      2.00      3.00      4.00      8.00   \n",
       "\n",
       "                                 80%         90%        95%        99%  \\\n",
       "person_age                     32.00      36.000      40.00      50.00   \n",
       "person_income               86000.00  110004.000  138000.00  225200.00   \n",
       "person_emp_length               8.00      10.000      13.00      18.00   \n",
       "loan_amnt                   14500.00   19000.000   24000.00   29800.00   \n",
       "loan_int_rate                  13.92      15.298      16.32      18.62   \n",
       "loan_status                     1.00       1.000       1.00       1.00   \n",
       "loan_percent_income             0.25       0.320       0.38       0.50   \n",
       "cb_person_cred_hist_length      9.00      11.000      14.00      17.00   \n",
       "\n",
       "                                   max  \n",
       "person_age                      144.00  \n",
       "person_income               6000000.00  \n",
       "person_emp_length               123.00  \n",
       "loan_amnt                     35000.00  \n",
       "loan_int_rate                    23.22  \n",
       "loan_status                       1.00  \n",
       "loan_percent_income               0.83  \n",
       "cb_person_cred_hist_length       30.00  "
      ]
     },
     "execution_count": 7,
     "metadata": {},
     "output_type": "execute_result"
    }
   ],
   "source": [
    "df.describe([0.05, 0.10, 0.25, 0.50, 0.75, 0.80, 0.90, 0.95, 0.99]).T"
   ]
  },
  {
   "cell_type": "code",
   "execution_count": 8,
   "id": "4e2e3975",
   "metadata": {
    "execution": {
     "iopub.execute_input": "2023-08-12T19:31:18.136851Z",
     "iopub.status.busy": "2023-08-12T19:31:18.136448Z",
     "iopub.status.idle": "2023-08-12T19:31:18.159677Z",
     "shell.execute_reply": "2023-08-12T19:31:18.158678Z"
    },
    "papermill": {
     "duration": 0.046203,
     "end_time": "2023-08-12T19:31:18.161972",
     "exception": false,
     "start_time": "2023-08-12T19:31:18.115769",
     "status": "completed"
    },
    "tags": []
   },
   "outputs": [
    {
     "data": {
      "text/plain": [
       "person_age                       0\n",
       "person_income                    0\n",
       "person_home_ownership            0\n",
       "person_emp_length              895\n",
       "loan_intent                      0\n",
       "loan_grade                       0\n",
       "loan_amnt                        0\n",
       "loan_int_rate                 3116\n",
       "loan_status                      0\n",
       "loan_percent_income              0\n",
       "cb_person_default_on_file        0\n",
       "cb_person_cred_hist_length       0\n",
       "dtype: int64"
      ]
     },
     "execution_count": 8,
     "metadata": {},
     "output_type": "execute_result"
    }
   ],
   "source": [
    "df.isnull().sum()"
   ]
  },
  {
   "cell_type": "markdown",
   "id": "30e3148d",
   "metadata": {
    "papermill": {
     "duration": 0.021096,
     "end_time": "2023-08-12T19:31:18.203605",
     "exception": false,
     "start_time": "2023-08-12T19:31:18.182509",
     "status": "completed"
    },
    "tags": []
   },
   "source": [
    "There are two columns that contain missing values, we will think about how to deal with them later"
   ]
  },
  {
   "cell_type": "markdown",
   "id": "e4e35278",
   "metadata": {
    "papermill": {
     "duration": 0.018912,
     "end_time": "2023-08-12T19:31:18.242730",
     "exception": false,
     "start_time": "2023-08-12T19:31:18.223818",
     "status": "completed"
    },
    "tags": []
   },
   "source": [
    "**Note** For our purpose, the loan status column will be the target variable and other columns could be used as features for classification"
   ]
  },
  {
   "cell_type": "code",
   "execution_count": 9,
   "id": "79354099",
   "metadata": {
    "execution": {
     "iopub.execute_input": "2023-08-12T19:31:18.284045Z",
     "iopub.status.busy": "2023-08-12T19:31:18.283559Z",
     "iopub.status.idle": "2023-08-12T19:31:18.294420Z",
     "shell.execute_reply": "2023-08-12T19:31:18.293559Z"
    },
    "papermill": {
     "duration": 0.034073,
     "end_time": "2023-08-12T19:31:18.296634",
     "exception": false,
     "start_time": "2023-08-12T19:31:18.262561",
     "status": "completed"
    },
    "tags": []
   },
   "outputs": [
    {
     "name": "stdout",
     "output_type": "stream",
     "text": [
      "There are total 8 numerical variables to use\n",
      "Those numerical columns are: ['person_age', 'person_income', 'person_emp_length', 'loan_amnt', 'loan_int_rate', 'loan_status', 'loan_percent_income', 'cb_person_cred_hist_length']\n",
      "There are total 4 numerical variables to use\n",
      "Those categorical columns are: ['person_home_ownership', 'loan_intent', 'loan_grade', 'cb_person_default_on_file']\n"
     ]
    }
   ],
   "source": [
    "df_num = df.select_dtypes(include='number')\n",
    "print(f\"There are total {df_num.shape[1]} numerical variables to use\")\n",
    "print(f\"Those numerical columns are: {df_num.columns.tolist()}\")\n",
    "df_cat = df.select_dtypes(include=['object','category'])\n",
    "print(f\"There are total {df_cat.shape[1]} numerical variables to use\")\n",
    "print(f\"Those categorical columns are: {df_cat.columns.tolist()}\")"
   ]
  },
  {
   "cell_type": "markdown",
   "id": "cb972269",
   "metadata": {
    "papermill": {
     "duration": 0.019613,
     "end_time": "2023-08-12T19:31:18.336090",
     "exception": false,
     "start_time": "2023-08-12T19:31:18.316477",
     "status": "completed"
    },
    "tags": []
   },
   "source": [
    "### Look Deeper at Target Variable"
   ]
  },
  {
   "cell_type": "markdown",
   "id": "75b4b88b",
   "metadata": {
    "papermill": {
     "duration": 0.019093,
     "end_time": "2023-08-12T19:31:18.374616",
     "exception": false,
     "start_time": "2023-08-12T19:31:18.355523",
     "status": "completed"
    },
    "tags": []
   },
   "source": [
    "#### stats about target variable itself"
   ]
  },
  {
   "cell_type": "code",
   "execution_count": 10,
   "id": "1dbe0730",
   "metadata": {
    "execution": {
     "iopub.execute_input": "2023-08-12T19:31:18.414913Z",
     "iopub.status.busy": "2023-08-12T19:31:18.414466Z",
     "iopub.status.idle": "2023-08-12T19:31:18.425450Z",
     "shell.execute_reply": "2023-08-12T19:31:18.424802Z"
    },
    "papermill": {
     "duration": 0.033639,
     "end_time": "2023-08-12T19:31:18.427318",
     "exception": false,
     "start_time": "2023-08-12T19:31:18.393679",
     "status": "completed"
    },
    "tags": []
   },
   "outputs": [
    {
     "data": {
      "text/plain": [
       "count    32581.000000\n",
       "mean         0.218164\n",
       "std          0.413006\n",
       "min          0.000000\n",
       "25%          0.000000\n",
       "50%          0.000000\n",
       "75%          0.000000\n",
       "max          1.000000\n",
       "Name: loan_status, dtype: float64"
      ]
     },
     "execution_count": 10,
     "metadata": {},
     "output_type": "execute_result"
    }
   ],
   "source": [
    "df[\"loan_status\"].describe()"
   ]
  },
  {
   "cell_type": "code",
   "execution_count": 11,
   "id": "7a5dd09c",
   "metadata": {
    "execution": {
     "iopub.execute_input": "2023-08-12T19:31:18.469525Z",
     "iopub.status.busy": "2023-08-12T19:31:18.468900Z",
     "iopub.status.idle": "2023-08-12T19:31:18.617657Z",
     "shell.execute_reply": "2023-08-12T19:31:18.616414Z"
    },
    "papermill": {
     "duration": 0.173721,
     "end_time": "2023-08-12T19:31:18.621428",
     "exception": false,
     "start_time": "2023-08-12T19:31:18.447707",
     "status": "completed"
    },
    "tags": []
   },
   "outputs": [
    {
     "data": {
      "text/plain": [
       "<AxesSubplot:ylabel='loan_status'>"
      ]
     },
     "execution_count": 11,
     "metadata": {},
     "output_type": "execute_result"
    },
    {
     "data": {
      "image/png": "[encoded data removed]",
      "text/plain": [
       "<Figure size 432x288 with 1 Axes>"
      ]
     },
     "metadata": {},
     "output_type": "display_data"
    }
   ],
   "source": [
    "df[\"loan_status\"].value_counts().plot.pie()"
   ]
  },
  {
   "cell_type": "markdown",
   "id": "0f59ba31",
   "metadata": {
    "papermill": {
     "duration": 0.034249,
     "end_time": "2023-08-12T19:31:18.701724",
     "exception": false,
     "start_time": "2023-08-12T19:31:18.667475",
     "status": "completed"
    },
    "tags": []
   },
   "source": [
    "**Note** We have more non-default loan than default loans in the dataset, this could require some work to aviod potential issues related to unbalance dataset. "
   ]
  },
  {
   "cell_type": "markdown",
   "id": "b8cb4bf0",
   "metadata": {
    "execution": {
     "iopub.execute_input": "2023-07-23T15:29:07.916827Z",
     "iopub.status.busy": "2023-07-23T15:29:07.916358Z",
     "iopub.status.idle": "2023-07-23T15:29:07.925327Z",
     "shell.execute_reply": "2023-07-23T15:29:07.924594Z",
     "shell.execute_reply.started": "2023-07-23T15:29:07.916782Z"
    },
    "papermill": {
     "duration": 0.020489,
     "end_time": "2023-08-12T19:31:18.743285",
     "exception": false,
     "start_time": "2023-08-12T19:31:18.722796",
     "status": "completed"
    },
    "tags": []
   },
   "source": [
    "### visualize the relationship of a few features and the target value\n",
    "\n",
    "#### person income"
   ]
  },
  {
   "cell_type": "code",
   "execution_count": 12,
   "id": "e063d301",
   "metadata": {
    "execution": {
     "iopub.execute_input": "2023-08-12T19:31:18.786775Z",
     "iopub.status.busy": "2023-08-12T19:31:18.786301Z",
     "iopub.status.idle": "2023-08-12T19:31:18.974876Z",
     "shell.execute_reply": "2023-08-12T19:31:18.973963Z"
    },
    "papermill": {
     "duration": 0.213158,
     "end_time": "2023-08-12T19:31:18.977160",
     "exception": false,
     "start_time": "2023-08-12T19:31:18.764002",
     "status": "completed"
    },
    "tags": []
   },
   "outputs": [
    {
     "data": {
      "text/plain": [
       "<AxesSubplot:>"
      ]
     },
     "execution_count": 12,
     "metadata": {},
     "output_type": "execute_result"
    },
    {
     "data": {
      "image/png": "[encoded data removed]",
      "text/plain": [
       "<Figure size 432x288 with 1 Axes>"
      ]
     },
     "metadata": {
      "needs_background": "light"
     },
     "output_type": "display_data"
    }
   ],
   "source": [
    "df['person_income'].plot.box()"
   ]
  },
  {
   "cell_type": "code",
   "execution_count": 13,
   "id": "1c219d8f",
   "metadata": {
    "execution": {
     "iopub.execute_input": "2023-08-12T19:31:19.021600Z",
     "iopub.status.busy": "2023-08-12T19:31:19.021175Z",
     "iopub.status.idle": "2023-08-12T19:31:19.261978Z",
     "shell.execute_reply": "2023-08-12T19:31:19.260996Z"
    },
    "papermill": {
     "duration": 0.265649,
     "end_time": "2023-08-12T19:31:19.264336",
     "exception": false,
     "start_time": "2023-08-12T19:31:18.998687",
     "status": "completed"
    },
    "tags": []
   },
   "outputs": [
    {
     "data": {
      "text/plain": [
       "<AxesSubplot:ylabel='Frequency'>"
      ]
     },
     "execution_count": 13,
     "metadata": {},
     "output_type": "execute_result"
    },
    {
     "data": {
      "image/png": "[encoded data removed]",
      "text/plain": [
       "<Figure size 432x288 with 1 Axes>"
      ]
     },
     "metadata": {
      "needs_background": "light"
     },
     "output_type": "display_data"
    }
   ],
   "source": [
    "np.log(df['person_income']).plot.hist()"
   ]
  },
  {
   "cell_type": "code",
   "execution_count": 14,
   "id": "e3258fcd",
   "metadata": {
    "execution": {
     "iopub.execute_input": "2023-08-12T19:31:19.310899Z",
     "iopub.status.busy": "2023-08-12T19:31:19.310467Z",
     "iopub.status.idle": "2023-08-12T19:31:19.316398Z",
     "shell.execute_reply": "2023-08-12T19:31:19.315477Z"
    },
    "papermill": {
     "duration": 0.031388,
     "end_time": "2023-08-12T19:31:19.318354",
     "exception": false,
     "start_time": "2023-08-12T19:31:19.286966",
     "status": "completed"
    },
    "tags": []
   },
   "outputs": [],
   "source": [
    "df['log_income'] = np.log(df['person_income'])"
   ]
  },
  {
   "cell_type": "code",
   "execution_count": 15,
   "id": "784b9397",
   "metadata": {
    "execution": {
     "iopub.execute_input": "2023-08-12T19:31:19.362745Z",
     "iopub.status.busy": "2023-08-12T19:31:19.362309Z",
     "iopub.status.idle": "2023-08-12T19:31:19.583720Z",
     "shell.execute_reply": "2023-08-12T19:31:19.582648Z"
    },
    "papermill": {
     "duration": 0.245556,
     "end_time": "2023-08-12T19:31:19.585943",
     "exception": false,
     "start_time": "2023-08-12T19:31:19.340387",
     "status": "completed"
    },
    "tags": []
   },
   "outputs": [
    {
     "data": {
      "image/png": "[encoded data removed]",
      "text/plain": [
       "<Figure size 720x360 with 1 Axes>"
      ]
     },
     "metadata": {
      "needs_background": "light"
     },
     "output_type": "display_data"
    }
   ],
   "source": [
    "## take a look at the distribution of person income with different loan status\n",
    "f, ax = plt.subplots(figsize = (10, 5))\n",
    "sns.boxplot(x = 'loan_status', y='log_income', data = df[['loan_status', 'log_income']])\n",
    "df = df.drop('log_income', axis = 1)"
   ]
  },
  {
   "cell_type": "markdown",
   "id": "3da3f09a",
   "metadata": {
    "papermill": {
     "duration": 0.021817,
     "end_time": "2023-08-12T19:31:19.630467",
     "exception": false,
     "start_time": "2023-08-12T19:31:19.608650",
     "status": "completed"
    },
    "tags": []
   },
   "source": [
    "**Note** We are able to see the persons who have no default loans have a higher income than the ones who have a default loan."
   ]
  },
  {
   "cell_type": "markdown",
   "id": "826190a1",
   "metadata": {
    "papermill": {
     "duration": 0.02124,
     "end_time": "2023-08-12T19:31:19.673055",
     "exception": false,
     "start_time": "2023-08-12T19:31:19.651815",
     "status": "completed"
    },
    "tags": []
   },
   "source": [
    "#### Employee length"
   ]
  },
  {
   "cell_type": "code",
   "execution_count": 16,
   "id": "d2a95e0e",
   "metadata": {
    "execution": {
     "iopub.execute_input": "2023-08-12T19:31:19.720392Z",
     "iopub.status.busy": "2023-08-12T19:31:19.719922Z",
     "iopub.status.idle": "2023-08-12T19:31:20.086671Z",
     "shell.execute_reply": "2023-08-12T19:31:20.085659Z"
    },
    "papermill": {
     "duration": 0.393287,
     "end_time": "2023-08-12T19:31:20.089072",
     "exception": false,
     "start_time": "2023-08-12T19:31:19.695785",
     "status": "completed"
    },
    "tags": []
   },
   "outputs": [
    {
     "data": {
      "text/plain": [
       "<AxesSubplot:xlabel='person_emp_length'>"
      ]
     },
     "execution_count": 16,
     "metadata": {},
     "output_type": "execute_result"
    },
    {
     "data": {
      "image/png": "[encoded data removed]",
      "text/plain": [
       "<Figure size 720x360 with 2 Axes>"
      ]
     },
     "metadata": {
      "needs_background": "light"
     },
     "output_type": "display_data"
    }
   ],
   "source": [
    "df_emp_length = df.groupby('person_emp_length', as_index=False)['loan_status'].sum().merge(df.groupby('person_emp_length', as_index=False).size())\n",
    "df_emp_length['loan_default_perc'] = df_emp_length['loan_status'] / df_emp_length['size']*100\n",
    "df_emp_length = df_emp_length[df_emp_length['size']>30]\n",
    "fig, ax = plt.subplots(figsize = (10, 5))\n",
    "df_emp_length.plot.scatter(x = 'person_emp_length', y='loan_default_perc', ax = ax, c = 'blue')\n",
    "ax1 = plt.twinx()\n",
    "df_emp_length.plot.line(x = 'person_emp_length', y='size', ax = ax1, c = 'red')"
   ]
  },
  {
   "cell_type": "markdown",
   "id": "c3f8dbe2",
   "metadata": {
    "papermill": {
     "duration": 0.023076,
     "end_time": "2023-08-12T19:31:20.135994",
     "exception": false,
     "start_time": "2023-08-12T19:31:20.112918",
     "status": "completed"
    },
    "tags": []
   },
   "source": [
    "**Note** With the data we have, we see that the employee length and the loan default percentage among the group have a negative correlationship"
   ]
  },
  {
   "cell_type": "markdown",
   "id": "a99ace2d",
   "metadata": {
    "papermill": {
     "duration": 0.022552,
     "end_time": "2023-08-12T19:31:20.182117",
     "exception": false,
     "start_time": "2023-08-12T19:31:20.159565",
     "status": "completed"
    },
    "tags": []
   },
   "source": [
    "### corelation with target value"
   ]
  },
  {
   "cell_type": "code",
   "execution_count": 17,
   "id": "0cd7c670",
   "metadata": {
    "execution": {
     "iopub.execute_input": "2023-08-12T19:31:20.229110Z",
     "iopub.status.busy": "2023-08-12T19:31:20.228196Z",
     "iopub.status.idle": "2023-08-12T19:31:20.260116Z",
     "shell.execute_reply": "2023-08-12T19:31:20.259302Z"
    },
    "papermill": {
     "duration": 0.05769,
     "end_time": "2023-08-12T19:31:20.262367",
     "exception": false,
     "start_time": "2023-08-12T19:31:20.204677",
     "status": "completed"
    },
    "tags": []
   },
   "outputs": [],
   "source": [
    "# First, encode categorical features, use one hot encoding here \n",
    "df = pd.get_dummies(df, columns=['person_home_ownership', 'loan_intent','loan_grade', 'cb_person_default_on_file'])"
   ]
  },
  {
   "cell_type": "code",
   "execution_count": 18,
   "id": "7e64cde4",
   "metadata": {
    "execution": {
     "iopub.execute_input": "2023-08-12T19:31:20.309701Z",
     "iopub.status.busy": "2023-08-12T19:31:20.309278Z",
     "iopub.status.idle": "2023-08-12T19:31:21.126887Z",
     "shell.execute_reply": "2023-08-12T19:31:21.125900Z"
    },
    "papermill": {
     "duration": 0.844378,
     "end_time": "2023-08-12T19:31:21.129797",
     "exception": false,
     "start_time": "2023-08-12T19:31:20.285419",
     "status": "completed"
    },
    "tags": []
   },
   "outputs": [
    {
     "data": {
      "application/vnd.plotly.v1+json": {
       "config": {
        "plotlyServerURL": "https://plot.ly"
       },
       "data": [
        {
         "alignmentgroup": "True",
         "hovertemplate": "Features=%{x}<br>Correlation=%{y}<extra></extra>",
         "legendgroup": "",
         "marker": {
          "color": "#636efa",
          "pattern": {
           "shape": ""
          }
         },
         "name": "",
         "offsetgroup": "",
         "orientation": "v",
         "showlegend": false,
         "textposition": "auto",
         "type": "bar",
         "x": [
          "loan_status",
          "loan_percent_income",
          "loan_int_rate",
          "loan_grade_D",
          "person_home_ownership_RENT",
          "loan_grade_E",
          "cb_person_default_on_file_Y",
          "loan_amnt",
          "loan_grade_F",
          "loan_grade_G",
          "loan_intent_DEBTCONSOLIDATION",
          "loan_intent_MEDICAL",
          "loan_intent_HOMEIMPROVEMENT",
          "person_home_ownership_OTHER",
          "loan_grade_C",
          "cb_person_cred_hist_length",
          "loan_intent_PERSONAL",
          "person_age",
          "loan_intent_EDUCATION",
          "loan_intent_VENTURE",
          "person_emp_length",
          "loan_grade_B",
          "person_home_ownership_OWN",
          "person_income",
          "cb_person_default_on_file_N",
          "person_home_ownership_MORTGAGE",
          "loan_grade_A"
         ],
         "xaxis": "x",
         "y": [
          1.0,
          0.37936646846126054,
          0.3351326114498812,
          0.3189984868380072,
          0.2384299630152558,
          0.1801216318186392,
          0.1791413737074142,
          0.10537567668605065,
          0.10184117287857707,
          0.08230643835931879,
          0.07154954363041013,
          0.0565951640587125,
          0.036606690829288434,
          0.012543208638017483,
          -0.013031218779770197,
          -0.015529432353992588,
          -0.021094006936948857,
          -0.021629356000169155,
          -0.05534753030341266,
          -0.07827422234702712,
          -0.08248851370566838,
          -0.09218988033870774,
          -0.10196000884173881,
          -0.14444948823455353,
          -0.17914137370741426,
          -0.1876373553741901,
          -0.20189077223308807
         ],
         "yaxis": "y"
        }
       ],
       "layout": {
        "barmode": "relative",
        "legend": {
         "tracegroupgap": 0
        },
        "template": {
         "data": {
          "bar": [
           {
            "error_x": {
             "color": "#2a3f5f"
            },
            "error_y": {
             "color": "#2a3f5f"
            },
            "marker": {
             "line": {
              "color": "#E5ECF6",
              "width": 0.5
             },
             "pattern": {
              "fillmode": "overlay",
              "size": 10,
              "solidity": 0.2
             }
            },
            "type": "bar"
           }
          ],
          "barpolar": [
           {
            "marker": {
             "line": {
              "color": "#E5ECF6",
              "width": 0.5
             },
             "pattern": {
              "fillmode": "overlay",
              "size": 10,
              "solidity": 0.2
             }
            },
            "type": "barpolar"
           }
          ],
          "carpet": [
           {
            "aaxis": {
             "endlinecolor": "#2a3f5f",
             "gridcolor": "white",
             "linecolor": "white",
             "minorgridcolor": "white",
             "startlinecolor": "#2a3f5f"
            },
            "baxis": {
             "endlinecolor": "#2a3f5f",
             "gridcolor": "white",
             "linecolor": "white",
             "minorgridcolor": "white",
             "startlinecolor": "#2a3f5f"
            },
            "type": "carpet"
           }
          ],
          "choropleth": [
           {
            "colorbar": {
             "outlinewidth": 0,
             "ticks": ""
            },
            "type": "choropleth"
           }
          ],
          "contour": [
           {
            "colorbar": {
             "outlinewidth": 0,
             "ticks": ""
            },
            "colorscale": [
             [
              0.0,
              "#0d0887"
             ],
             [
              0.1111111111111111,
              "#46039f"
             ],
             [
              0.2222222222222222,
              "#7201a8"
             ],
             [
              0.3333333333333333,
              "#9c179e"
             ],
             [
              0.4444444444444444,
              "#bd3786"
             ],
             [
              0.5555555555555556,
              "#d8576b"
             ],
             [
              0.6666666666666666,
              "#ed7953"
             ],
             [
              0.7777777777777778,
              "#fb9f3a"
             ],
             [
              0.8888888888888888,
              "#fdca26"
             ],
             [
              1.0,
              "#f0f921"
             ]
            ],
            "type": "contour"
           }
          ],
          "contourcarpet": [
           {
            "colorbar": {
             "outlinewidth": 0,
             "ticks": ""
            },
            "type": "contourcarpet"
           }
          ],
          "heatmap": [
           {
            "colorbar": {
             "outlinewidth": 0,
             "ticks": ""
            },
            "colorscale": [
             [
              0.0,
              "#0d0887"
             ],
             [
              0.1111111111111111,
              "#46039f"
             ],
             [
              0.2222222222222222,
              "#7201a8"
             ],
             [
              0.3333333333333333,
              "#9c179e"
             ],
             [
              0.4444444444444444,
              "#bd3786"
             ],
             [
              0.5555555555555556,
              "#d8576b"
             ],
             [
              0.6666666666666666,
              "#ed7953"
             ],
             [
              0.7777777777777778,
              "#fb9f3a"
             ],
             [
              0.8888888888888888,
              "#fdca26"
             ],
             [
              1.0,
              "#f0f921"
             ]
            ],
            "type": "heatmap"
           }
          ],
          "heatmapgl": [
           {
            "colorbar": {
             "outlinewidth": 0,
             "ticks": ""
            },
            "colorscale": [
             [
              0.0,
              "#0d0887"
             ],
             [
              0.1111111111111111,
              "#46039f"
             ],
             [
              0.2222222222222222,
              "#7201a8"
             ],
             [
              0.3333333333333333,
              "#9c179e"
             ],
             [
              0.4444444444444444,
              "#bd3786"
             ],
             [
              0.5555555555555556,
              "#d8576b"
             ],
             [
              0.6666666666666666,
              "#ed7953"
             ],
             [
              0.7777777777777778,
              "#fb9f3a"
             ],
             [
              0.8888888888888888,
              "#fdca26"
             ],
             [
              1.0,
              "#f0f921"
             ]
            ],
            "type": "heatmapgl"
           }
          ],
          "histogram": [
           {
            "marker": {
             "pattern": {
              "fillmode": "overlay",
              "size": 10,
              "solidity": 0.2
             }
            },
            "type": "histogram"
           }
          ],
          "histogram2d": [
           {
            "colorbar": {
             "outlinewidth": 0,
             "ticks": ""
            },
            "colorscale": [
             [
              0.0,
              "#0d0887"
             ],
             [
              0.1111111111111111,
              "#46039f"
             ],
             [
              0.2222222222222222,
              "#7201a8"
             ],
             [
              0.3333333333333333,
              "#9c179e"
             ],
             [
              0.4444444444444444,
              "#bd3786"
             ],
             [
              0.5555555555555556,
              "#d8576b"
             ],
             [
              0.6666666666666666,
              "#ed7953"
             ],
             [
              0.7777777777777778,
              "#fb9f3a"
             ],
             [
              0.8888888888888888,
              "#fdca26"
             ],
             [
              1.0,
              "#f0f921"
             ]
            ],
            "type": "histogram2d"
           }
          ],
          "histogram2dcontour": [
           {
            "colorbar": {
             "outlinewidth": 0,
             "ticks": ""
            },
            "colorscale": [
             [
              0.0,
              "#0d0887"
             ],
             [
              0.1111111111111111,
              "#46039f"
             ],
             [
              0.2222222222222222,
              "#7201a8"
             ],
             [
              0.3333333333333333,
              "#9c179e"
             ],
             [
              0.4444444444444444,
              "#bd3786"
             ],
             [
              0.5555555555555556,
              "#d8576b"
             ],
             [
              0.6666666666666666,
              "#ed7953"
             ],
             [
              0.7777777777777778,
              "#fb9f3a"
             ],
             [
              0.8888888888888888,
              "#fdca26"
             ],
             [
              1.0,
              "#f0f921"
             ]
            ],
            "type": "histogram2dcontour"
           }
          ],
          "mesh3d": [
           {
            "colorbar": {
             "outlinewidth": 0,
             "ticks": ""
            },
            "type": "mesh3d"
           }
          ],
          "parcoords": [
           {
            "line": {
             "colorbar": {
              "outlinewidth": 0,
              "ticks": ""
             }
            },
            "type": "parcoords"
           }
          ],
          "pie": [
           {
            "automargin": true,
            "type": "pie"
           }
          ],
          "scatter": [
           {
            "fillpattern": {
             "fillmode": "overlay",
             "size": 10,
             "solidity": 0.2
            },
            "type": "scatter"
           }
          ],
          "scatter3d": [
           {
            "line": {
             "colorbar": {
              "outlinewidth": 0,
              "ticks": ""
             }
            },
            "marker": {
             "colorbar": {
              "outlinewidth": 0,
              "ticks": ""
             }
            },
            "type": "scatter3d"
           }
          ],
          "scattercarpet": [
           {
            "marker": {
             "colorbar": {
              "outlinewidth": 0,
              "ticks": ""
             }
            },
            "type": "scattercarpet"
           }
          ],
          "scattergeo": [
           {
            "marker": {
             "colorbar": {
              "outlinewidth": 0,
              "ticks": ""
             }
            },
            "type": "scattergeo"
           }
          ],
          "scattergl": [
           {
            "marker": {
             "colorbar": {
              "outlinewidth": 0,
              "ticks": ""
             }
            },
            "type": "scattergl"
           }
          ],
          "scattermapbox": [
           {
            "marker": {
             "colorbar": {
              "outlinewidth": 0,
              "ticks": ""
             }
            },
            "type": "scattermapbox"
           }
          ],
          "scatterpolar": [
           {
            "marker": {
             "colorbar": {
              "outlinewidth": 0,
              "ticks": ""
             }
            },
            "type": "scatterpolar"
           }
          ],
          "scatterpolargl": [
           {
            "marker": {
             "colorbar": {
              "outlinewidth": 0,
              "ticks": ""
             }
            },
            "type": "scatterpolargl"
           }
          ],
          "scatterternary": [
           {
            "marker": {
             "colorbar": {
              "outlinewidth": 0,
              "ticks": ""
             }
            },
            "type": "scatterternary"
           }
          ],
          "surface": [
           {
            "colorbar": {
             "outlinewidth": 0,
             "ticks": ""
            },
            "colorscale": [
             [
              0.0,
              "#0d0887"
             ],
             [
              0.1111111111111111,
              "#46039f"
             ],
             [
              0.2222222222222222,
              "#7201a8"
             ],
             [
              0.3333333333333333,
              "#9c179e"
             ],
             [
              0.4444444444444444,
              "#bd3786"
             ],
             [
              0.5555555555555556,
              "#d8576b"
             ],
             [
              0.6666666666666666,
              "#ed7953"
             ],
             [
              0.7777777777777778,
              "#fb9f3a"
             ],
             [
              0.8888888888888888,
              "#fdca26"
             ],
             [
              1.0,
              "#f0f921"
             ]
            ],
            "type": "surface"
           }
          ],
          "table": [
           {
            "cells": {
             "fill": {
              "color": "#EBF0F8"
             },
             "line": {
              "color": "white"
             }
            },
            "header": {
             "fill": {
              "color": "#C8D4E3"
             },
             "line": {
              "color": "white"
             }
            },
            "type": "table"
           }
          ]
         },
         "layout": {
          "annotationdefaults": {
           "arrowcolor": "#2a3f5f",
           "arrowhead": 0,
           "arrowwidth": 1
          },
          "autotypenumbers": "strict",
          "coloraxis": {
           "colorbar": {
            "outlinewidth": 0,
            "ticks": ""
           }
          },
          "colorscale": {
           "diverging": [
            [
             0,
             "#8e0152"
            ],
            [
             0.1,
             "#c51b7d"
            ],
            [
             0.2,
             "#de77ae"
            ],
            [
             0.3,
             "#f1b6da"
            ],
            [
             0.4,
             "#fde0ef"
            ],
            [
             0.5,
             "#f7f7f7"
            ],
            [
             0.6,
             "#e6f5d0"
            ],
            [
             0.7,
             "#b8e186"
            ],
            [
             0.8,
             "#7fbc41"
            ],
            [
             0.9,
             "#4d9221"
            ],
            [
             1,
             "#276419"
            ]
           ],
           "sequential": [
            [
             0.0,
             "#0d0887"
            ],
            [
             0.1111111111111111,
             "#46039f"
            ],
            [
             0.2222222222222222,
             "#7201a8"
            ],
            [
             0.3333333333333333,
             "#9c179e"
            ],
            [
             0.4444444444444444,
             "#bd3786"
            ],
            [
             0.5555555555555556,
             "#d8576b"
            ],
            [
             0.6666666666666666,
             "#ed7953"
            ],
            [
             0.7777777777777778,
             "#fb9f3a"
            ],
            [
             0.8888888888888888,
             "#fdca26"
            ],
            [
             1.0,
             "#f0f921"
            ]
           ],
           "sequentialminus": [
            [
             0.0,
             "#0d0887"
            ],
            [
             0.1111111111111111,
             "#46039f"
            ],
            [
             0.2222222222222222,
             "#7201a8"
            ],
            [
             0.3333333333333333,
             "#9c179e"
            ],
            [
             0.4444444444444444,
             "#bd3786"
            ],
            [
             0.5555555555555556,
             "#d8576b"
            ],
            [
             0.6666666666666666,
             "#ed7953"
            ],
            [
             0.7777777777777778,
             "#fb9f3a"
            ],
            [
             0.8888888888888888,
             "#fdca26"
            ],
            [
             1.0,
             "#f0f921"
            ]
           ]
          },
          "colorway": [
           "#636efa",
           "#EF553B",
           "#00cc96",
           "#ab63fa",
           "#FFA15A",
           "#19d3f3",
           "#FF6692",
           "#B6E880",
           "#FF97FF",
           "#FECB52"
          ],
          "font": {
           "color": "#2a3f5f"
          },
          "geo": {
           "bgcolor": "white",
           "lakecolor": "white",
           "landcolor": "#E5ECF6",
           "showlakes": true,
           "showland": true,
           "subunitcolor": "white"
          },
          "hoverlabel": {
           "align": "left"
          },
          "hovermode": "closest",
          "mapbox": {
           "style": "light"
          },
          "paper_bgcolor": "white",
          "plot_bgcolor": "#E5ECF6",
          "polar": {
           "angularaxis": {
            "gridcolor": "white",
            "linecolor": "white",
            "ticks": ""
           },
           "bgcolor": "#E5ECF6",
           "radialaxis": {
            "gridcolor": "white",
            "linecolor": "white",
            "ticks": ""
           }
          },
          "scene": {
           "xaxis": {
            "backgroundcolor": "#E5ECF6",
            "gridcolor": "white",
            "gridwidth": 2,
            "linecolor": "white",
            "showbackground": true,
            "ticks": "",
            "zerolinecolor": "white"
           },
           "yaxis": {
            "backgroundcolor": "#E5ECF6",
            "gridcolor": "white",
            "gridwidth": 2,
            "linecolor": "white",
            "showbackground": true,
            "ticks": "",
            "zerolinecolor": "white"
           },
           "zaxis": {
            "backgroundcolor": "#E5ECF6",
            "gridcolor": "white",
            "gridwidth": 2,
            "linecolor": "white",
            "showbackground": true,
            "ticks": "",
            "zerolinecolor": "white"
           }
          },
          "shapedefaults": {
           "line": {
            "color": "#2a3f5f"
           }
          },
          "ternary": {
           "aaxis": {
            "gridcolor": "white",
            "linecolor": "white",
            "ticks": ""
           },
           "baxis": {
            "gridcolor": "white",
            "linecolor": "white",
            "ticks": ""
           },
           "bgcolor": "#E5ECF6",
           "caxis": {
            "gridcolor": "white",
            "linecolor": "white",
            "ticks": ""
           }
          },
          "title": {
           "x": 0.05
          },
          "xaxis": {
           "automargin": true,
           "gridcolor": "white",
           "linecolor": "white",
           "ticks": "",
           "title": {
            "standoff": 15
           },
           "zerolinecolor": "white",
           "zerolinewidth": 2
          },
          "yaxis": {
           "automargin": true,
           "gridcolor": "white",
           "linecolor": "white",
           "ticks": "",
           "title": {
            "standoff": 15
           },
           "zerolinecolor": "white",
           "zerolinewidth": 2
          }
         }
        },
        "title": {
         "text": "correlation with target value"
        },
        "xaxis": {
         "anchor": "y",
         "domain": [
          0.0,
          1.0
         ],
         "title": {
          "text": "Features"
         }
        },
        "yaxis": {
         "anchor": "x",
         "domain": [
          0.0,
          1.0
         ],
         "title": {
          "text": "Correlation"
         }
        }
       }
      },
      "text/html": [
       "<div>                            <div id=\"d071fc52-c540-4d48-8981-116101f86fb7\" class=\"plotly-graph-div\" style=\"height:525px; width:100%;\"></div>            <script type=\"text/javascript\">                require([\"plotly\"], function(Plotly) {                    window.PLOTLYENV=window.PLOTLYENV || {};                                    if (document.getElementById(\"d071fc52-c540-4d48-8981-116101f86fb7\")) {                    Plotly.newPlot(                        \"d071fc52-c540-4d48-8981-116101f86fb7\",                        [{\"alignmentgroup\":\"True\",\"hovertemplate\":\"Features=%{x}<br>Correlation=%{y}<extra></extra>\",\"legendgroup\":\"\",\"marker\":{\"color\":\"#636efa\",\"pattern\":{\"shape\":\"\"}},\"name\":\"\",\"offsetgroup\":\"\",\"orientation\":\"v\",\"showlegend\":false,\"textposition\":\"auto\",\"x\":[\"loan_status\",\"loan_percent_income\",\"loan_int_rate\",\"loan_grade_D\",\"person_home_ownership_RENT\",\"loan_grade_E\",\"cb_person_default_on_file_Y\",\"loan_amnt\",\"loan_grade_F\",\"loan_grade_G\",\"loan_intent_DEBTCONSOLIDATION\",\"loan_intent_MEDICAL\",\"loan_intent_HOMEIMPROVEMENT\",\"person_home_ownership_OTHER\",\"loan_grade_C\",\"cb_person_cred_hist_length\",\"loan_intent_PERSONAL\",\"person_age\",\"loan_intent_EDUCATION\",\"loan_intent_VENTURE\",\"person_emp_length\",\"loan_grade_B\",\"person_home_ownership_OWN\",\"person_income\",\"cb_person_default_on_file_N\",\"person_home_ownership_MORTGAGE\",\"loan_grade_A\"],\"xaxis\":\"x\",\"y\":[1.0,0.37936646846126054,0.3351326114498812,0.3189984868380072,0.2384299630152558,0.1801216318186392,0.1791413737074142,0.10537567668605065,0.10184117287857707,0.08230643835931879,0.07154954363041013,0.0565951640587125,0.036606690829288434,0.012543208638017483,-0.013031218779770197,-0.015529432353992588,-0.021094006936948857,-0.021629356000169155,-0.05534753030341266,-0.07827422234702712,-0.08248851370566838,-0.09218988033870774,-0.10196000884173881,-0.14444948823455353,-0.17914137370741426,-0.1876373553741901,-0.20189077223308807],\"yaxis\":\"y\",\"type\":\"bar\"}],                        {\"template\":{\"data\":{\"histogram2dcontour\":[{\"type\":\"histogram2dcontour\",\"colorbar\":{\"outlinewidth\":0,\"ticks\":\"\"},\"colorscale\":[[0.0,\"#0d0887\"],[0.1111111111111111,\"#46039f\"],[0.2222222222222222,\"#7201a8\"],[0.3333333333333333,\"#9c179e\"],[0.4444444444444444,\"#bd3786\"],[0.5555555555555556,\"#d8576b\"],[0.6666666666666666,\"#ed7953\"],[0.7777777777777778,\"#fb9f3a\"],[0.8888888888888888,\"#fdca26\"],[1.0,\"#f0f921\"]]}],\"choropleth\":[{\"type\":\"choropleth\",\"colorbar\":{\"outlinewidth\":0,\"ticks\":\"\"}}],\"histogram2d\":[{\"type\":\"histogram2d\",\"colorbar\":{\"outlinewidth\":0,\"ticks\":\"\"},\"colorscale\":[[0.0,\"#0d0887\"],[0.1111111111111111,\"#46039f\"],[0.2222222222222222,\"#7201a8\"],[0.3333333333333333,\"#9c179e\"],[0.4444444444444444,\"#bd3786\"],[0.5555555555555556,\"#d8576b\"],[0.6666666666666666,\"#ed7953\"],[0.7777777777777778,\"#fb9f3a\"],[0.8888888888888888,\"#fdca26\"],[1.0,\"#f0f921\"]]}],\"heatmap\":[{\"type\":\"heatmap\",\"colorbar\":{\"outlinewidth\":0,\"ticks\":\"\"},\"colorscale\":[[0.0,\"#0d0887\"],[0.1111111111111111,\"#46039f\"],[0.2222222222222222,\"#7201a8\"],[0.3333333333333333,\"#9c179e\"],[0.4444444444444444,\"#bd3786\"],[0.5555555555555556,\"#d8576b\"],[0.6666666666666666,\"#ed7953\"],[0.7777777777777778,\"#fb9f3a\"],[0.8888888888888888,\"#fdca26\"],[1.0,\"#f0f921\"]]}],\"heatmapgl\":[{\"type\":\"heatmapgl\",\"colorbar\":{\"outlinewidth\":0,\"ticks\":\"\"},\"colorscale\":[[0.0,\"#0d0887\"],[0.1111111111111111,\"#46039f\"],[0.2222222222222222,\"#7201a8\"],[0.3333333333333333,\"#9c179e\"],[0.4444444444444444,\"#bd3786\"],[0.5555555555555556,\"#d8576b\"],[0.6666666666666666,\"#ed7953\"],[0.7777777777777778,\"#fb9f3a\"],[0.8888888888888888,\"#fdca26\"],[1.0,\"#f0f921\"]]}],\"contourcarpet\":[{\"type\":\"contourcarpet\",\"colorbar\":{\"outlinewidth\":0,\"ticks\":\"\"}}],\"contour\":[{\"type\":\"contour\",\"colorbar\":{\"outlinewidth\":0,\"ticks\":\"\"},\"colorscale\":[[0.0,\"#0d0887\"],[0.1111111111111111,\"#46039f\"],[0.2222222222222222,\"#7201a8\"],[0.3333333333333333,\"#9c179e\"],[0.4444444444444444,\"#bd3786\"],[0.5555555555555556,\"#d8576b\"],[0.6666666666666666,\"#ed7953\"],[0.7777777777777778,\"#fb9f3a\"],[0.8888888888888888,\"#fdca26\"],[1.0,\"#f0f921\"]]}],\"surface\":[{\"type\":\"surface\",\"colorbar\":{\"outlinewidth\":0,\"ticks\":\"\"},\"colorscale\":[[0.0,\"#0d0887\"],[0.1111111111111111,\"#46039f\"],[0.2222222222222222,\"#7201a8\"],[0.3333333333333333,\"#9c179e\"],[0.4444444444444444,\"#bd3786\"],[0.5555555555555556,\"#d8576b\"],[0.6666666666666666,\"#ed7953\"],[0.7777777777777778,\"#fb9f3a\"],[0.8888888888888888,\"#fdca26\"],[1.0,\"#f0f921\"]]}],\"mesh3d\":[{\"type\":\"mesh3d\",\"colorbar\":{\"outlinewidth\":0,\"ticks\":\"\"}}],\"scatter\":[{\"fillpattern\":{\"fillmode\":\"overlay\",\"size\":10,\"solidity\":0.2},\"type\":\"scatter\"}],\"parcoords\":[{\"type\":\"parcoords\",\"line\":{\"colorbar\":{\"outlinewidth\":0,\"ticks\":\"\"}}}],\"scatterpolargl\":[{\"type\":\"scatterpolargl\",\"marker\":{\"colorbar\":{\"outlinewidth\":0,\"ticks\":\"\"}}}],\"bar\":[{\"error_x\":{\"color\":\"#2a3f5f\"},\"error_y\":{\"color\":\"#2a3f5f\"},\"marker\":{\"line\":{\"color\":\"#E5ECF6\",\"width\":0.5},\"pattern\":{\"fillmode\":\"overlay\",\"size\":10,\"solidity\":0.2}},\"type\":\"bar\"}],\"scattergeo\":[{\"type\":\"scattergeo\",\"marker\":{\"colorbar\":{\"outlinewidth\":0,\"ticks\":\"\"}}}],\"scatterpolar\":[{\"type\":\"scatterpolar\",\"marker\":{\"colorbar\":{\"outlinewidth\":0,\"ticks\":\"\"}}}],\"histogram\":[{\"marker\":{\"pattern\":{\"fillmode\":\"overlay\",\"size\":10,\"solidity\":0.2}},\"type\":\"histogram\"}],\"scattergl\":[{\"type\":\"scattergl\",\"marker\":{\"colorbar\":{\"outlinewidth\":0,\"ticks\":\"\"}}}],\"scatter3d\":[{\"type\":\"scatter3d\",\"line\":{\"colorbar\":{\"outlinewidth\":0,\"ticks\":\"\"}},\"marker\":{\"colorbar\":{\"outlinewidth\":0,\"ticks\":\"\"}}}],\"scattermapbox\":[{\"type\":\"scattermapbox\",\"marker\":{\"colorbar\":{\"outlinewidth\":0,\"ticks\":\"\"}}}],\"scatterternary\":[{\"type\":\"scatterternary\",\"marker\":{\"colorbar\":{\"outlinewidth\":0,\"ticks\":\"\"}}}],\"scattercarpet\":[{\"type\":\"scattercarpet\",\"marker\":{\"colorbar\":{\"outlinewidth\":0,\"ticks\":\"\"}}}],\"carpet\":[{\"aaxis\":{\"endlinecolor\":\"#2a3f5f\",\"gridcolor\":\"white\",\"linecolor\":\"white\",\"minorgridcolor\":\"white\",\"startlinecolor\":\"#2a3f5f\"},\"baxis\":{\"endlinecolor\":\"#2a3f5f\",\"gridcolor\":\"white\",\"linecolor\":\"white\",\"minorgridcolor\":\"white\",\"startlinecolor\":\"#2a3f5f\"},\"type\":\"carpet\"}],\"table\":[{\"cells\":{\"fill\":{\"color\":\"#EBF0F8\"},\"line\":{\"color\":\"white\"}},\"header\":{\"fill\":{\"color\":\"#C8D4E3\"},\"line\":{\"color\":\"white\"}},\"type\":\"table\"}],\"barpolar\":[{\"marker\":{\"line\":{\"color\":\"#E5ECF6\",\"width\":0.5},\"pattern\":{\"fillmode\":\"overlay\",\"size\":10,\"solidity\":0.2}},\"type\":\"barpolar\"}],\"pie\":[{\"automargin\":true,\"type\":\"pie\"}]},\"layout\":{\"autotypenumbers\":\"strict\",\"colorway\":[\"#636efa\",\"#EF553B\",\"#00cc96\",\"#ab63fa\",\"#FFA15A\",\"#19d3f3\",\"#FF6692\",\"#B6E880\",\"#FF97FF\",\"#FECB52\"],\"font\":{\"color\":\"#2a3f5f\"},\"hovermode\":\"closest\",\"hoverlabel\":{\"align\":\"left\"},\"paper_bgcolor\":\"white\",\"plot_bgcolor\":\"#E5ECF6\",\"polar\":{\"bgcolor\":\"#E5ECF6\",\"angularaxis\":{\"gridcolor\":\"white\",\"linecolor\":\"white\",\"ticks\":\"\"},\"radialaxis\":{\"gridcolor\":\"white\",\"linecolor\":\"white\",\"ticks\":\"\"}},\"ternary\":{\"bgcolor\":\"#E5ECF6\",\"aaxis\":{\"gridcolor\":\"white\",\"linecolor\":\"white\",\"ticks\":\"\"},\"baxis\":{\"gridcolor\":\"white\",\"linecolor\":\"white\",\"ticks\":\"\"},\"caxis\":{\"gridcolor\":\"white\",\"linecolor\":\"white\",\"ticks\":\"\"}},\"coloraxis\":{\"colorbar\":{\"outlinewidth\":0,\"ticks\":\"\"}},\"colorscale\":{\"sequential\":[[0.0,\"#0d0887\"],[0.1111111111111111,\"#46039f\"],[0.2222222222222222,\"#7201a8\"],[0.3333333333333333,\"#9c179e\"],[0.4444444444444444,\"#bd3786\"],[0.5555555555555556,\"#d8576b\"],[0.6666666666666666,\"#ed7953\"],[0.7777777777777778,\"#fb9f3a\"],[0.8888888888888888,\"#fdca26\"],[1.0,\"#f0f921\"]],\"sequentialminus\":[[0.0,\"#0d0887\"],[0.1111111111111111,\"#46039f\"],[0.2222222222222222,\"#7201a8\"],[0.3333333333333333,\"#9c179e\"],[0.4444444444444444,\"#bd3786\"],[0.5555555555555556,\"#d8576b\"],[0.6666666666666666,\"#ed7953\"],[0.7777777777777778,\"#fb9f3a\"],[0.8888888888888888,\"#fdca26\"],[1.0,\"#f0f921\"]],\"diverging\":[[0,\"#8e0152\"],[0.1,\"#c51b7d\"],[0.2,\"#de77ae\"],[0.3,\"#f1b6da\"],[0.4,\"#fde0ef\"],[0.5,\"#f7f7f7\"],[0.6,\"#e6f5d0\"],[0.7,\"#b8e186\"],[0.8,\"#7fbc41\"],[0.9,\"#4d9221\"],[1,\"#276419\"]]},\"xaxis\":{\"gridcolor\":\"white\",\"linecolor\":\"white\",\"ticks\":\"\",\"title\":{\"standoff\":15},\"zerolinecolor\":\"white\",\"automargin\":true,\"zerolinewidth\":2},\"yaxis\":{\"gridcolor\":\"white\",\"linecolor\":\"white\",\"ticks\":\"\",\"title\":{\"standoff\":15},\"zerolinecolor\":\"white\",\"automargin\":true,\"zerolinewidth\":2},\"scene\":{\"xaxis\":{\"backgroundcolor\":\"#E5ECF6\",\"gridcolor\":\"white\",\"linecolor\":\"white\",\"showbackground\":true,\"ticks\":\"\",\"zerolinecolor\":\"white\",\"gridwidth\":2},\"yaxis\":{\"backgroundcolor\":\"#E5ECF6\",\"gridcolor\":\"white\",\"linecolor\":\"white\",\"showbackground\":true,\"ticks\":\"\",\"zerolinecolor\":\"white\",\"gridwidth\":2},\"zaxis\":{\"backgroundcolor\":\"#E5ECF6\",\"gridcolor\":\"white\",\"linecolor\":\"white\",\"showbackground\":true,\"ticks\":\"\",\"zerolinecolor\":\"white\",\"gridwidth\":2}},\"shapedefaults\":{\"line\":{\"color\":\"#2a3f5f\"}},\"annotationdefaults\":{\"arrowcolor\":\"#2a3f5f\",\"arrowhead\":0,\"arrowwidth\":1},\"geo\":{\"bgcolor\":\"white\",\"landcolor\":\"#E5ECF6\",\"subunitcolor\":\"white\",\"showland\":true,\"showlakes\":true,\"lakecolor\":\"white\"},\"title\":{\"x\":0.05},\"mapbox\":{\"style\":\"light\"}}},\"xaxis\":{\"anchor\":\"y\",\"domain\":[0.0,1.0],\"title\":{\"text\":\"Features\"}},\"yaxis\":{\"anchor\":\"x\",\"domain\":[0.0,1.0],\"title\":{\"text\":\"Correlation\"}},\"legend\":{\"tracegroupgap\":0},\"title\":{\"text\":\"correlation with target value\"},\"barmode\":\"relative\"},                        {\"responsive\": true}                    ).then(function(){\n",
       "                            \n",
       "var gd = document.getElementById('d071fc52-c540-4d48-8981-116101f86fb7');\n",
       "var x = new MutationObserver(function (mutations, observer) {{\n",
       "        var display = window.getComputedStyle(gd).display;\n",
       "        if (!display || display === 'none') {{\n",
       "            console.log([gd, 'removed!']);\n",
       "            Plotly.purge(gd);\n",
       "            observer.disconnect();\n",
       "        }}\n",
       "}});\n",
       "\n",
       "// Listen for the removal of the full notebook cells\n",
       "var notebookContainer = gd.closest('#notebook-container');\n",
       "if (notebookContainer) {{\n",
       "    x.observe(notebookContainer, {childList: true});\n",
       "}}\n",
       "\n",
       "// Listen for the clearing of the current output cell\n",
       "var outputEl = gd.closest('.output');\n",
       "if (outputEl) {{\n",
       "    x.observe(outputEl, {childList: true});\n",
       "}}\n",
       "\n",
       "                        })                };                });            </script>        </div>"
      ]
     },
     "metadata": {},
     "output_type": "display_data"
    }
   ],
   "source": [
    "corr = df.corr()['loan_status'].sort_values(ascending=False)\n",
    "fig = px.bar(x = corr.keys(), y = corr.values, title = 'correlation with target value',\n",
    "            labels = {'x':'Features', 'y': 'Correlation'})\n",
    "fig.show()"
   ]
  },
  {
   "cell_type": "markdown",
   "id": "1fb2f10e",
   "metadata": {
    "papermill": {
     "duration": 0.029329,
     "end_time": "2023-08-12T19:31:21.189482",
     "exception": false,
     "start_time": "2023-08-12T19:31:21.160153",
     "status": "completed"
    },
    "tags": []
   },
   "source": [
    "### Feature Engineering"
   ]
  },
  {
   "cell_type": "markdown",
   "id": "80c02315",
   "metadata": {
    "papermill": {
     "duration": 0.030337,
     "end_time": "2023-08-12T19:31:21.249912",
     "exception": false,
     "start_time": "2023-08-12T19:31:21.219575",
     "status": "completed"
    },
    "tags": []
   },
   "source": [
    "#### Fill missing values"
   ]
  },
  {
   "cell_type": "code",
   "execution_count": 19,
   "id": "59c92e01",
   "metadata": {
    "execution": {
     "iopub.execute_input": "2023-08-12T19:31:21.312599Z",
     "iopub.status.busy": "2023-08-12T19:31:21.312191Z",
     "iopub.status.idle": "2023-08-12T19:31:21.349516Z",
     "shell.execute_reply": "2023-08-12T19:31:21.348514Z"
    },
    "papermill": {
     "duration": 0.071569,
     "end_time": "2023-08-12T19:31:21.351851",
     "exception": false,
     "start_time": "2023-08-12T19:31:21.280282",
     "status": "completed"
    },
    "tags": []
   },
   "outputs": [
    {
     "data": {
      "text/html": [
       "<div>\n",
       "<style scoped>\n",
       "    .dataframe tbody tr th:only-of-type {\n",
       "        vertical-align: middle;\n",
       "    }\n",
       "\n",
       "    .dataframe tbody tr th {\n",
       "        vertical-align: top;\n",
       "    }\n",
       "\n",
       "    .dataframe thead th {\n",
       "        text-align: right;\n",
       "    }\n",
       "</style>\n",
       "<table border=\"1\" class=\"dataframe\">\n",
       "  <thead>\n",
       "    <tr style=\"text-align: right;\">\n",
       "      <th></th>\n",
       "      <th>person_age</th>\n",
       "      <th>person_income</th>\n",
       "      <th>person_emp_length</th>\n",
       "      <th>loan_amnt</th>\n",
       "      <th>loan_int_rate</th>\n",
       "      <th>loan_status</th>\n",
       "      <th>loan_percent_income</th>\n",
       "      <th>cb_person_cred_hist_length</th>\n",
       "      <th>person_home_ownership_MORTGAGE</th>\n",
       "      <th>person_home_ownership_OTHER</th>\n",
       "      <th>...</th>\n",
       "      <th>loan_intent_VENTURE</th>\n",
       "      <th>loan_grade_A</th>\n",
       "      <th>loan_grade_B</th>\n",
       "      <th>loan_grade_C</th>\n",
       "      <th>loan_grade_D</th>\n",
       "      <th>loan_grade_E</th>\n",
       "      <th>loan_grade_F</th>\n",
       "      <th>loan_grade_G</th>\n",
       "      <th>cb_person_default_on_file_N</th>\n",
       "      <th>cb_person_default_on_file_Y</th>\n",
       "    </tr>\n",
       "  </thead>\n",
       "  <tbody>\n",
       "    <tr>\n",
       "      <th>0</th>\n",
       "      <td>22</td>\n",
       "      <td>59000</td>\n",
       "      <td>123.0</td>\n",
       "      <td>35000</td>\n",
       "      <td>16.02</td>\n",
       "      <td>1</td>\n",
       "      <td>0.59</td>\n",
       "      <td>3</td>\n",
       "      <td>0</td>\n",
       "      <td>0</td>\n",
       "      <td>...</td>\n",
       "      <td>0</td>\n",
       "      <td>0</td>\n",
       "      <td>0</td>\n",
       "      <td>0</td>\n",
       "      <td>1</td>\n",
       "      <td>0</td>\n",
       "      <td>0</td>\n",
       "      <td>0</td>\n",
       "      <td>0</td>\n",
       "      <td>1</td>\n",
       "    </tr>\n",
       "    <tr>\n",
       "      <th>1</th>\n",
       "      <td>21</td>\n",
       "      <td>9600</td>\n",
       "      <td>5.0</td>\n",
       "      <td>1000</td>\n",
       "      <td>11.14</td>\n",
       "      <td>0</td>\n",
       "      <td>0.10</td>\n",
       "      <td>2</td>\n",
       "      <td>0</td>\n",
       "      <td>0</td>\n",
       "      <td>...</td>\n",
       "      <td>0</td>\n",
       "      <td>0</td>\n",
       "      <td>1</td>\n",
       "      <td>0</td>\n",
       "      <td>0</td>\n",
       "      <td>0</td>\n",
       "      <td>0</td>\n",
       "      <td>0</td>\n",
       "      <td>1</td>\n",
       "      <td>0</td>\n",
       "    </tr>\n",
       "    <tr>\n",
       "      <th>2</th>\n",
       "      <td>25</td>\n",
       "      <td>9600</td>\n",
       "      <td>1.0</td>\n",
       "      <td>5500</td>\n",
       "      <td>12.87</td>\n",
       "      <td>1</td>\n",
       "      <td>0.57</td>\n",
       "      <td>3</td>\n",
       "      <td>1</td>\n",
       "      <td>0</td>\n",
       "      <td>...</td>\n",
       "      <td>0</td>\n",
       "      <td>0</td>\n",
       "      <td>0</td>\n",
       "      <td>1</td>\n",
       "      <td>0</td>\n",
       "      <td>0</td>\n",
       "      <td>0</td>\n",
       "      <td>0</td>\n",
       "      <td>1</td>\n",
       "      <td>0</td>\n",
       "    </tr>\n",
       "    <tr>\n",
       "      <th>3</th>\n",
       "      <td>23</td>\n",
       "      <td>65500</td>\n",
       "      <td>4.0</td>\n",
       "      <td>35000</td>\n",
       "      <td>15.23</td>\n",
       "      <td>1</td>\n",
       "      <td>0.53</td>\n",
       "      <td>2</td>\n",
       "      <td>0</td>\n",
       "      <td>0</td>\n",
       "      <td>...</td>\n",
       "      <td>0</td>\n",
       "      <td>0</td>\n",
       "      <td>0</td>\n",
       "      <td>1</td>\n",
       "      <td>0</td>\n",
       "      <td>0</td>\n",
       "      <td>0</td>\n",
       "      <td>0</td>\n",
       "      <td>1</td>\n",
       "      <td>0</td>\n",
       "    </tr>\n",
       "    <tr>\n",
       "      <th>4</th>\n",
       "      <td>24</td>\n",
       "      <td>54400</td>\n",
       "      <td>8.0</td>\n",
       "      <td>35000</td>\n",
       "      <td>14.27</td>\n",
       "      <td>1</td>\n",
       "      <td>0.55</td>\n",
       "      <td>4</td>\n",
       "      <td>0</td>\n",
       "      <td>0</td>\n",
       "      <td>...</td>\n",
       "      <td>0</td>\n",
       "      <td>0</td>\n",
       "      <td>0</td>\n",
       "      <td>1</td>\n",
       "      <td>0</td>\n",
       "      <td>0</td>\n",
       "      <td>0</td>\n",
       "      <td>0</td>\n",
       "      <td>0</td>\n",
       "      <td>1</td>\n",
       "    </tr>\n",
       "    <tr>\n",
       "      <th>...</th>\n",
       "      <td>...</td>\n",
       "      <td>...</td>\n",
       "      <td>...</td>\n",
       "      <td>...</td>\n",
       "      <td>...</td>\n",
       "      <td>...</td>\n",
       "      <td>...</td>\n",
       "      <td>...</td>\n",
       "      <td>...</td>\n",
       "      <td>...</td>\n",
       "      <td>...</td>\n",
       "      <td>...</td>\n",
       "      <td>...</td>\n",
       "      <td>...</td>\n",
       "      <td>...</td>\n",
       "      <td>...</td>\n",
       "      <td>...</td>\n",
       "      <td>...</td>\n",
       "      <td>...</td>\n",
       "      <td>...</td>\n",
       "      <td>...</td>\n",
       "    </tr>\n",
       "    <tr>\n",
       "      <th>32576</th>\n",
       "      <td>57</td>\n",
       "      <td>53000</td>\n",
       "      <td>1.0</td>\n",
       "      <td>5800</td>\n",
       "      <td>13.16</td>\n",
       "      <td>0</td>\n",
       "      <td>0.11</td>\n",
       "      <td>30</td>\n",
       "      <td>1</td>\n",
       "      <td>0</td>\n",
       "      <td>...</td>\n",
       "      <td>0</td>\n",
       "      <td>0</td>\n",
       "      <td>0</td>\n",
       "      <td>1</td>\n",
       "      <td>0</td>\n",
       "      <td>0</td>\n",
       "      <td>0</td>\n",
       "      <td>0</td>\n",
       "      <td>1</td>\n",
       "      <td>0</td>\n",
       "    </tr>\n",
       "    <tr>\n",
       "      <th>32577</th>\n",
       "      <td>54</td>\n",
       "      <td>120000</td>\n",
       "      <td>4.0</td>\n",
       "      <td>17625</td>\n",
       "      <td>7.49</td>\n",
       "      <td>0</td>\n",
       "      <td>0.15</td>\n",
       "      <td>19</td>\n",
       "      <td>1</td>\n",
       "      <td>0</td>\n",
       "      <td>...</td>\n",
       "      <td>0</td>\n",
       "      <td>1</td>\n",
       "      <td>0</td>\n",
       "      <td>0</td>\n",
       "      <td>0</td>\n",
       "      <td>0</td>\n",
       "      <td>0</td>\n",
       "      <td>0</td>\n",
       "      <td>1</td>\n",
       "      <td>0</td>\n",
       "    </tr>\n",
       "    <tr>\n",
       "      <th>32578</th>\n",
       "      <td>65</td>\n",
       "      <td>76000</td>\n",
       "      <td>3.0</td>\n",
       "      <td>35000</td>\n",
       "      <td>10.99</td>\n",
       "      <td>1</td>\n",
       "      <td>0.46</td>\n",
       "      <td>28</td>\n",
       "      <td>0</td>\n",
       "      <td>0</td>\n",
       "      <td>...</td>\n",
       "      <td>0</td>\n",
       "      <td>0</td>\n",
       "      <td>1</td>\n",
       "      <td>0</td>\n",
       "      <td>0</td>\n",
       "      <td>0</td>\n",
       "      <td>0</td>\n",
       "      <td>0</td>\n",
       "      <td>1</td>\n",
       "      <td>0</td>\n",
       "    </tr>\n",
       "    <tr>\n",
       "      <th>32579</th>\n",
       "      <td>56</td>\n",
       "      <td>150000</td>\n",
       "      <td>5.0</td>\n",
       "      <td>15000</td>\n",
       "      <td>11.48</td>\n",
       "      <td>0</td>\n",
       "      <td>0.10</td>\n",
       "      <td>26</td>\n",
       "      <td>1</td>\n",
       "      <td>0</td>\n",
       "      <td>...</td>\n",
       "      <td>0</td>\n",
       "      <td>0</td>\n",
       "      <td>1</td>\n",
       "      <td>0</td>\n",
       "      <td>0</td>\n",
       "      <td>0</td>\n",
       "      <td>0</td>\n",
       "      <td>0</td>\n",
       "      <td>1</td>\n",
       "      <td>0</td>\n",
       "    </tr>\n",
       "    <tr>\n",
       "      <th>32580</th>\n",
       "      <td>66</td>\n",
       "      <td>42000</td>\n",
       "      <td>2.0</td>\n",
       "      <td>6475</td>\n",
       "      <td>9.99</td>\n",
       "      <td>0</td>\n",
       "      <td>0.15</td>\n",
       "      <td>30</td>\n",
       "      <td>0</td>\n",
       "      <td>0</td>\n",
       "      <td>...</td>\n",
       "      <td>0</td>\n",
       "      <td>0</td>\n",
       "      <td>1</td>\n",
       "      <td>0</td>\n",
       "      <td>0</td>\n",
       "      <td>0</td>\n",
       "      <td>0</td>\n",
       "      <td>0</td>\n",
       "      <td>1</td>\n",
       "      <td>0</td>\n",
       "    </tr>\n",
       "  </tbody>\n",
       "</table>\n",
       "<p>32581 rows × 27 columns</p>\n",
       "</div>"
      ],
      "text/plain": [
       "       person_age  person_income  person_emp_length  loan_amnt  loan_int_rate  \\\n",
       "0              22          59000              123.0      35000          16.02   \n",
       "1              21           9600                5.0       1000          11.14   \n",
       "2              25           9600                1.0       5500          12.87   \n",
       "3              23          65500                4.0      35000          15.23   \n",
       "4              24          54400                8.0      35000          14.27   \n",
       "...           ...            ...                ...        ...            ...   \n",
       "32576          57          53000                1.0       5800          13.16   \n",
       "32577          54         120000                4.0      17625           7.49   \n",
       "32578          65          76000                3.0      35000          10.99   \n",
       "32579          56         150000                5.0      15000          11.48   \n",
       "32580          66          42000                2.0       6475           9.99   \n",
       "\n",
       "       loan_status  loan_percent_income  cb_person_cred_hist_length  \\\n",
       "0                1                 0.59                           3   \n",
       "1                0                 0.10                           2   \n",
       "2                1                 0.57                           3   \n",
       "3                1                 0.53                           2   \n",
       "4                1                 0.55                           4   \n",
       "...            ...                  ...                         ...   \n",
       "32576            0                 0.11                          30   \n",
       "32577            0                 0.15                          19   \n",
       "32578            1                 0.46                          28   \n",
       "32579            0                 0.10                          26   \n",
       "32580            0                 0.15                          30   \n",
       "\n",
       "       person_home_ownership_MORTGAGE  person_home_ownership_OTHER  ...  \\\n",
       "0                                   0                            0  ...   \n",
       "1                                   0                            0  ...   \n",
       "2                                   1                            0  ...   \n",
       "3                                   0                            0  ...   \n",
       "4                                   0                            0  ...   \n",
       "...                               ...                          ...  ...   \n",
       "32576                               1                            0  ...   \n",
       "32577                               1                            0  ...   \n",
       "32578                               0                            0  ...   \n",
       "32579                               1                            0  ...   \n",
       "32580                               0                            0  ...   \n",
       "\n",
       "       loan_intent_VENTURE  loan_grade_A  loan_grade_B  loan_grade_C  \\\n",
       "0                        0             0             0             0   \n",
       "1                        0             0             1             0   \n",
       "2                        0             0             0             1   \n",
       "3                        0             0             0             1   \n",
       "4                        0             0             0             1   \n",
       "...                    ...           ...           ...           ...   \n",
       "32576                    0             0             0             1   \n",
       "32577                    0             1             0             0   \n",
       "32578                    0             0             1             0   \n",
       "32579                    0             0             1             0   \n",
       "32580                    0             0             1             0   \n",
       "\n",
       "       loan_grade_D  loan_grade_E  loan_grade_F  loan_grade_G  \\\n",
       "0                 1             0             0             0   \n",
       "1                 0             0             0             0   \n",
       "2                 0             0             0             0   \n",
       "3                 0             0             0             0   \n",
       "4                 0             0             0             0   \n",
       "...             ...           ...           ...           ...   \n",
       "32576             0             0             0             0   \n",
       "32577             0             0             0             0   \n",
       "32578             0             0             0             0   \n",
       "32579             0             0             0             0   \n",
       "32580             0             0             0             0   \n",
       "\n",
       "       cb_person_default_on_file_N  cb_person_default_on_file_Y  \n",
       "0                                0                            1  \n",
       "1                                1                            0  \n",
       "2                                1                            0  \n",
       "3                                1                            0  \n",
       "4                                0                            1  \n",
       "...                            ...                          ...  \n",
       "32576                            1                            0  \n",
       "32577                            1                            0  \n",
       "32578                            1                            0  \n",
       "32579                            1                            0  \n",
       "32580                            1                            0  \n",
       "\n",
       "[32581 rows x 27 columns]"
      ]
     },
     "execution_count": 19,
     "metadata": {},
     "output_type": "execute_result"
    }
   ],
   "source": [
    "df"
   ]
  },
  {
   "cell_type": "code",
   "execution_count": 20,
   "id": "cfb1d4f2",
   "metadata": {
    "execution": {
     "iopub.execute_input": "2023-08-12T19:31:21.416111Z",
     "iopub.status.busy": "2023-08-12T19:31:21.415612Z",
     "iopub.status.idle": "2023-08-12T19:35:41.188059Z",
     "shell.execute_reply": "2023-08-12T19:35:41.186707Z"
    },
    "papermill": {
     "duration": 259.807111,
     "end_time": "2023-08-12T19:35:41.190299",
     "exception": false,
     "start_time": "2023-08-12T19:31:21.383188",
     "status": "completed"
    },
    "tags": []
   },
   "outputs": [
    {
     "name": "stdout",
     "output_type": "stream",
     "text": [
      "Imputing row 1/32581 with 0 missing, elapsed time: 258.872\n",
      "Imputing row 101/32581 with 0 missing, elapsed time: 258.875\n",
      "Imputing row 201/32581 with 0 missing, elapsed time: 258.878\n",
      "Imputing row 301/32581 with 0 missing, elapsed time: 258.880\n",
      "Imputing row 401/32581 with 0 missing, elapsed time: 258.882\n",
      "Imputing row 501/32581 with 0 missing, elapsed time: 258.885\n",
      "Imputing row 601/32581 with 1 missing, elapsed time: 258.887\n",
      "Imputing row 701/32581 with 0 missing, elapsed time: 258.890\n",
      "Imputing row 801/32581 with 0 missing, elapsed time: 258.893\n",
      "Imputing row 901/32581 with 0 missing, elapsed time: 258.897\n",
      "Imputing row 1001/32581 with 0 missing, elapsed time: 258.899\n",
      "Imputing row 1101/32581 with 0 missing, elapsed time: 258.901\n",
      "Imputing row 1201/32581 with 0 missing, elapsed time: 258.903\n",
      "Imputing row 1301/32581 with 0 missing, elapsed time: 258.905\n",
      "Imputing row 1401/32581 with 0 missing, elapsed time: 258.907\n",
      "Imputing row 1501/32581 with 0 missing, elapsed time: 258.910\n",
      "Imputing row 1601/32581 with 0 missing, elapsed time: 258.913\n",
      "Imputing row 1701/32581 with 0 missing, elapsed time: 258.916\n",
      "Imputing row 1801/32581 with 0 missing, elapsed time: 258.919\n",
      "Imputing row 1901/32581 with 0 missing, elapsed time: 258.920\n",
      "Imputing row 2001/32581 with 0 missing, elapsed time: 258.925\n",
      "Imputing row 2101/32581 with 0 missing, elapsed time: 258.927\n",
      "Imputing row 2201/32581 with 0 missing, elapsed time: 258.929\n",
      "Imputing row 2301/32581 with 0 missing, elapsed time: 258.931\n",
      "Imputing row 2401/32581 with 0 missing, elapsed time: 258.935\n",
      "Imputing row 2501/32581 with 0 missing, elapsed time: 258.937\n",
      "Imputing row 2601/32581 with 0 missing, elapsed time: 258.939\n",
      "Imputing row 2701/32581 with 0 missing, elapsed time: 258.942\n",
      "Imputing row 2801/32581 with 0 missing, elapsed time: 258.944\n",
      "Imputing row 2901/32581 with 0 missing, elapsed time: 258.947\n",
      "Imputing row 3001/32581 with 0 missing, elapsed time: 258.950\n",
      "Imputing row 3101/32581 with 0 missing, elapsed time: 258.952\n",
      "Imputing row 3201/32581 with 0 missing, elapsed time: 258.955\n",
      "Imputing row 3301/32581 with 0 missing, elapsed time: 258.958\n",
      "Imputing row 3401/32581 with 0 missing, elapsed time: 258.960\n",
      "Imputing row 3501/32581 with 0 missing, elapsed time: 258.962\n",
      "Imputing row 3601/32581 with 0 missing, elapsed time: 258.964\n",
      "Imputing row 3701/32581 with 0 missing, elapsed time: 258.967\n",
      "Imputing row 3801/32581 with 1 missing, elapsed time: 258.969\n",
      "Imputing row 3901/32581 with 1 missing, elapsed time: 258.972\n",
      "Imputing row 4001/32581 with 0 missing, elapsed time: 258.975\n",
      "Imputing row 4101/32581 with 1 missing, elapsed time: 258.977\n",
      "Imputing row 4201/32581 with 0 missing, elapsed time: 258.980\n",
      "Imputing row 4301/32581 with 0 missing, elapsed time: 258.983\n",
      "Imputing row 4401/32581 with 0 missing, elapsed time: 258.985\n",
      "Imputing row 4501/32581 with 0 missing, elapsed time: 258.988\n",
      "Imputing row 4601/32581 with 0 missing, elapsed time: 258.991\n",
      "Imputing row 4701/32581 with 0 missing, elapsed time: 258.996\n",
      "Imputing row 4801/32581 with 0 missing, elapsed time: 258.999\n",
      "Imputing row 4901/32581 with 0 missing, elapsed time: 259.003\n",
      "Imputing row 5001/32581 with 0 missing, elapsed time: 259.006\n",
      "Imputing row 5101/32581 with 0 missing, elapsed time: 259.007\n",
      "Imputing row 5201/32581 with 0 missing, elapsed time: 259.011\n",
      "Imputing row 5301/32581 with 0 missing, elapsed time: 259.014\n",
      "Imputing row 5401/32581 with 0 missing, elapsed time: 259.016\n",
      "Imputing row 5501/32581 with 0 missing, elapsed time: 259.018\n",
      "Imputing row 5601/32581 with 1 missing, elapsed time: 259.021\n",
      "Imputing row 5701/32581 with 0 missing, elapsed time: 259.024\n",
      "Imputing row 5801/32581 with 1 missing, elapsed time: 259.026\n",
      "Imputing row 5901/32581 with 0 missing, elapsed time: 259.028\n",
      "Imputing row 6001/32581 with 1 missing, elapsed time: 259.032\n",
      "Imputing row 6101/32581 with 0 missing, elapsed time: 259.034\n",
      "Imputing row 6201/32581 with 0 missing, elapsed time: 259.038\n",
      "Imputing row 6301/32581 with 0 missing, elapsed time: 259.039\n",
      "Imputing row 6401/32581 with 0 missing, elapsed time: 259.041\n",
      "Imputing row 6501/32581 with 0 missing, elapsed time: 259.043\n",
      "Imputing row 6601/32581 with 0 missing, elapsed time: 259.046\n",
      "Imputing row 6701/32581 with 0 missing, elapsed time: 259.048\n",
      "Imputing row 6801/32581 with 0 missing, elapsed time: 259.051\n",
      "Imputing row 6901/32581 with 1 missing, elapsed time: 259.053\n",
      "Imputing row 7001/32581 with 0 missing, elapsed time: 259.055\n",
      "Imputing row 7101/32581 with 0 missing, elapsed time: 259.057\n",
      "Imputing row 7201/32581 with 1 missing, elapsed time: 259.059\n",
      "Imputing row 7301/32581 with 0 missing, elapsed time: 259.061\n",
      "Imputing row 7401/32581 with 0 missing, elapsed time: 259.063\n",
      "Imputing row 7501/32581 with 0 missing, elapsed time: 259.065\n",
      "Imputing row 7601/32581 with 0 missing, elapsed time: 259.068\n",
      "Imputing row 7701/32581 with 0 missing, elapsed time: 259.070\n",
      "Imputing row 7801/32581 with 0 missing, elapsed time: 259.072\n",
      "Imputing row 7901/32581 with 0 missing, elapsed time: 259.075\n",
      "Imputing row 8001/32581 with 0 missing, elapsed time: 259.077\n",
      "Imputing row 8101/32581 with 0 missing, elapsed time: 259.079\n",
      "Imputing row 8201/32581 with 0 missing, elapsed time: 259.080\n",
      "Imputing row 8301/32581 with 0 missing, elapsed time: 259.083\n",
      "Imputing row 8401/32581 with 0 missing, elapsed time: 259.085\n",
      "Imputing row 8501/32581 with 0 missing, elapsed time: 259.088\n",
      "Imputing row 8601/32581 with 0 missing, elapsed time: 259.090\n",
      "Imputing row 8701/32581 with 0 missing, elapsed time: 259.092\n",
      "Imputing row 8801/32581 with 0 missing, elapsed time: 259.095\n",
      "Imputing row 8901/32581 with 0 missing, elapsed time: 259.098\n",
      "Imputing row 9001/32581 with 0 missing, elapsed time: 259.101\n",
      "Imputing row 9101/32581 with 0 missing, elapsed time: 259.103\n",
      "Imputing row 9201/32581 with 0 missing, elapsed time: 259.106\n",
      "Imputing row 9301/32581 with 1 missing, elapsed time: 259.109\n",
      "Imputing row 9401/32581 with 0 missing, elapsed time: 259.112\n",
      "Imputing row 9501/32581 with 0 missing, elapsed time: 259.113\n",
      "Imputing row 9601/32581 with 0 missing, elapsed time: 259.115\n",
      "Imputing row 9701/32581 with 1 missing, elapsed time: 259.118\n",
      "Imputing row 9801/32581 with 0 missing, elapsed time: 259.121\n",
      "Imputing row 9901/32581 with 0 missing, elapsed time: 259.122\n",
      "Imputing row 10001/32581 with 0 missing, elapsed time: 259.124\n",
      "Imputing row 10101/32581 with 1 missing, elapsed time: 259.125\n",
      "Imputing row 10201/32581 with 0 missing, elapsed time: 259.127\n",
      "Imputing row 10301/32581 with 0 missing, elapsed time: 259.130\n",
      "Imputing row 10401/32581 with 0 missing, elapsed time: 259.133\n",
      "Imputing row 10501/32581 with 0 missing, elapsed time: 259.135\n",
      "Imputing row 10601/32581 with 0 missing, elapsed time: 259.138\n",
      "Imputing row 10701/32581 with 0 missing, elapsed time: 259.141\n",
      "Imputing row 10801/32581 with 0 missing, elapsed time: 259.145\n",
      "Imputing row 10901/32581 with 0 missing, elapsed time: 259.147\n",
      "Imputing row 11001/32581 with 0 missing, elapsed time: 259.150\n",
      "Imputing row 11101/32581 with 0 missing, elapsed time: 259.152\n",
      "Imputing row 11201/32581 with 0 missing, elapsed time: 259.156\n",
      "Imputing row 11301/32581 with 0 missing, elapsed time: 259.158\n",
      "Imputing row 11401/32581 with 1 missing, elapsed time: 259.163\n",
      "Imputing row 11501/32581 with 0 missing, elapsed time: 259.166\n",
      "Imputing row 11601/32581 with 0 missing, elapsed time: 259.167\n",
      "Imputing row 11701/32581 with 0 missing, elapsed time: 259.169\n",
      "Imputing row 11801/32581 with 0 missing, elapsed time: 259.171\n",
      "Imputing row 11901/32581 with 0 missing, elapsed time: 259.174\n",
      "Imputing row 12001/32581 with 0 missing, elapsed time: 259.177\n",
      "Imputing row 12101/32581 with 0 missing, elapsed time: 259.180\n",
      "Imputing row 12201/32581 with 0 missing, elapsed time: 259.184\n",
      "Imputing row 12301/32581 with 0 missing, elapsed time: 259.187\n",
      "Imputing row 12401/32581 with 0 missing, elapsed time: 259.191\n",
      "Imputing row 12501/32581 with 0 missing, elapsed time: 259.193\n",
      "Imputing row 12601/32581 with 0 missing, elapsed time: 259.197\n",
      "Imputing row 12701/32581 with 0 missing, elapsed time: 259.200\n",
      "Imputing row 12801/32581 with 1 missing, elapsed time: 259.204\n",
      "Imputing row 12901/32581 with 0 missing, elapsed time: 259.209\n",
      "Imputing row 13001/32581 with 1 missing, elapsed time: 259.212\n",
      "Imputing row 13101/32581 with 0 missing, elapsed time: 259.216\n",
      "Imputing row 13201/32581 with 0 missing, elapsed time: 259.217\n",
      "Imputing row 13301/32581 with 0 missing, elapsed time: 259.223\n",
      "Imputing row 13401/32581 with 0 missing, elapsed time: 259.226\n",
      "Imputing row 13501/32581 with 1 missing, elapsed time: 259.229\n",
      "Imputing row 13601/32581 with 0 missing, elapsed time: 259.234\n",
      "Imputing row 13701/32581 with 0 missing, elapsed time: 259.237\n",
      "Imputing row 13801/32581 with 0 missing, elapsed time: 259.239\n",
      "Imputing row 13901/32581 with 0 missing, elapsed time: 259.241\n",
      "Imputing row 14001/32581 with 0 missing, elapsed time: 259.243\n",
      "Imputing row 14101/32581 with 0 missing, elapsed time: 259.245\n",
      "Imputing row 14201/32581 with 1 missing, elapsed time: 259.247\n",
      "Imputing row 14301/32581 with 1 missing, elapsed time: 259.251\n",
      "Imputing row 14401/32581 with 0 missing, elapsed time: 259.253\n",
      "Imputing row 14501/32581 with 0 missing, elapsed time: 259.256\n",
      "Imputing row 14601/32581 with 0 missing, elapsed time: 259.258\n",
      "Imputing row 14701/32581 with 0 missing, elapsed time: 259.261\n",
      "Imputing row 14801/32581 with 0 missing, elapsed time: 259.264\n",
      "Imputing row 14901/32581 with 1 missing, elapsed time: 259.266\n",
      "Imputing row 15001/32581 with 0 missing, elapsed time: 259.268\n",
      "Imputing row 15101/32581 with 1 missing, elapsed time: 259.271\n",
      "Imputing row 15201/32581 with 0 missing, elapsed time: 259.274\n",
      "Imputing row 15301/32581 with 1 missing, elapsed time: 259.279\n",
      "Imputing row 15401/32581 with 0 missing, elapsed time: 259.281\n",
      "Imputing row 15501/32581 with 0 missing, elapsed time: 259.283\n",
      "Imputing row 15601/32581 with 1 missing, elapsed time: 259.285\n",
      "Imputing row 15701/32581 with 0 missing, elapsed time: 259.287\n",
      "Imputing row 15801/32581 with 0 missing, elapsed time: 259.288\n",
      "Imputing row 15901/32581 with 0 missing, elapsed time: 259.290\n",
      "Imputing row 16001/32581 with 0 missing, elapsed time: 259.293\n",
      "Imputing row 16101/32581 with 0 missing, elapsed time: 259.296\n",
      "Imputing row 16201/32581 with 1 missing, elapsed time: 259.299\n",
      "Imputing row 16301/32581 with 0 missing, elapsed time: 259.301\n",
      "Imputing row 16401/32581 with 0 missing, elapsed time: 259.303\n",
      "Imputing row 16501/32581 with 0 missing, elapsed time: 259.305\n",
      "Imputing row 16601/32581 with 0 missing, elapsed time: 259.308\n",
      "Imputing row 16701/32581 with 0 missing, elapsed time: 259.310\n",
      "Imputing row 16801/32581 with 0 missing, elapsed time: 259.313\n",
      "Imputing row 16901/32581 with 0 missing, elapsed time: 259.316\n",
      "Imputing row 17001/32581 with 0 missing, elapsed time: 259.319\n",
      "Imputing row 17101/32581 with 0 missing, elapsed time: 259.321\n",
      "Imputing row 17201/32581 with 0 missing, elapsed time: 259.323\n",
      "Imputing row 17301/32581 with 0 missing, elapsed time: 259.326\n",
      "Imputing row 17401/32581 with 0 missing, elapsed time: 259.328\n",
      "Imputing row 17501/32581 with 0 missing, elapsed time: 259.331\n",
      "Imputing row 17601/32581 with 0 missing, elapsed time: 259.334\n",
      "Imputing row 17701/32581 with 0 missing, elapsed time: 259.336\n",
      "Imputing row 17801/32581 with 0 missing, elapsed time: 259.337\n",
      "Imputing row 17901/32581 with 0 missing, elapsed time: 259.339\n",
      "Imputing row 18001/32581 with 0 missing, elapsed time: 259.342\n",
      "Imputing row 18101/32581 with 0 missing, elapsed time: 259.344\n",
      "Imputing row 18201/32581 with 1 missing, elapsed time: 259.346\n",
      "Imputing row 18301/32581 with 0 missing, elapsed time: 259.349\n",
      "Imputing row 18401/32581 with 0 missing, elapsed time: 259.352\n",
      "Imputing row 18501/32581 with 1 missing, elapsed time: 259.354\n",
      "Imputing row 18601/32581 with 0 missing, elapsed time: 259.357\n",
      "Imputing row 18701/32581 with 0 missing, elapsed time: 259.360\n",
      "Imputing row 18801/32581 with 0 missing, elapsed time: 259.362\n",
      "Imputing row 18901/32581 with 1 missing, elapsed time: 259.364\n",
      "Imputing row 19001/32581 with 0 missing, elapsed time: 259.368\n",
      "Imputing row 19101/32581 with 0 missing, elapsed time: 259.370\n",
      "Imputing row 19201/32581 with 0 missing, elapsed time: 259.373\n",
      "Imputing row 19301/32581 with 0 missing, elapsed time: 259.375\n",
      "Imputing row 19401/32581 with 0 missing, elapsed time: 259.378\n",
      "Imputing row 19501/32581 with 0 missing, elapsed time: 259.380\n",
      "Imputing row 19601/32581 with 0 missing, elapsed time: 259.382\n",
      "Imputing row 19701/32581 with 0 missing, elapsed time: 259.385\n",
      "Imputing row 19801/32581 with 0 missing, elapsed time: 259.387\n",
      "Imputing row 19901/32581 with 0 missing, elapsed time: 259.389\n",
      "Imputing row 20001/32581 with 0 missing, elapsed time: 259.391\n",
      "Imputing row 20101/32581 with 0 missing, elapsed time: 259.393\n",
      "Imputing row 20201/32581 with 0 missing, elapsed time: 259.396\n",
      "Imputing row 20301/32581 with 0 missing, elapsed time: 259.397\n",
      "Imputing row 20401/32581 with 0 missing, elapsed time: 259.399\n",
      "Imputing row 20501/32581 with 0 missing, elapsed time: 259.402\n",
      "Imputing row 20601/32581 with 0 missing, elapsed time: 259.404\n",
      "Imputing row 20701/32581 with 0 missing, elapsed time: 259.406\n",
      "Imputing row 20801/32581 with 0 missing, elapsed time: 259.408\n",
      "Imputing row 20901/32581 with 0 missing, elapsed time: 259.409\n",
      "Imputing row 21001/32581 with 0 missing, elapsed time: 259.411\n",
      "Imputing row 21101/32581 with 0 missing, elapsed time: 259.413\n",
      "Imputing row 21201/32581 with 0 missing, elapsed time: 259.416\n",
      "Imputing row 21301/32581 with 0 missing, elapsed time: 259.419\n",
      "Imputing row 21401/32581 with 0 missing, elapsed time: 259.421\n",
      "Imputing row 21501/32581 with 0 missing, elapsed time: 259.423\n",
      "Imputing row 21601/32581 with 1 missing, elapsed time: 259.426\n",
      "Imputing row 21701/32581 with 0 missing, elapsed time: 259.429\n",
      "Imputing row 21801/32581 with 0 missing, elapsed time: 259.431\n",
      "Imputing row 21901/32581 with 1 missing, elapsed time: 259.433\n",
      "Imputing row 22001/32581 with 0 missing, elapsed time: 259.436\n",
      "Imputing row 22101/32581 with 0 missing, elapsed time: 259.437\n",
      "Imputing row 22201/32581 with 0 missing, elapsed time: 259.439\n",
      "Imputing row 22301/32581 with 1 missing, elapsed time: 259.442\n",
      "Imputing row 22401/32581 with 1 missing, elapsed time: 259.444\n",
      "Imputing row 22501/32581 with 0 missing, elapsed time: 259.447\n",
      "Imputing row 22601/32581 with 0 missing, elapsed time: 259.451\n",
      "Imputing row 22701/32581 with 1 missing, elapsed time: 259.453\n",
      "Imputing row 22801/32581 with 0 missing, elapsed time: 259.456\n",
      "Imputing row 22901/32581 with 0 missing, elapsed time: 259.459\n",
      "Imputing row 23001/32581 with 0 missing, elapsed time: 259.461\n",
      "Imputing row 23101/32581 with 0 missing, elapsed time: 259.464\n",
      "Imputing row 23201/32581 with 0 missing, elapsed time: 259.465\n",
      "Imputing row 23301/32581 with 0 missing, elapsed time: 259.466\n",
      "Imputing row 23401/32581 with 1 missing, elapsed time: 259.469\n",
      "Imputing row 23501/32581 with 0 missing, elapsed time: 259.473\n",
      "Imputing row 23601/32581 with 1 missing, elapsed time: 259.476\n",
      "Imputing row 23701/32581 with 0 missing, elapsed time: 259.479\n",
      "Imputing row 23801/32581 with 1 missing, elapsed time: 259.484\n",
      "Imputing row 23901/32581 with 0 missing, elapsed time: 259.487\n",
      "Imputing row 24001/32581 with 0 missing, elapsed time: 259.489\n",
      "Imputing row 24101/32581 with 0 missing, elapsed time: 259.491\n",
      "Imputing row 24201/32581 with 0 missing, elapsed time: 259.494\n",
      "Imputing row 24301/32581 with 0 missing, elapsed time: 259.497\n",
      "Imputing row 24401/32581 with 0 missing, elapsed time: 259.499\n",
      "Imputing row 24501/32581 with 0 missing, elapsed time: 259.502\n",
      "Imputing row 24601/32581 with 0 missing, elapsed time: 259.504\n",
      "Imputing row 24701/32581 with 0 missing, elapsed time: 259.507\n",
      "Imputing row 24801/32581 with 0 missing, elapsed time: 259.509\n",
      "Imputing row 24901/32581 with 0 missing, elapsed time: 259.510\n",
      "Imputing row 25001/32581 with 0 missing, elapsed time: 259.512\n",
      "Imputing row 25101/32581 with 0 missing, elapsed time: 259.515\n",
      "Imputing row 25201/32581 with 0 missing, elapsed time: 259.518\n",
      "Imputing row 25301/32581 with 1 missing, elapsed time: 259.519\n",
      "Imputing row 25401/32581 with 0 missing, elapsed time: 259.522\n",
      "Imputing row 25501/32581 with 0 missing, elapsed time: 259.525\n",
      "Imputing row 25601/32581 with 0 missing, elapsed time: 259.527\n",
      "Imputing row 25701/32581 with 0 missing, elapsed time: 259.528\n",
      "Imputing row 25801/32581 with 0 missing, elapsed time: 259.530\n",
      "Imputing row 25901/32581 with 1 missing, elapsed time: 259.533\n",
      "Imputing row 26001/32581 with 0 missing, elapsed time: 259.535\n",
      "Imputing row 26101/32581 with 0 missing, elapsed time: 259.537\n",
      "Imputing row 26201/32581 with 0 missing, elapsed time: 259.538\n",
      "Imputing row 26301/32581 with 0 missing, elapsed time: 259.540\n",
      "Imputing row 26401/32581 with 0 missing, elapsed time: 259.543\n",
      "Imputing row 26501/32581 with 1 missing, elapsed time: 259.545\n",
      "Imputing row 26601/32581 with 0 missing, elapsed time: 259.549\n",
      "Imputing row 26701/32581 with 0 missing, elapsed time: 259.552\n",
      "Imputing row 26801/32581 with 0 missing, elapsed time: 259.554\n",
      "Imputing row 26901/32581 with 0 missing, elapsed time: 259.556\n",
      "Imputing row 27001/32581 with 0 missing, elapsed time: 259.558\n",
      "Imputing row 27101/32581 with 0 missing, elapsed time: 259.560\n",
      "Imputing row 27201/32581 with 0 missing, elapsed time: 259.561\n",
      "Imputing row 27301/32581 with 0 missing, elapsed time: 259.563\n",
      "Imputing row 27401/32581 with 1 missing, elapsed time: 259.565\n",
      "Imputing row 27501/32581 with 0 missing, elapsed time: 259.567\n",
      "Imputing row 27601/32581 with 0 missing, elapsed time: 259.570\n",
      "Imputing row 27701/32581 with 0 missing, elapsed time: 259.572\n",
      "Imputing row 27801/32581 with 0 missing, elapsed time: 259.576\n",
      "Imputing row 27901/32581 with 0 missing, elapsed time: 259.578\n",
      "Imputing row 28001/32581 with 0 missing, elapsed time: 259.580\n",
      "Imputing row 28101/32581 with 0 missing, elapsed time: 259.583\n",
      "Imputing row 28201/32581 with 0 missing, elapsed time: 259.584\n",
      "Imputing row 28301/32581 with 0 missing, elapsed time: 259.586\n",
      "Imputing row 28401/32581 with 0 missing, elapsed time: 259.588\n",
      "Imputing row 28501/32581 with 0 missing, elapsed time: 259.591\n",
      "Imputing row 28601/32581 with 0 missing, elapsed time: 259.594\n",
      "Imputing row 28701/32581 with 0 missing, elapsed time: 259.596\n",
      "Imputing row 28801/32581 with 0 missing, elapsed time: 259.598\n",
      "Imputing row 28901/32581 with 0 missing, elapsed time: 259.601\n",
      "Imputing row 29001/32581 with 0 missing, elapsed time: 259.604\n",
      "Imputing row 29101/32581 with 1 missing, elapsed time: 259.607\n",
      "Imputing row 29201/32581 with 0 missing, elapsed time: 259.610\n",
      "Imputing row 29301/32581 with 0 missing, elapsed time: 259.612\n",
      "Imputing row 29401/32581 with 0 missing, elapsed time: 259.615\n",
      "Imputing row 29501/32581 with 0 missing, elapsed time: 259.617\n",
      "Imputing row 29601/32581 with 0 missing, elapsed time: 259.621\n",
      "Imputing row 29701/32581 with 0 missing, elapsed time: 259.624\n",
      "Imputing row 29801/32581 with 1 missing, elapsed time: 259.626\n",
      "Imputing row 29901/32581 with 0 missing, elapsed time: 259.629\n",
      "Imputing row 30001/32581 with 0 missing, elapsed time: 259.631\n",
      "Imputing row 30101/32581 with 0 missing, elapsed time: 259.633\n",
      "Imputing row 30201/32581 with 0 missing, elapsed time: 259.635\n",
      "Imputing row 30301/32581 with 0 missing, elapsed time: 259.639\n",
      "Imputing row 30401/32581 with 1 missing, elapsed time: 259.641\n",
      "Imputing row 30501/32581 with 0 missing, elapsed time: 259.644\n",
      "Imputing row 30601/32581 with 0 missing, elapsed time: 259.647\n",
      "Imputing row 30701/32581 with 1 missing, elapsed time: 259.650\n",
      "Imputing row 30801/32581 with 0 missing, elapsed time: 259.651\n",
      "Imputing row 30901/32581 with 0 missing, elapsed time: 259.654\n",
      "Imputing row 31001/32581 with 0 missing, elapsed time: 259.657\n",
      "Imputing row 31101/32581 with 0 missing, elapsed time: 259.659\n",
      "Imputing row 31201/32581 with 0 missing, elapsed time: 259.662\n",
      "Imputing row 31301/32581 with 0 missing, elapsed time: 259.665\n",
      "Imputing row 31401/32581 with 1 missing, elapsed time: 259.667\n",
      "Imputing row 31501/32581 with 0 missing, elapsed time: 259.669\n",
      "Imputing row 31601/32581 with 0 missing, elapsed time: 259.671\n",
      "Imputing row 31701/32581 with 0 missing, elapsed time: 259.674\n",
      "Imputing row 31801/32581 with 0 missing, elapsed time: 259.676\n",
      "Imputing row 31901/32581 with 0 missing, elapsed time: 259.679\n",
      "Imputing row 32001/32581 with 0 missing, elapsed time: 259.682\n",
      "Imputing row 32101/32581 with 0 missing, elapsed time: 259.687\n",
      "Imputing row 32201/32581 with 0 missing, elapsed time: 259.690\n",
      "Imputing row 32301/32581 with 0 missing, elapsed time: 259.692\n",
      "Imputing row 32401/32581 with 0 missing, elapsed time: 259.694\n",
      "Imputing row 32501/32581 with 0 missing, elapsed time: 259.697\n"
     ]
    }
   ],
   "source": [
    "knn_imputer = KNN()\n",
    "filled_data = knn_imputer.fit_transform(df)"
   ]
  },
  {
   "cell_type": "code",
   "execution_count": 21,
   "id": "1f8dda2c",
   "metadata": {
    "execution": {
     "iopub.execute_input": "2023-08-12T19:35:41.254131Z",
     "iopub.status.busy": "2023-08-12T19:35:41.253481Z",
     "iopub.status.idle": "2023-08-12T19:35:41.258508Z",
     "shell.execute_reply": "2023-08-12T19:35:41.257890Z"
    },
    "papermill": {
     "duration": 0.039142,
     "end_time": "2023-08-12T19:35:41.260322",
     "exception": false,
     "start_time": "2023-08-12T19:35:41.221180",
     "status": "completed"
    },
    "tags": []
   },
   "outputs": [],
   "source": [
    "df = pd.DataFrame(filled_data, columns = df.columns)"
   ]
  },
  {
   "cell_type": "code",
   "execution_count": 22,
   "id": "c0f6c160",
   "metadata": {
    "execution": {
     "iopub.execute_input": "2023-08-12T19:35:41.324552Z",
     "iopub.status.busy": "2023-08-12T19:35:41.323690Z",
     "iopub.status.idle": "2023-08-12T19:35:41.334827Z",
     "shell.execute_reply": "2023-08-12T19:35:41.333977Z"
    },
    "papermill": {
     "duration": 0.045666,
     "end_time": "2023-08-12T19:35:41.336781",
     "exception": false,
     "start_time": "2023-08-12T19:35:41.291115",
     "status": "completed"
    },
    "tags": []
   },
   "outputs": [
    {
     "data": {
      "text/plain": [
       "person_age                        0\n",
       "person_income                     0\n",
       "person_emp_length                 0\n",
       "loan_amnt                         0\n",
       "loan_int_rate                     0\n",
       "loan_status                       0\n",
       "loan_percent_income               0\n",
       "cb_person_cred_hist_length        0\n",
       "person_home_ownership_MORTGAGE    0\n",
       "person_home_ownership_OTHER       0\n",
       "person_home_ownership_OWN         0\n",
       "person_home_ownership_RENT        0\n",
       "loan_intent_DEBTCONSOLIDATION     0\n",
       "loan_intent_EDUCATION             0\n",
       "loan_intent_HOMEIMPROVEMENT       0\n",
       "loan_intent_MEDICAL               0\n",
       "loan_intent_PERSONAL              0\n",
       "loan_intent_VENTURE               0\n",
       "loan_grade_A                      0\n",
       "loan_grade_B                      0\n",
       "loan_grade_C                      0\n",
       "loan_grade_D                      0\n",
       "loan_grade_E                      0\n",
       "loan_grade_F                      0\n",
       "loan_grade_G                      0\n",
       "cb_person_default_on_file_N       0\n",
       "cb_person_default_on_file_Y       0\n",
       "dtype: int64"
      ]
     },
     "execution_count": 22,
     "metadata": {},
     "output_type": "execute_result"
    }
   ],
   "source": [
    "df.isnull().sum()"
   ]
  },
  {
   "cell_type": "markdown",
   "id": "0ef873c4",
   "metadata": {
    "papermill": {
     "duration": 0.031121,
     "end_time": "2023-08-12T19:35:41.400475",
     "exception": false,
     "start_time": "2023-08-12T19:35:41.369354",
     "status": "completed"
    },
    "tags": []
   },
   "source": [
    "## Build models"
   ]
  },
  {
   "cell_type": "code",
   "execution_count": 23,
   "id": "00044695",
   "metadata": {
    "execution": {
     "iopub.execute_input": "2023-08-12T19:35:41.466059Z",
     "iopub.status.busy": "2023-08-12T19:35:41.465184Z",
     "iopub.status.idle": "2023-08-12T19:35:41.481395Z",
     "shell.execute_reply": "2023-08-12T19:35:41.480510Z"
    },
    "papermill": {
     "duration": 0.052399,
     "end_time": "2023-08-12T19:35:41.483885",
     "exception": false,
     "start_time": "2023-08-12T19:35:41.431486",
     "status": "completed"
    },
    "tags": []
   },
   "outputs": [],
   "source": [
    "X ,y = df.drop('loan_status', axis = 1), df['loan_status']\n",
    "train_X, test_X, train_y, test_y = train_test_split(X, y, test_size=0.2)"
   ]
  },
  {
   "cell_type": "markdown",
   "id": "bdd0a01b",
   "metadata": {
    "papermill": {
     "duration": 0.032564,
     "end_time": "2023-08-12T19:35:41.549170",
     "exception": false,
     "start_time": "2023-08-12T19:35:41.516606",
     "status": "completed"
    },
    "tags": []
   },
   "source": [
    "**Logistic Regression**"
   ]
  },
  {
   "cell_type": "code",
   "execution_count": 24,
   "id": "ba70699a",
   "metadata": {
    "execution": {
     "iopub.execute_input": "2023-08-12T19:35:41.614063Z",
     "iopub.status.busy": "2023-08-12T19:35:41.613448Z",
     "iopub.status.idle": "2023-08-12T19:35:41.741571Z",
     "shell.execute_reply": "2023-08-12T19:35:41.740296Z"
    },
    "papermill": {
     "duration": 0.164561,
     "end_time": "2023-08-12T19:35:41.745358",
     "exception": false,
     "start_time": "2023-08-12T19:35:41.580797",
     "status": "completed"
    },
    "tags": []
   },
   "outputs": [
    {
     "name": "stdout",
     "output_type": "stream",
     "text": [
      "the model accuracy score is  0.7982200398956575\n",
      "the model f1 score is 0.2507122507122507\n",
      "where recall score is 0.1510989010989011 and precision score is 0.7357859531772575\n"
     ]
    }
   ],
   "source": [
    "model = LogisticRegression()\n",
    "model.fit(train_X, train_y)\n",
    "y_pred = model.predict(test_X)\n",
    "\n",
    "print('the model accuracy score is ', accuracy_score(test_y, y_pred))\n",
    "print(f'the model f1 score is {f1_score(test_y, y_pred)}\\nwhere recall score is {recall_score(test_y, y_pred)} and precision score is {precision_score(test_y, y_pred)}')"
   ]
  },
  {
   "cell_type": "markdown",
   "id": "dd156713",
   "metadata": {
    "papermill": {
     "duration": 0.041566,
     "end_time": "2023-08-12T19:35:41.853041",
     "exception": false,
     "start_time": "2023-08-12T19:35:41.811475",
     "status": "completed"
    },
    "tags": []
   },
   "source": [
    "**Random Forest Classification**"
   ]
  },
  {
   "cell_type": "code",
   "execution_count": 25,
   "id": "21e30655",
   "metadata": {
    "execution": {
     "iopub.execute_input": "2023-08-12T19:35:41.920837Z",
     "iopub.status.busy": "2023-08-12T19:35:41.919776Z",
     "iopub.status.idle": "2023-08-12T19:35:43.798900Z",
     "shell.execute_reply": "2023-08-12T19:35:43.797094Z"
    },
    "papermill": {
     "duration": 1.916336,
     "end_time": "2023-08-12T19:35:43.801325",
     "exception": false,
     "start_time": "2023-08-12T19:35:41.884989",
     "status": "completed"
    },
    "tags": []
   },
   "outputs": [
    {
     "name": "stdout",
     "output_type": "stream",
     "text": [
      "the model accuracy score is  0.9350928341261316\n",
      "the model f1 score is 0.8344422700587084\n",
      "where recall score is 0.7321428571428571 and precision score is 0.9699727024567789\n"
     ]
    }
   ],
   "source": [
    "model = RandomForestClassifier(n_estimators = 50, random_state = 42)\n",
    "\n",
    "model.fit(train_X, train_y)\n",
    "y_pred = model.predict(test_X)\n",
    "\n",
    "print('the model accuracy score is ', accuracy_score(test_y, y_pred))\n",
    "print(f'the model f1 score is {f1_score(test_y, y_pred)}\\nwhere recall score is {recall_score(test_y, y_pred)} and precision score is {precision_score(test_y, y_pred)}')"
   ]
  },
  {
   "cell_type": "markdown",
   "id": "65cd856f",
   "metadata": {
    "papermill": {
     "duration": 0.032654,
     "end_time": "2023-08-12T19:35:43.866576",
     "exception": false,
     "start_time": "2023-08-12T19:35:43.833922",
     "status": "completed"
    },
    "tags": []
   },
   "source": [
    "**Notes** We are able to achieve over 93% accuracy for the classification with recall rate over 73% and precision rate over 97% using the random forest model. It has a significant increase on the performance comparing to the linear model."
   ]
  },
  {
   "cell_type": "markdown",
   "id": "62451ced",
   "metadata": {
    "papermill": {
     "duration": 0.031727,
     "end_time": "2023-08-12T19:35:43.930767",
     "exception": false,
     "start_time": "2023-08-12T19:35:43.899040",
     "status": "completed"
    },
    "tags": []
   },
   "source": [
    "### Use Grid Seach to fine tune the hyperparameters\n",
    "\n",
    "Since we are able to easily achieve a much better results using default random forest model, we will further tune the parameters to achieve the best performance\n",
    "\n",
    "Here are some common hyperparameters for fine tuning:\n",
    "\n",
    "* n_estimators = number of trees in the foreset\n",
    "* max_features = max number of features considered for splitting a node\n",
    "* max_depth = max number of levels in each decision tree\n",
    "* min_samples_split = min number of data points placed in a node before the node is split\n",
    "* min_samples_leaf = min number of data points allowed in a leaf node\n",
    "* bootstrap = method for sampling data points (with or without replacement)"
   ]
  },
  {
   "cell_type": "code",
   "execution_count": 26,
   "id": "eb5815e2",
   "metadata": {
    "execution": {
     "iopub.execute_input": "2023-08-12T19:35:43.995308Z",
     "iopub.status.busy": "2023-08-12T19:35:43.994897Z",
     "iopub.status.idle": "2023-08-12T19:51:46.350514Z",
     "shell.execute_reply": "2023-08-12T19:51:46.348920Z"
    },
    "papermill": {
     "duration": 962.390927,
     "end_time": "2023-08-12T19:51:46.352987",
     "exception": false,
     "start_time": "2023-08-12T19:35:43.962060",
     "status": "completed"
    },
    "tags": []
   },
   "outputs": [
    {
     "name": "stdout",
     "output_type": "stream",
     "text": [
      "Fitting 5 folds for each of 120 candidates, totalling 600 fits\n",
      "[CV] END ......................max_depth=20, n_estimators=10; total time=   0.4s\n",
      "[CV] END ......................max_depth=20, n_estimators=10; total time=   0.4s\n",
      "[CV] END ......................max_depth=20, n_estimators=25; total time=   1.0s\n",
      "[CV] END ......................max_depth=20, n_estimators=40; total time=   1.6s\n",
      "[CV] END ......................max_depth=20, n_estimators=55; total time=   2.4s\n",
      "[CV] END ......................max_depth=20, n_estimators=71; total time=   2.8s\n",
      "[CV] END ......................max_depth=20, n_estimators=71; total time=   2.8s\n",
      "[CV] END ......................max_depth=20, n_estimators=86; total time=   3.3s\n",
      "[CV] END .....................max_depth=20, n_estimators=101; total time=   3.9s\n",
      "[CV] END .....................max_depth=20, n_estimators=116; total time=   5.1s\n",
      "[CV] END .....................max_depth=20, n_estimators=132; total time=   5.2s\n",
      "[CV] END .....................max_depth=20, n_estimators=132; total time=   5.1s\n",
      "[CV] END .....................max_depth=20, n_estimators=147; total time=   5.7s\n",
      "[CV] END .....................max_depth=20, n_estimators=162; total time=   6.3s\n",
      "[CV] END .....................max_depth=20, n_estimators=177; total time=   6.9s\n",
      "[CV] END .....................max_depth=20, n_estimators=193; total time=   7.9s\n",
      "[CV] END .....................max_depth=20, n_estimators=193; total time=   7.5s\n",
      "[CV] END .....................max_depth=20, n_estimators=208; total time=   8.1s\n",
      "[CV] END .....................max_depth=20, n_estimators=223; total time=   8.8s\n",
      "[CV] END .....................max_depth=20, n_estimators=238; total time=   9.7s\n",
      "[CV] END .....................max_depth=20, n_estimators=254; total time=   9.9s\n",
      "[CV] END .....................max_depth=20, n_estimators=254; total time=   9.7s\n",
      "[CV] END .....................max_depth=20, n_estimators=269; total time=  10.8s\n",
      "[CV] END .....................max_depth=20, n_estimators=284; total time=  11.1s\n",
      "[CV] END .....................max_depth=20, n_estimators=300; total time=  11.7s\n",
      "[CV] END ......................max_depth=40, n_estimators=10; total time=   0.5s\n",
      "[CV] END ......................max_depth=40, n_estimators=10; total time=   0.7s\n",
      "[CV] END ......................max_depth=40, n_estimators=10; total time=   0.6s\n",
      "[CV] END ......................max_depth=40, n_estimators=10; total time=   0.4s\n",
      "[CV] END ......................max_depth=40, n_estimators=25; total time=   1.0s\n",
      "[CV] END ......................max_depth=40, n_estimators=25; total time=   1.0s\n",
      "[CV] END ......................max_depth=40, n_estimators=40; total time=   1.6s\n",
      "[CV] END ......................max_depth=40, n_estimators=40; total time=   1.6s\n",
      "[CV] END ......................max_depth=40, n_estimators=55; total time=   2.2s\n",
      "[CV] END ......................max_depth=40, n_estimators=71; total time=   2.9s\n",
      "[CV] END ......................max_depth=40, n_estimators=71; total time=   2.9s\n",
      "[CV] END ......................max_depth=40, n_estimators=86; total time=   3.5s\n",
      "[CV] END .....................max_depth=40, n_estimators=101; total time=   4.1s\n",
      "[CV] END .....................max_depth=40, n_estimators=116; total time=   4.7s\n",
      "[CV] END .....................max_depth=40, n_estimators=132; total time=   5.4s\n",
      "[CV] END .....................max_depth=40, n_estimators=132; total time=   5.4s\n",
      "[CV] END .....................max_depth=40, n_estimators=147; total time=   5.9s\n",
      "[CV] END .....................max_depth=40, n_estimators=162; total time=   6.6s\n",
      "[CV] END .....................max_depth=40, n_estimators=177; total time=   7.2s\n",
      "[CV] END .....................max_depth=40, n_estimators=193; total time=   8.4s\n",
      "[CV] END .....................max_depth=40, n_estimators=193; total time=   7.7s\n",
      "[CV] END .....................max_depth=40, n_estimators=208; total time=   8.3s\n",
      "[CV] END .....................max_depth=40, n_estimators=223; total time=   9.1s\n",
      "[CV] END .....................max_depth=40, n_estimators=238; total time=   9.9s\n",
      "[CV] END .....................max_depth=40, n_estimators=254; total time=  10.2s\n",
      "[CV] END .....................max_depth=40, n_estimators=254; total time=  10.1s\n",
      "[CV] END .....................max_depth=40, n_estimators=269; total time=  11.5s\n",
      "[CV] END .....................max_depth=40, n_estimators=284; total time=  11.5s\n",
      "[CV] END .....................max_depth=40, n_estimators=300; total time=  12.2s\n",
      "[CV] END ......................max_depth=60, n_estimators=10; total time=   0.4s\n",
      "[CV] END ......................max_depth=60, n_estimators=10; total time=   0.4s\n",
      "[CV] END ......................max_depth=60, n_estimators=10; total time=   0.4s\n",
      "[CV] END ......................max_depth=60, n_estimators=10; total time=   0.4s\n",
      "[CV] END ......................max_depth=60, n_estimators=10; total time=   0.5s\n",
      "[CV] END ......................max_depth=60, n_estimators=25; total time=   1.4s\n",
      "[CV] END ......................max_depth=60, n_estimators=25; total time=   1.1s\n",
      "[CV] END ......................max_depth=60, n_estimators=25; total time=   1.0s\n",
      "[CV] END ......................max_depth=60, n_estimators=40; total time=   1.6s\n",
      "[CV] END ......................max_depth=60, n_estimators=40; total time=   1.7s\n",
      "[CV] END ......................max_depth=60, n_estimators=55; total time=   2.2s\n",
      "[CV] END ......................max_depth=60, n_estimators=71; total time=   2.8s\n",
      "[CV] END ......................max_depth=60, n_estimators=71; total time=   2.9s\n",
      "[CV] END ......................max_depth=60, n_estimators=86; total time=   3.5s\n",
      "[CV] END .....................max_depth=60, n_estimators=101; total time=   4.0s\n",
      "[CV] END .....................max_depth=60, n_estimators=116; total time=   4.7s\n",
      "[CV] END .....................max_depth=60, n_estimators=132; total time=   5.5s\n",
      "[CV] END .....................max_depth=60, n_estimators=132; total time=   5.2s\n",
      "[CV] END .....................max_depth=60, n_estimators=147; total time=   6.1s\n",
      "[CV] END .....................max_depth=60, n_estimators=162; total time=   6.6s\n",
      "[CV] END .....................max_depth=60, n_estimators=177; total time=   7.1s\n",
      "[CV] END .....................max_depth=60, n_estimators=193; total time=   8.2s\n",
      "[CV] END .....................max_depth=60, n_estimators=193; total time=   7.6s\n",
      "[CV] END .....................max_depth=60, n_estimators=208; total time=   8.2s\n",
      "[CV] END .....................max_depth=60, n_estimators=223; total time=   9.0s\n",
      "[CV] END .....................max_depth=60, n_estimators=238; total time=  10.0s\n",
      "[CV] END .....................max_depth=60, n_estimators=254; total time=  10.2s\n",
      "[CV] END .....................max_depth=60, n_estimators=254; total time=  10.1s\n",
      "[CV] END .....................max_depth=60, n_estimators=269; total time=  11.4s\n",
      "[CV] END .....................max_depth=60, n_estimators=284; total time=  11.3s\n",
      "[CV] END .....................max_depth=60, n_estimators=300; total time=  12.0s\n",
      "[CV] END ......................max_depth=80, n_estimators=10; total time=   0.4s\n",
      "[CV] END ......................max_depth=80, n_estimators=10; total time=   0.5s\n",
      "[CV] END ......................max_depth=80, n_estimators=10; total time=   0.4s\n",
      "[CV] END ......................max_depth=80, n_estimators=10; total time=   0.4s\n",
      "[CV] END ......................max_depth=80, n_estimators=10; total time=   0.4s\n",
      "[CV] END ......................max_depth=80, n_estimators=25; total time=   1.0s\n",
      "[CV] END ......................max_depth=80, n_estimators=25; total time=   1.2s\n",
      "[CV] END ......................max_depth=80, n_estimators=40; total time=   1.9s\n",
      "[CV] END ......................max_depth=80, n_estimators=40; total time=   1.6s\n",
      "[CV] END ......................max_depth=80, n_estimators=55; total time=   2.2s\n",
      "[CV] END ......................max_depth=80, n_estimators=55; total time=   2.3s\n",
      "[CV] END ......................max_depth=80, n_estimators=71; total time=   2.9s\n",
      "[CV] END ......................max_depth=80, n_estimators=86; total time=   3.5s\n",
      "[CV] END .....................max_depth=80, n_estimators=101; total time=   4.0s\n",
      "[CV] END .....................max_depth=80, n_estimators=116; total time=   4.6s\n",
      "[CV] END .....................max_depth=80, n_estimators=116; total time=   4.7s\n",
      "[CV] END .....................max_depth=80, n_estimators=132; total time=   5.8s[CV] END ......................max_depth=20, n_estimators=10; total time=   0.4s\n",
      "[CV] END ......................max_depth=20, n_estimators=25; total time=   1.0s\n",
      "[CV] END ......................max_depth=20, n_estimators=25; total time=   1.0s\n",
      "[CV] END ......................max_depth=20, n_estimators=40; total time=   1.6s\n",
      "[CV] END ......................max_depth=20, n_estimators=55; total time=   2.3s\n",
      "[CV] END ......................max_depth=20, n_estimators=71; total time=   2.7s\n",
      "[CV] END ......................max_depth=20, n_estimators=86; total time=   3.3s\n",
      "[CV] END ......................max_depth=20, n_estimators=86; total time=   3.4s\n",
      "[CV] END .....................max_depth=20, n_estimators=101; total time=   3.9s\n",
      "[CV] END .....................max_depth=20, n_estimators=116; total time=   4.8s\n",
      "[CV] END .....................max_depth=20, n_estimators=132; total time=   5.1s\n",
      "[CV] END .....................max_depth=20, n_estimators=147; total time=   5.7s\n",
      "[CV] END .....................max_depth=20, n_estimators=147; total time=   5.6s\n",
      "[CV] END .....................max_depth=20, n_estimators=162; total time=   6.2s\n",
      "[CV] END .....................max_depth=20, n_estimators=177; total time=   7.2s\n",
      "[CV] END .....................max_depth=20, n_estimators=193; total time=   7.5s\n",
      "[CV] END .....................max_depth=20, n_estimators=208; total time=   8.1s\n",
      "[CV] END .....................max_depth=20, n_estimators=208; total time=   8.0s\n",
      "[CV] END .....................max_depth=20, n_estimators=223; total time=   9.0s\n",
      "[CV] END .....................max_depth=20, n_estimators=238; total time=   9.2s\n",
      "[CV] END .....................max_depth=20, n_estimators=254; total time=   9.7s\n",
      "[CV] END .....................max_depth=20, n_estimators=269; total time=  10.3s\n",
      "[CV] END .....................max_depth=20, n_estimators=269; total time=  10.8s\n",
      "[CV] END .....................max_depth=20, n_estimators=284; total time=  11.0s\n",
      "[CV] END .....................max_depth=20, n_estimators=300; total time=  11.8s\n",
      "[CV] END ......................max_depth=40, n_estimators=10; total time=   0.4s\n",
      "[CV] END ......................max_depth=40, n_estimators=25; total time=   1.0s\n",
      "[CV] END ......................max_depth=40, n_estimators=25; total time=   1.0s\n",
      "[CV] END ......................max_depth=40, n_estimators=25; total time=   1.0s\n",
      "[CV] END ......................max_depth=40, n_estimators=40; total time=   1.7s\n",
      "[CV] END ......................max_depth=40, n_estimators=40; total time=   1.6s\n",
      "[CV] END ......................max_depth=40, n_estimators=55; total time=   2.3s\n",
      "[CV] END ......................max_depth=40, n_estimators=71; total time=   2.8s\n",
      "[CV] END ......................max_depth=40, n_estimators=86; total time=   3.5s\n",
      "[CV] END ......................max_depth=40, n_estimators=86; total time=   3.4s\n",
      "[CV] END .....................max_depth=40, n_estimators=101; total time=   4.1s\n",
      "[CV] END .....................max_depth=40, n_estimators=116; total time=   4.7s\n",
      "[CV] END .....................max_depth=40, n_estimators=132; total time=   5.6s\n",
      "[CV] END .....................max_depth=40, n_estimators=147; total time=   5.9s\n",
      "[CV] END .....................max_depth=40, n_estimators=147; total time=   6.0s\n",
      "[CV] END .....................max_depth=40, n_estimators=162; total time=   6.4s\n",
      "[CV] END .....................max_depth=40, n_estimators=177; total time=   7.2s\n",
      "[CV] END .....................max_depth=40, n_estimators=193; total time=   8.3s\n",
      "[CV] END .....................max_depth=40, n_estimators=208; total time=   8.4s\n",
      "[CV] END .....................max_depth=40, n_estimators=208; total time=   8.4s\n",
      "[CV] END .....................max_depth=40, n_estimators=223; total time=   8.9s\n",
      "[CV] END .....................max_depth=40, n_estimators=238; total time=  10.0s\n",
      "[CV] END .....................max_depth=40, n_estimators=254; total time=  10.2s\n",
      "[CV] END .....................max_depth=40, n_estimators=269; total time=  10.9s\n",
      "[CV] END .....................max_depth=40, n_estimators=269; total time=  11.2s\n",
      "[CV] END .....................max_depth=40, n_estimators=284; total time=  11.6s\n",
      "[CV] END .....................max_depth=40, n_estimators=300; total time=  12.3s\n",
      "[CV] END ......................max_depth=60, n_estimators=25; total time=   1.0s\n",
      "[CV] END ......................max_depth=60, n_estimators=25; total time=   1.0s\n",
      "[CV] END ......................max_depth=60, n_estimators=40; total time=   1.6s\n",
      "[CV] END ......................max_depth=60, n_estimators=40; total time=   1.6s\n",
      "[CV] END ......................max_depth=60, n_estimators=55; total time=   2.3s\n",
      "[CV] END ......................max_depth=60, n_estimators=55; total time=   2.2s\n",
      "[CV] END ......................max_depth=60, n_estimators=71; total time=   2.9s\n",
      "[CV] END ......................max_depth=60, n_estimators=86; total time=   3.5s\n",
      "[CV] END .....................max_depth=60, n_estimators=101; total time=   4.0s\n",
      "[CV] END .....................max_depth=60, n_estimators=116; total time=   4.6s\n",
      "[CV] END .....................max_depth=60, n_estimators=116; total time=   4.7s\n",
      "[CV] END .....................max_depth=60, n_estimators=132; total time=   5.6s\n",
      "[CV] END .....................max_depth=60, n_estimators=147; total time=   6.2s\n",
      "[CV] END .....................max_depth=60, n_estimators=162; total time=   6.6s\n",
      "[CV] END .....................max_depth=60, n_estimators=177; total time=   7.0s\n",
      "[CV] END .....................max_depth=60, n_estimators=177; total time=   7.1s\n",
      "[CV] END .....................max_depth=60, n_estimators=193; total time=   8.1s\n",
      "[CV] END .....................max_depth=60, n_estimators=208; total time=   8.2s\n",
      "[CV] END .....................max_depth=60, n_estimators=223; total time=   9.0s\n",
      "[CV] END .....................max_depth=60, n_estimators=238; total time=   9.7s\n",
      "[CV] END .....................max_depth=60, n_estimators=238; total time=   9.5s\n",
      "[CV] END .....................max_depth=60, n_estimators=254; total time=  10.2s\n",
      "[CV] END .....................max_depth=60, n_estimators=269; total time=  10.9s\n",
      "[CV] END .....................max_depth=60, n_estimators=284; total time=  11.4s\n",
      "[CV] END .....................max_depth=60, n_estimators=300; total time=  12.1s\n",
      "[CV] END .....................max_depth=60, n_estimators=300; total time=  12.4s\n",
      "[CV] END ......................max_depth=80, n_estimators=55; total time=   2.2s\n",
      "[CV] END ......................max_depth=80, n_estimators=71; total time=   2.8s\n",
      "[CV] END ......................max_depth=80, n_estimators=86; total time=   3.4s\n",
      "[CV] END .....................max_depth=80, n_estimators=101; total time=   4.0s\n",
      "[CV] END .....................max_depth=80, n_estimators=101; total time=   4.0s\n",
      "[CV] END .....................max_depth=80, n_estimators=116; total time=   4.7s\n",
      "[CV] END .....................max_depth=80, n_estimators=132; total time=   5.3s\n",
      "[CV] END .....................max_depth=80, n_estimators=147; total time=   6.4s\n",
      "[CV] END .....................max_depth=80, n_estimators=162; total time=   6.4s\n",
      "[CV] END .....................max_depth=80, n_estimators=162; total time=   6.5s\n",
      "[CV] END .....................max_depth=80, n_estimators=177; total time=   7.0s\n",
      "[CV] END .....................max_depth=80, n_estimators=193; total time=   8.0s\n",
      "[CV] END .....................max_depth=80, n_estimators=208; total time=   8.4s\n",
      "[CV] END .....................max_depth=80, n_estimators=223; total time=   9.0s\n",
      "[CV] END .....................max_depth=80, n_estimators=223; total time=   9.0s\n",
      "[CV] END .....................max_depth=80, n_estimators=238; total time=  10.1s\n",
      "[CV] END .....................max_depth=80, n_estimators=254; total time=  10.2s\n",
      "[CV] END .....................max_depth=80, n_estimators=269; total time=  10.8s\n",
      "[CV] END .....................max_depth=80, n_estimators=284; total time=  12.0s\n",
      "[CV] END .....................max_depth=80, n_estimators=284; total time=  12.6s\n",
      "[CV] END .....................max_depth=80, n_estimators=300; total time=  13.2s\n",
      "[CV] END .....................max_depth=100, n_estimators=25; total time=   1.0s\n",
      "[CV] END .....................max_depth=100, n_estimators=25; total time=   1.0s\n",
      "[CV] END .....................max_depth=100, n_estimators=40; total time=   1.7s[CV] END ......................max_depth=20, n_estimators=10; total time=   0.4s\n",
      "[CV] END ......................max_depth=20, n_estimators=25; total time=   1.0s\n",
      "[CV] END ......................max_depth=20, n_estimators=40; total time=   1.6s\n",
      "[CV] END ......................max_depth=20, n_estimators=40; total time=   1.6s\n",
      "[CV] END ......................max_depth=20, n_estimators=55; total time=   2.3s\n",
      "[CV] END ......................max_depth=20, n_estimators=71; total time=   2.8s\n",
      "[CV] END ......................max_depth=20, n_estimators=86; total time=   3.4s\n",
      "[CV] END .....................max_depth=20, n_estimators=101; total time=   4.0s\n",
      "[CV] END .....................max_depth=20, n_estimators=101; total time=   4.0s\n",
      "[CV] END .....................max_depth=20, n_estimators=116; total time=   4.7s\n",
      "[CV] END .....................max_depth=20, n_estimators=132; total time=   5.1s\n",
      "[CV] END .....................max_depth=20, n_estimators=147; total time=   5.7s\n",
      "[CV] END .....................max_depth=20, n_estimators=162; total time=   6.2s\n",
      "[CV] END .....................max_depth=20, n_estimators=162; total time=   6.3s\n",
      "[CV] END .....................max_depth=20, n_estimators=177; total time=   7.5s\n",
      "[CV] END .....................max_depth=20, n_estimators=193; total time=   7.5s\n",
      "[CV] END .....................max_depth=20, n_estimators=208; total time=   8.1s\n",
      "[CV] END .....................max_depth=20, n_estimators=223; total time=   8.6s\n",
      "[CV] END .....................max_depth=20, n_estimators=223; total time=   9.1s\n",
      "[CV] END .....................max_depth=20, n_estimators=238; total time=   9.2s\n",
      "[CV] END .....................max_depth=20, n_estimators=254; total time=   9.8s\n",
      "[CV] END .....................max_depth=20, n_estimators=269; total time=  10.4s\n",
      "[CV] END .....................max_depth=20, n_estimators=284; total time=  11.0s\n",
      "[CV] END .....................max_depth=20, n_estimators=284; total time=  11.0s\n",
      "[CV] END .....................max_depth=20, n_estimators=300; total time=  12.3s\n",
      "[CV] END ......................max_depth=40, n_estimators=40; total time=   1.7s\n",
      "[CV] END ......................max_depth=40, n_estimators=55; total time=   2.2s\n",
      "[CV] END ......................max_depth=40, n_estimators=55; total time=   2.2s\n",
      "[CV] END ......................max_depth=40, n_estimators=71; total time=   2.9s\n",
      "[CV] END ......................max_depth=40, n_estimators=86; total time=   3.5s\n",
      "[CV] END .....................max_depth=40, n_estimators=101; total time=   4.1s\n",
      "[CV] END .....................max_depth=40, n_estimators=116; total time=   4.6s\n",
      "[CV] END .....................max_depth=40, n_estimators=116; total time=   4.6s\n",
      "[CV] END .....................max_depth=40, n_estimators=132; total time=   6.0s\n",
      "[CV] END .....................max_depth=40, n_estimators=147; total time=   5.9s\n",
      "[CV] END .....................max_depth=40, n_estimators=162; total time=   6.6s\n",
      "[CV] END .....................max_depth=40, n_estimators=177; total time=   7.2s\n",
      "[CV] END .....................max_depth=40, n_estimators=177; total time=   7.2s\n",
      "[CV] END .....................max_depth=40, n_estimators=193; total time=   7.8s\n",
      "[CV] END .....................max_depth=40, n_estimators=208; total time=   8.5s\n",
      "[CV] END .....................max_depth=40, n_estimators=223; total time=   9.1s\n",
      "[CV] END .....................max_depth=40, n_estimators=238; total time=   9.9s\n",
      "[CV] END .....................max_depth=40, n_estimators=238; total time=   9.7s\n",
      "[CV] END .....................max_depth=40, n_estimators=254; total time=  10.2s\n",
      "[CV] END .....................max_depth=40, n_estimators=269; total time=  11.4s\n",
      "[CV] END .....................max_depth=40, n_estimators=284; total time=  11.6s\n",
      "[CV] END .....................max_depth=40, n_estimators=300; total time=  12.1s\n",
      "[CV] END .....................max_depth=40, n_estimators=300; total time=  12.7s\n",
      "[CV] END ......................max_depth=60, n_estimators=55; total time=   2.2s\n",
      "[CV] END ......................max_depth=60, n_estimators=71; total time=   2.8s\n",
      "[CV] END ......................max_depth=60, n_estimators=86; total time=   3.5s\n",
      "[CV] END .....................max_depth=60, n_estimators=101; total time=   4.0s\n",
      "[CV] END .....................max_depth=60, n_estimators=101; total time=   4.0s\n",
      "[CV] END .....................max_depth=60, n_estimators=116; total time=   4.6s\n",
      "[CV] END .....................max_depth=60, n_estimators=132; total time=   5.9s\n",
      "[CV] END .....................max_depth=60, n_estimators=147; total time=   6.1s\n",
      "[CV] END .....................max_depth=60, n_estimators=162; total time=   6.7s\n",
      "[CV] END .....................max_depth=60, n_estimators=162; total time=   6.6s\n",
      "[CV] END .....................max_depth=60, n_estimators=177; total time=   7.2s\n",
      "[CV] END .....................max_depth=60, n_estimators=193; total time=   8.3s\n",
      "[CV] END .....................max_depth=60, n_estimators=208; total time=   8.3s\n",
      "[CV] END .....................max_depth=60, n_estimators=223; total time=   8.9s\n",
      "[CV] END .....................max_depth=60, n_estimators=223; total time=   9.0s\n",
      "[CV] END .....................max_depth=60, n_estimators=238; total time=  10.0s\n",
      "[CV] END .....................max_depth=60, n_estimators=254; total time=  10.2s\n",
      "[CV] END .....................max_depth=60, n_estimators=269; total time=  10.9s\n",
      "[CV] END .....................max_depth=60, n_estimators=284; total time=  11.8s\n",
      "[CV] END .....................max_depth=60, n_estimators=284; total time=  11.4s\n",
      "[CV] END .....................max_depth=60, n_estimators=300; total time=  12.5s\n",
      "[CV] END ......................max_depth=80, n_estimators=40; total time=   1.6s\n",
      "[CV] END ......................max_depth=80, n_estimators=55; total time=   2.3s\n",
      "[CV] END ......................max_depth=80, n_estimators=71; total time=   2.9s\n",
      "[CV] END ......................max_depth=80, n_estimators=71; total time=   2.9s\n",
      "[CV] END ......................max_depth=80, n_estimators=86; total time=   3.4s\n",
      "[CV] END .....................max_depth=80, n_estimators=101; total time=   4.1s\n",
      "[CV] END .....................max_depth=80, n_estimators=116; total time=   4.6s\n",
      "[CV] END .....................max_depth=80, n_estimators=132; total time=   5.3s\n",
      "[CV] END .....................max_depth=80, n_estimators=132; total time=   5.8s\n",
      "[CV] END .....................max_depth=80, n_estimators=147; total time=   5.9s\n",
      "[CV] END .....................max_depth=80, n_estimators=162; total time=   6.5s\n",
      "[CV] END .....................max_depth=80, n_estimators=177; total time=   7.1s\n",
      "[CV] END .....................max_depth=80, n_estimators=193; total time=   7.7s\n",
      "[CV] END .....................max_depth=80, n_estimators=193; total time=   8.1s\n",
      "[CV] END .....................max_depth=80, n_estimators=208; total time=   8.3s\n",
      "[CV] END .....................max_depth=80, n_estimators=223; total time=   8.9s\n",
      "[CV] END .....................max_depth=80, n_estimators=238; total time=   9.9s\n",
      "[CV] END .....................max_depth=80, n_estimators=254; total time=  10.2s\n",
      "[CV] END .....................max_depth=80, n_estimators=254; total time=  10.3s\n",
      "[CV] END .....................max_depth=80, n_estimators=269; total time=  11.2s\n",
      "[CV] END .....................max_depth=80, n_estimators=284; total time=  15.1s\n",
      "[CV] END .....................max_depth=80, n_estimators=300; total time=  12.2s\n",
      "[CV] END .....................max_depth=100, n_estimators=10; total time=   0.4s\n",
      "[CV] END .....................max_depth=100, n_estimators=10; total time=   0.4s\n",
      "[CV] END .....................max_depth=100, n_estimators=10; total time=   0.4s\n",
      "[CV] END .....................max_depth=100, n_estimators=10; total time=   0.4s\n",
      "[CV] END .....................max_depth=100, n_estimators=10; total time=   0.4s\n",
      "[CV] END .....................max_depth=100, n_estimators=25; total time=   1.3s\n",
      "[CV] END .....................max_depth=100, n_estimators=25; total time=   1.0s\n",
      "[CV] END .....................max_depth=100, n_estimators=25; total time=   1.0s\n",
      "[CV] END .....................max_depth=100, n_estimators=40; total time=   1.6s\n",
      "[CV] END .....................max_depth=100, n_estimators=55; total time=   2.3s\n",
      "[CV] END .....................max_depth=100, n_estimators=55; total time=   2.2s[CV] END ......................max_depth=20, n_estimators=10; total time=   0.4s\n",
      "[CV] END ......................max_depth=20, n_estimators=25; total time=   1.0s\n",
      "[CV] END ......................max_depth=20, n_estimators=40; total time=   1.6s\n",
      "[CV] END ......................max_depth=20, n_estimators=55; total time=   2.2s\n",
      "[CV] END ......................max_depth=20, n_estimators=55; total time=   2.2s\n",
      "[CV] END ......................max_depth=20, n_estimators=71; total time=   2.8s\n",
      "[CV] END ......................max_depth=20, n_estimators=86; total time=   3.4s\n",
      "[CV] END .....................max_depth=20, n_estimators=101; total time=   4.0s\n",
      "[CV] END .....................max_depth=20, n_estimators=116; total time=   4.9s\n",
      "[CV] END .....................max_depth=20, n_estimators=116; total time=   4.6s\n",
      "[CV] END .....................max_depth=20, n_estimators=132; total time=   5.1s\n",
      "[CV] END .....................max_depth=20, n_estimators=147; total time=   5.7s\n",
      "[CV] END .....................max_depth=20, n_estimators=162; total time=   6.3s\n",
      "[CV] END .....................max_depth=20, n_estimators=177; total time=   6.9s\n",
      "[CV] END .....................max_depth=20, n_estimators=177; total time=   7.1s\n",
      "[CV] END .....................max_depth=20, n_estimators=193; total time=   7.6s\n",
      "[CV] END .....................max_depth=20, n_estimators=208; total time=   8.1s\n",
      "[CV] END .....................max_depth=20, n_estimators=223; total time=   8.7s\n",
      "[CV] END .....................max_depth=20, n_estimators=238; total time=   9.5s\n",
      "[CV] END .....................max_depth=20, n_estimators=238; total time=   9.3s\n",
      "[CV] END .....................max_depth=20, n_estimators=254; total time=   9.7s\n",
      "[CV] END .....................max_depth=20, n_estimators=269; total time=  11.1s\n",
      "[CV] END .....................max_depth=20, n_estimators=284; total time=  11.1s\n",
      "[CV] END .....................max_depth=20, n_estimators=300; total time=  11.8s\n",
      "[CV] END .....................max_depth=20, n_estimators=300; total time=  12.0s\n",
      "[CV] END ......................max_depth=40, n_estimators=55; total time=   2.3s\n",
      "[CV] END ......................max_depth=40, n_estimators=71; total time=   2.9s\n",
      "[CV] END ......................max_depth=40, n_estimators=86; total time=   3.5s\n",
      "[CV] END .....................max_depth=40, n_estimators=101; total time=   4.1s\n",
      "[CV] END .....................max_depth=40, n_estimators=101; total time=   4.1s\n",
      "[CV] END .....................max_depth=40, n_estimators=116; total time=   4.7s\n",
      "[CV] END .....................max_depth=40, n_estimators=132; total time=   5.9s\n",
      "[CV] END .....................max_depth=40, n_estimators=147; total time=   6.0s\n",
      "[CV] END .....................max_depth=40, n_estimators=162; total time=   6.6s\n",
      "[CV] END .....................max_depth=40, n_estimators=162; total time=   6.5s\n",
      "[CV] END .....................max_depth=40, n_estimators=177; total time=   7.1s\n",
      "[CV] END .....................max_depth=40, n_estimators=193; total time=   8.2s\n",
      "[CV] END .....................max_depth=40, n_estimators=208; total time=   8.4s\n",
      "[CV] END .....................max_depth=40, n_estimators=223; total time=   9.0s\n",
      "[CV] END .....................max_depth=40, n_estimators=223; total time=   9.7s\n",
      "[CV] END .....................max_depth=40, n_estimators=238; total time=   9.7s\n",
      "[CV] END .....................max_depth=40, n_estimators=254; total time=  10.3s\n",
      "[CV] END .....................max_depth=40, n_estimators=269; total time=  11.0s\n",
      "[CV] END .....................max_depth=40, n_estimators=284; total time=  11.5s\n",
      "[CV] END .....................max_depth=40, n_estimators=284; total time=  11.6s\n",
      "[CV] END .....................max_depth=40, n_estimators=300; total time=  12.7s\n",
      "[CV] END ......................max_depth=60, n_estimators=40; total time=   1.7s\n",
      "[CV] END ......................max_depth=60, n_estimators=55; total time=   2.2s\n",
      "[CV] END ......................max_depth=60, n_estimators=71; total time=   2.9s\n",
      "[CV] END ......................max_depth=60, n_estimators=86; total time=   3.4s\n",
      "[CV] END ......................max_depth=60, n_estimators=86; total time=   3.4s\n",
      "[CV] END .....................max_depth=60, n_estimators=101; total time=   4.0s\n",
      "[CV] END .....................max_depth=60, n_estimators=116; total time=   4.6s\n",
      "[CV] END .....................max_depth=60, n_estimators=132; total time=   5.7s\n",
      "[CV] END .....................max_depth=60, n_estimators=147; total time=   6.0s\n",
      "[CV] END .....................max_depth=60, n_estimators=147; total time=   6.1s\n",
      "[CV] END .....................max_depth=60, n_estimators=162; total time=   6.6s\n",
      "[CV] END .....................max_depth=60, n_estimators=177; total time=   7.0s\n",
      "[CV] END .....................max_depth=60, n_estimators=193; total time=   8.1s\n",
      "[CV] END .....................max_depth=60, n_estimators=208; total time=   8.2s\n",
      "[CV] END .....................max_depth=60, n_estimators=208; total time=   8.2s\n",
      "[CV] END .....................max_depth=60, n_estimators=223; total time=   8.9s\n",
      "[CV] END .....................max_depth=60, n_estimators=238; total time=   9.9s\n",
      "[CV] END .....................max_depth=60, n_estimators=254; total time=  10.2s\n",
      "[CV] END .....................max_depth=60, n_estimators=269; total time=  10.6s\n",
      "[CV] END .....................max_depth=60, n_estimators=269; total time=  11.0s\n",
      "[CV] END .....................max_depth=60, n_estimators=284; total time=  11.5s\n",
      "[CV] END .....................max_depth=60, n_estimators=300; total time=  12.3s\n",
      "[CV] END ......................max_depth=80, n_estimators=25; total time=   1.0s\n",
      "[CV] END ......................max_depth=80, n_estimators=25; total time=   1.1s\n",
      "[CV] END ......................max_depth=80, n_estimators=25; total time=   1.0s\n",
      "[CV] END ......................max_depth=80, n_estimators=40; total time=   1.6s\n",
      "[CV] END ......................max_depth=80, n_estimators=40; total time=   1.6s\n",
      "[CV] END ......................max_depth=80, n_estimators=55; total time=   2.2s\n",
      "[CV] END ......................max_depth=80, n_estimators=71; total time=   2.9s\n",
      "[CV] END ......................max_depth=80, n_estimators=86; total time=   3.4s\n",
      "[CV] END ......................max_depth=80, n_estimators=86; total time=   3.5s\n",
      "[CV] END .....................max_depth=80, n_estimators=101; total time=   4.1s\n",
      "[CV] END .....................max_depth=80, n_estimators=116; total time=   4.6s\n",
      "[CV] END .....................max_depth=80, n_estimators=132; total time=   5.2s\n",
      "[CV] END .....................max_depth=80, n_estimators=147; total time=   6.2s\n",
      "[CV] END .....................max_depth=80, n_estimators=147; total time=   5.7s\n",
      "[CV] END .....................max_depth=80, n_estimators=162; total time=   6.4s\n",
      "[CV] END .....................max_depth=80, n_estimators=177; total time=   7.0s\n",
      "[CV] END .....................max_depth=80, n_estimators=193; total time=   7.7s\n",
      "[CV] END .....................max_depth=80, n_estimators=208; total time=   8.8s\n",
      "[CV] END .....................max_depth=80, n_estimators=208; total time=   8.3s\n",
      "[CV] END .....................max_depth=80, n_estimators=223; total time=   9.0s\n",
      "[CV] END .....................max_depth=80, n_estimators=238; total time=  10.0s\n",
      "[CV] END .....................max_depth=80, n_estimators=254; total time=  10.3s\n",
      "[CV] END .....................max_depth=80, n_estimators=269; total time=  10.8s\n",
      "[CV] END .....................max_depth=80, n_estimators=269; total time=  12.1s\n",
      "[CV] END .....................max_depth=80, n_estimators=284; total time=  12.2s\n",
      "[CV] END .....................max_depth=80, n_estimators=300; total time=  17.3s\n",
      "[CV] END .....................max_depth=100, n_estimators=40; total time=   1.6s\n",
      "[CV] END .....................max_depth=100, n_estimators=40; total time=   1.6s\n",
      "[CV] END .....................max_depth=100, n_estimators=55; total time=   2.2s\n",
      "[CV] END .....................max_depth=100, n_estimators=71; total time=   2.9s\n",
      "[CV] END .....................max_depth=100, n_estimators=86; total time=   3.5s\n",
      "[CV] END ....................max_depth=100, n_estimators=101; total time=   4.1s\n",
      "[CV] END ....................max_depth=100, n_estimators=101; total time=   4.1s\n",
      "[CV] END ....................max_depth=100, n_estimators=116; total time=   4.8sThe best hyperparameters to use for the random forest model is {'max_depth': 60, 'n_estimators': 300}\n"
     ]
    },
    {
     "data": {
      "text/plain": [
       "['/kaggle/working/best_rf.joblib']"
      ]
     },
     "execution_count": 26,
     "metadata": {},
     "output_type": "execute_result"
    }
   ],
   "source": [
    "params = {\n",
    "    'n_estimators': [int(x) for x in np.linspace(start = 10, stop = 300, num = 20)],\n",
    "    'max_depth':[20, 40, 60, 80, 100, None],\n",
    "}\n",
    "rf = RandomForestClassifier()\n",
    "rf_grid = GridSearchCV(estimator = rf, param_grid = params, cv = 5, verbose = 2, n_jobs = -1)\n",
    "rf_grid.fit(train_X, train_y)\n",
    "print(f\"The best hyperparameters to use for the random forest model is {rf_grid.best_params_}\")\n",
    "best_rf = rf_grid.best_estimator_\n",
    "\n",
    "# save the model\n",
    "dump(best_rf, '/kaggle/working/best_rf.joblib')"
   ]
  },
  {
   "cell_type": "code",
   "execution_count": 27,
   "id": "730aadec",
   "metadata": {
    "execution": {
     "iopub.execute_input": "2023-08-12T19:51:46.423652Z",
     "iopub.status.busy": "2023-08-12T19:51:46.423019Z",
     "iopub.status.idle": "2023-08-12T19:51:48.801965Z",
     "shell.execute_reply": "2023-08-12T19:51:48.800880Z"
    },
    "papermill": {
     "duration": 2.41691,
     "end_time": "2023-08-12T19:51:48.804261",
     "exception": false,
     "start_time": "2023-08-12T19:51:46.387351",
     "status": "completed"
    },
    "tags": []
   },
   "outputs": [
    {
     "name": "stdout",
     "output_type": "stream",
     "text": [
      "Model Performance\n",
      "the model accuracy score is  0.9350928341261316\n",
      "the model f1 score is 0.8344422700587084\n",
      "Model Performance\n",
      "the model accuracy score is  0.9361669479822003\n",
      "the model f1 score is 0.836734693877551\n",
      "Improvement of 0.114867% on the accuracy and 0.274725% on the f1 score\n"
     ]
    }
   ],
   "source": [
    "def evaluate(model, test_X, test_y):\n",
    "    y_pred = model.predict(test_X)\n",
    "    print(\"Model Performance\")\n",
    "    accuracy = accuracy_score(test_y, y_pred)\n",
    "    f1 = f1_score(test_y, y_pred)\n",
    "    print('the model accuracy score is ', accuracy)\n",
    "    print(f'the model f1 score is {f1}')\n",
    "    return accuracy, f1\n",
    "\n",
    "base_model = RandomForestClassifier(n_estimators = 50, random_state = 42)\n",
    "base_model.fit(train_X, train_y)\n",
    "base_accuracy, base_f1 = evaluate(base_model, test_X, test_y)\n",
    "\n",
    "grid_accuracy, grid_f1 = evaluate(best_rf, test_X, test_y)\n",
    "\n",
    "improve_accuracy = (grid_accuracy - base_accuracy) / base_accuracy * 100\n",
    "improve_f1 = (grid_f1 - base_f1) / base_f1 * 100\n",
    "print(f\"Improvement of {round(improve_accuracy, 6)}% on the accuracy and {round(improve_f1, 6)}% on the f1 score\")\n"
   ]
  },
  {
   "cell_type": "markdown",
   "id": "a264f12a",
   "metadata": {
    "papermill": {
     "duration": 0.034598,
     "end_time": "2023-08-12T19:51:48.873075",
     "exception": false,
     "start_time": "2023-08-12T19:51:48.838477",
     "status": "completed"
    },
    "tags": []
   },
   "source": [
    "## Model Explainability"
   ]
  },
  {
   "cell_type": "markdown",
   "id": "c85ab905",
   "metadata": {
    "papermill": {
     "duration": 0.033259,
     "end_time": "2023-08-12T19:51:48.939903",
     "exception": false,
     "start_time": "2023-08-12T19:51:48.906644",
     "status": "completed"
    },
    "tags": []
   },
   "source": [
    "#### Comparison between permutaion importance and SHAP importance\n",
    "\n",
    "**Permutation importance**\n",
    "Permutation importance is calculated on the entire dataset and measure how much the accuracy of the whole dataset changes by eliminating a feature. \n",
    "\n",
    "It can be used to:\n",
    "* Understand which features to keep and which to exclude.\n",
    "* Check for data leakage\n",
    "* Understand what features are most important to model accuracy\n",
    "* Guide additional feature engineering\n",
    "\n",
    "**SHAP importance**\n",
    "SHAP importance is calculated on row level and can be used to understand what is important to a specific row. The values represent how a feature influences the prediction of a single row relative to the average outcome in the dataset. \n",
    "\n",
    "It can be used to:\n",
    "* Understand which features most influence the predicted outcome. \n",
    "* Dive into a feature and understand how the different values of that feature affect the prediction.\n",
    "* Understand what is most influential on individual rows or subsets within the data.\n",
    "\n",
    "**Key Differences**\n",
    "* Permutation importance can only measure the importance of features to the entire dataset, not in specific rows. SHAP importance can be used to see the feature importance in a row level.\n",
    "* Permutation importance does not include a direction which SHAP importance can be directional.\n",
    "* The magnitude of the SHAP importance can be used to understand how the values within a feature influence the outcome, while Permutation importance values are used to estimate how important the feature is to the whole dataset. "
   ]
  },
  {
   "cell_type": "code",
   "execution_count": 28,
   "id": "9645b25b",
   "metadata": {
    "execution": {
     "iopub.execute_input": "2023-08-12T19:51:49.007252Z",
     "iopub.status.busy": "2023-08-12T19:51:49.006815Z",
     "iopub.status.idle": "2023-08-12T19:54:57.389550Z",
     "shell.execute_reply": "2023-08-12T19:54:57.388738Z"
    },
    "papermill": {
     "duration": 188.453122,
     "end_time": "2023-08-12T19:54:57.425304",
     "exception": false,
     "start_time": "2023-08-12T19:51:48.972182",
     "status": "completed"
    },
    "tags": []
   },
   "outputs": [
    {
     "data": {
      "text/html": [
       "\n",
       "    <style>\n",
       "    table.eli5-weights tr:hover {\n",
       "        filter: brightness(85%);\n",
       "    }\n",
       "</style>\n",
       "\n",
       "\n",
       "\n",
       "    \n",
       "\n",
       "    \n",
       "\n",
       "    \n",
       "\n",
       "    \n",
       "\n",
       "    \n",
       "\n",
       "    \n",
       "\n",
       "\n",
       "    \n",
       "\n",
       "    \n",
       "\n",
       "    \n",
       "\n",
       "    \n",
       "\n",
       "    \n",
       "\n",
       "    \n",
       "\n",
       "\n",
       "    \n",
       "\n",
       "    \n",
       "\n",
       "    \n",
       "\n",
       "    \n",
       "\n",
       "    \n",
       "        <table class=\"eli5-weights eli5-feature-importances\" style=\"border-collapse: collapse; border: none; margin-top: 0em; table-layout: auto;\">\n",
       "    <thead>\n",
       "    <tr style=\"border: none;\">\n",
       "        <th style=\"padding: 0 1em 0 0.5em; text-align: right; border: none;\">Weight</th>\n",
       "        <th style=\"padding: 0 0.5em 0 0.5em; text-align: left; border: none;\">Feature</th>\n",
       "    </tr>\n",
       "    </thead>\n",
       "    <tbody>\n",
       "    \n",
       "        <tr style=\"background-color: hsl(120, 100.00%, 80.00%); border: none;\">\n",
       "            <td style=\"padding: 0 1em 0 0.5em; text-align: right; border: none;\">\n",
       "                0.1268\n",
       "                \n",
       "                    &plusmn; 0.0016\n",
       "                \n",
       "            </td>\n",
       "            <td style=\"padding: 0 0.5em 0 0.5em; text-align: left; border: none;\">\n",
       "                loan_percent_income\n",
       "            </td>\n",
       "        </tr>\n",
       "    \n",
       "        <tr style=\"background-color: hsl(120, 100.00%, 85.40%); border: none;\">\n",
       "            <td style=\"padding: 0 1em 0 0.5em; text-align: right; border: none;\">\n",
       "                0.0808\n",
       "                \n",
       "                    &plusmn; 0.0012\n",
       "                \n",
       "            </td>\n",
       "            <td style=\"padding: 0 0.5em 0 0.5em; text-align: left; border: none;\">\n",
       "                person_income\n",
       "            </td>\n",
       "        </tr>\n",
       "    \n",
       "        <tr style=\"background-color: hsl(120, 100.00%, 86.01%); border: none;\">\n",
       "            <td style=\"padding: 0 1em 0 0.5em; text-align: right; border: none;\">\n",
       "                0.0761\n",
       "                \n",
       "                    &plusmn; 0.0029\n",
       "                \n",
       "            </td>\n",
       "            <td style=\"padding: 0 0.5em 0 0.5em; text-align: left; border: none;\">\n",
       "                person_home_ownership_RENT\n",
       "            </td>\n",
       "        </tr>\n",
       "    \n",
       "        <tr style=\"background-color: hsl(120, 100.00%, 89.69%); border: none;\">\n",
       "            <td style=\"padding: 0 1em 0 0.5em; text-align: right; border: none;\">\n",
       "                0.0492\n",
       "                \n",
       "                    &plusmn; 0.0012\n",
       "                \n",
       "            </td>\n",
       "            <td style=\"padding: 0 0.5em 0 0.5em; text-align: left; border: none;\">\n",
       "                loan_int_rate\n",
       "            </td>\n",
       "        </tr>\n",
       "    \n",
       "        <tr style=\"background-color: hsl(120, 100.00%, 90.21%); border: none;\">\n",
       "            <td style=\"padding: 0 1em 0 0.5em; text-align: right; border: none;\">\n",
       "                0.0457\n",
       "                \n",
       "                    &plusmn; 0.0014\n",
       "                \n",
       "            </td>\n",
       "            <td style=\"padding: 0 0.5em 0 0.5em; text-align: left; border: none;\">\n",
       "                person_emp_length\n",
       "            </td>\n",
       "        </tr>\n",
       "    \n",
       "        <tr style=\"background-color: hsl(120, 100.00%, 91.14%); border: none;\">\n",
       "            <td style=\"padding: 0 1em 0 0.5em; text-align: right; border: none;\">\n",
       "                0.0396\n",
       "                \n",
       "                    &plusmn; 0.0017\n",
       "                \n",
       "            </td>\n",
       "            <td style=\"padding: 0 0.5em 0 0.5em; text-align: left; border: none;\">\n",
       "                loan_grade_D\n",
       "            </td>\n",
       "        </tr>\n",
       "    \n",
       "        <tr style=\"background-color: hsl(120, 100.00%, 91.85%); border: none;\">\n",
       "            <td style=\"padding: 0 1em 0 0.5em; text-align: right; border: none;\">\n",
       "                0.0352\n",
       "                \n",
       "                    &plusmn; 0.0010\n",
       "                \n",
       "            </td>\n",
       "            <td style=\"padding: 0 0.5em 0 0.5em; text-align: left; border: none;\">\n",
       "                loan_amnt\n",
       "            </td>\n",
       "        </tr>\n",
       "    \n",
       "        <tr style=\"background-color: hsl(120, 100.00%, 93.40%); border: none;\">\n",
       "            <td style=\"padding: 0 1em 0 0.5em; text-align: right; border: none;\">\n",
       "                0.0260\n",
       "                \n",
       "                    &plusmn; 0.0006\n",
       "                \n",
       "            </td>\n",
       "            <td style=\"padding: 0 0.5em 0 0.5em; text-align: left; border: none;\">\n",
       "                person_age\n",
       "            </td>\n",
       "        </tr>\n",
       "    \n",
       "        <tr style=\"background-color: hsl(120, 100.00%, 93.72%); border: none;\">\n",
       "            <td style=\"padding: 0 1em 0 0.5em; text-align: right; border: none;\">\n",
       "                0.0243\n",
       "                \n",
       "                    &plusmn; 0.0004\n",
       "                \n",
       "            </td>\n",
       "            <td style=\"padding: 0 0.5em 0 0.5em; text-align: left; border: none;\">\n",
       "                loan_intent_MEDICAL\n",
       "            </td>\n",
       "        </tr>\n",
       "    \n",
       "        <tr style=\"background-color: hsl(120, 100.00%, 93.85%); border: none;\">\n",
       "            <td style=\"padding: 0 1em 0 0.5em; text-align: right; border: none;\">\n",
       "                0.0235\n",
       "                \n",
       "                    &plusmn; 0.0009\n",
       "                \n",
       "            </td>\n",
       "            <td style=\"padding: 0 0.5em 0 0.5em; text-align: left; border: none;\">\n",
       "                loan_intent_DEBTCONSOLIDATION\n",
       "            </td>\n",
       "        </tr>\n",
       "    \n",
       "        <tr style=\"background-color: hsl(120, 100.00%, 93.97%); border: none;\">\n",
       "            <td style=\"padding: 0 1em 0 0.5em; text-align: right; border: none;\">\n",
       "                0.0228\n",
       "                \n",
       "                    &plusmn; 0.0017\n",
       "                \n",
       "            </td>\n",
       "            <td style=\"padding: 0 0.5em 0 0.5em; text-align: left; border: none;\">\n",
       "                loan_intent_HOMEIMPROVEMENT\n",
       "            </td>\n",
       "        </tr>\n",
       "    \n",
       "        <tr style=\"background-color: hsl(120, 100.00%, 94.13%); border: none;\">\n",
       "            <td style=\"padding: 0 1em 0 0.5em; text-align: right; border: none;\">\n",
       "                0.0220\n",
       "                \n",
       "                    &plusmn; 0.0006\n",
       "                \n",
       "            </td>\n",
       "            <td style=\"padding: 0 0.5em 0 0.5em; text-align: left; border: none;\">\n",
       "                cb_person_cred_hist_length\n",
       "            </td>\n",
       "        </tr>\n",
       "    \n",
       "        <tr style=\"background-color: hsl(120, 100.00%, 95.03%); border: none;\">\n",
       "            <td style=\"padding: 0 1em 0 0.5em; text-align: right; border: none;\">\n",
       "                0.0174\n",
       "                \n",
       "                    &plusmn; 0.0006\n",
       "                \n",
       "            </td>\n",
       "            <td style=\"padding: 0 0.5em 0 0.5em; text-align: left; border: none;\">\n",
       "                loan_grade_A\n",
       "            </td>\n",
       "        </tr>\n",
       "    \n",
       "        <tr style=\"background-color: hsl(120, 100.00%, 95.04%); border: none;\">\n",
       "            <td style=\"padding: 0 1em 0 0.5em; text-align: right; border: none;\">\n",
       "                0.0173\n",
       "                \n",
       "                    &plusmn; 0.0010\n",
       "                \n",
       "            </td>\n",
       "            <td style=\"padding: 0 0.5em 0 0.5em; text-align: left; border: none;\">\n",
       "                person_home_ownership_MORTGAGE\n",
       "            </td>\n",
       "        </tr>\n",
       "    \n",
       "        <tr style=\"background-color: hsl(120, 100.00%, 95.64%); border: none;\">\n",
       "            <td style=\"padding: 0 1em 0 0.5em; text-align: right; border: none;\">\n",
       "                0.0144\n",
       "                \n",
       "                    &plusmn; 0.0007\n",
       "                \n",
       "            </td>\n",
       "            <td style=\"padding: 0 0.5em 0 0.5em; text-align: left; border: none;\">\n",
       "                loan_grade_C\n",
       "            </td>\n",
       "        </tr>\n",
       "    \n",
       "        <tr style=\"background-color: hsl(120, 100.00%, 96.56%); border: none;\">\n",
       "            <td style=\"padding: 0 1em 0 0.5em; text-align: right; border: none;\">\n",
       "                0.0103\n",
       "                \n",
       "                    &plusmn; 0.0009\n",
       "                \n",
       "            </td>\n",
       "            <td style=\"padding: 0 0.5em 0 0.5em; text-align: left; border: none;\">\n",
       "                loan_intent_EDUCATION\n",
       "            </td>\n",
       "        </tr>\n",
       "    \n",
       "        <tr style=\"background-color: hsl(120, 100.00%, 96.75%); border: none;\">\n",
       "            <td style=\"padding: 0 1em 0 0.5em; text-align: right; border: none;\">\n",
       "                0.0094\n",
       "                \n",
       "                    &plusmn; 0.0009\n",
       "                \n",
       "            </td>\n",
       "            <td style=\"padding: 0 0.5em 0 0.5em; text-align: left; border: none;\">\n",
       "                loan_intent_VENTURE\n",
       "            </td>\n",
       "        </tr>\n",
       "    \n",
       "        <tr style=\"background-color: hsl(120, 100.00%, 97.00%); border: none;\">\n",
       "            <td style=\"padding: 0 1em 0 0.5em; text-align: right; border: none;\">\n",
       "                0.0084\n",
       "                \n",
       "                    &plusmn; 0.0004\n",
       "                \n",
       "            </td>\n",
       "            <td style=\"padding: 0 0.5em 0 0.5em; text-align: left; border: none;\">\n",
       "                loan_intent_PERSONAL\n",
       "            </td>\n",
       "        </tr>\n",
       "    \n",
       "        <tr style=\"background-color: hsl(120, 100.00%, 97.06%); border: none;\">\n",
       "            <td style=\"padding: 0 1em 0 0.5em; text-align: right; border: none;\">\n",
       "                0.0082\n",
       "                \n",
       "                    &plusmn; 0.0010\n",
       "                \n",
       "            </td>\n",
       "            <td style=\"padding: 0 0.5em 0 0.5em; text-align: left; border: none;\">\n",
       "                person_home_ownership_OWN\n",
       "            </td>\n",
       "        </tr>\n",
       "    \n",
       "        <tr style=\"background-color: hsl(120, 100.00%, 97.40%); border: none;\">\n",
       "            <td style=\"padding: 0 1em 0 0.5em; text-align: right; border: none;\">\n",
       "                0.0069\n",
       "                \n",
       "                    &plusmn; 0.0006\n",
       "                \n",
       "            </td>\n",
       "            <td style=\"padding: 0 0.5em 0 0.5em; text-align: left; border: none;\">\n",
       "                loan_grade_B\n",
       "            </td>\n",
       "        </tr>\n",
       "    \n",
       "    \n",
       "        \n",
       "            <tr style=\"background-color: hsl(120, 100.00%, 97.40%); border: none;\">\n",
       "                <td colspan=\"2\" style=\"padding: 0 0.5em 0 0.5em; text-align: center; border: none; white-space: nowrap;\">\n",
       "                    <i>&hellip; 6 more &hellip;</i>\n",
       "                </td>\n",
       "            </tr>\n",
       "        \n",
       "    \n",
       "    </tbody>\n",
       "</table>\n",
       "    \n",
       "\n",
       "    \n",
       "\n",
       "\n",
       "    \n",
       "\n",
       "    \n",
       "\n",
       "    \n",
       "\n",
       "    \n",
       "\n",
       "    \n",
       "\n",
       "    \n",
       "\n",
       "\n",
       "\n"
      ],
      "text/plain": [
       "<IPython.core.display.HTML object>"
      ]
     },
     "execution_count": 28,
     "metadata": {},
     "output_type": "execute_result"
    }
   ],
   "source": [
    "# use permutation improtance to show the weights of each features to give us a summarized view\n",
    "perm = PermutationImportance(best_rf, random_state = 1).fit(train_X, train_y)\n",
    "eli5.show_weights(perm, feature_names = train_X.columns.tolist())"
   ]
  },
  {
   "cell_type": "markdown",
   "id": "3320d68b",
   "metadata": {
    "papermill": {
     "duration": 0.033612,
     "end_time": "2023-08-12T19:54:57.492483",
     "exception": false,
     "start_time": "2023-08-12T19:54:57.458871",
     "status": "completed"
    },
    "tags": []
   },
   "source": [
    "**Permutation Importance Conclusion**\n",
    "\n",
    "In the permutation importance table, we can see which features have the biggest impact on the overall model accuracy. Based on the importance rank, we can perform feature selection to reduce the dimension of the dataset if we do not have sufficient dataset size and worry about overfitting issue."
   ]
  },
  {
   "cell_type": "code",
   "execution_count": 29,
   "id": "5042c0a7",
   "metadata": {
    "execution": {
     "iopub.execute_input": "2023-08-12T19:54:57.562757Z",
     "iopub.status.busy": "2023-08-12T19:54:57.562075Z",
     "iopub.status.idle": "2023-08-12T21:22:11.355246Z",
     "shell.execute_reply": "2023-08-12T21:22:11.354287Z"
    },
    "papermill": {
     "duration": 5233.831541,
     "end_time": "2023-08-12T21:22:11.358176",
     "exception": false,
     "start_time": "2023-08-12T19:54:57.526635",
     "status": "completed"
    },
    "tags": []
   },
   "outputs": [
    {
     "name": "stdout",
     "output_type": "stream",
     "text": [
      "\n",
      "[CV] END ....................max_depth=100, n_estimators=132; total time=   5.5s\n",
      "[CV] END ....................max_depth=100, n_estimators=147; total time=   5.9s\n",
      "[CV] END ....................max_depth=100, n_estimators=162; total time=   6.6s\n",
      "[CV] END ....................max_depth=100, n_estimators=162; total time=   6.6s\n",
      "[CV] END ....................max_depth=100, n_estimators=177; total time=   7.1s\n",
      "[CV] END ....................max_depth=100, n_estimators=193; total time=   8.3s\n",
      "[CV] END ....................max_depth=100, n_estimators=208; total time=   8.3s\n",
      "[CV] END ....................max_depth=100, n_estimators=223; total time=   8.8s\n",
      "[CV] END ....................max_depth=100, n_estimators=223; total time=   8.9s\n",
      "[CV] END ....................max_depth=100, n_estimators=238; total time=  10.1s\n",
      "[CV] END ....................max_depth=100, n_estimators=254; total time=  10.3s\n",
      "[CV] END ....................max_depth=100, n_estimators=269; total time=  11.0s\n",
      "[CV] END ....................max_depth=100, n_estimators=284; total time=  11.8s\n",
      "[CV] END ....................max_depth=100, n_estimators=284; total time=  11.5s\n",
      "[CV] END ....................max_depth=100, n_estimators=300; total time=  12.4s\n",
      "[CV] END ....................max_depth=None, n_estimators=40; total time=   1.7s\n",
      "[CV] END ....................max_depth=None, n_estimators=55; total time=   2.3s\n",
      "[CV] END ....................max_depth=None, n_estimators=71; total time=   2.9s\n",
      "[CV] END ....................max_depth=None, n_estimators=71; total time=   2.9s\n",
      "[CV] END ....................max_depth=None, n_estimators=86; total time=   3.5s\n",
      "[CV] END ...................max_depth=None, n_estimators=101; total time=   4.1s\n",
      "[CV] END ...................max_depth=None, n_estimators=116; total time=   4.6s\n",
      "[CV] END ...................max_depth=None, n_estimators=132; total time=   5.2s\n",
      "[CV] END ...................max_depth=None, n_estimators=132; total time=   5.8s\n",
      "[CV] END ...................max_depth=None, n_estimators=147; total time=   6.0s\n",
      "[CV] END ...................max_depth=None, n_estimators=162; total time=   6.5s\n",
      "[CV] END ...................max_depth=None, n_estimators=177; total time=   7.2s\n",
      "[CV] END ...................max_depth=None, n_estimators=193; total time=   7.7s\n",
      "[CV] END ...................max_depth=None, n_estimators=193; total time=   8.3s\n",
      "[CV] END ...................max_depth=None, n_estimators=208; total time=   8.5s\n",
      "[CV] END ...................max_depth=None, n_estimators=223; total time=   9.0s\n",
      "[CV] END ...................max_depth=None, n_estimators=238; total time=  10.2s\n",
      "[CV] END ...................max_depth=None, n_estimators=254; total time=  10.3s\n",
      "[CV] END ...................max_depth=None, n_estimators=254; total time=  10.2s\n",
      "[CV] END ...................max_depth=None, n_estimators=269; total time=  11.4s\n",
      "[CV] END ...................max_depth=None, n_estimators=284; total time=  11.6s\n",
      "[CV] END ...................max_depth=None, n_estimators=300; total time=  12.3s\n",
      "\n",
      "[CV] END .....................max_depth=100, n_estimators=55; total time=   2.2s\n",
      "[CV] END .....................max_depth=100, n_estimators=71; total time=   2.9s\n",
      "[CV] END .....................max_depth=100, n_estimators=71; total time=   2.9s\n",
      "[CV] END .....................max_depth=100, n_estimators=86; total time=   3.5s\n",
      "[CV] END ....................max_depth=100, n_estimators=101; total time=   4.1s\n",
      "[CV] END ....................max_depth=100, n_estimators=116; total time=   4.6s\n",
      "[CV] END ....................max_depth=100, n_estimators=132; total time=   5.3s\n",
      "[CV] END ....................max_depth=100, n_estimators=132; total time=   5.9s\n",
      "[CV] END ....................max_depth=100, n_estimators=147; total time=   5.9s\n",
      "[CV] END ....................max_depth=100, n_estimators=162; total time=   6.5s\n",
      "[CV] END ....................max_depth=100, n_estimators=177; total time=   7.1s\n",
      "[CV] END ....................max_depth=100, n_estimators=193; total time=   7.8s\n",
      "[CV] END ....................max_depth=100, n_estimators=193; total time=   8.1s\n",
      "[CV] END ....................max_depth=100, n_estimators=208; total time=   8.4s\n",
      "[CV] END ....................max_depth=100, n_estimators=223; total time=   9.0s\n",
      "[CV] END ....................max_depth=100, n_estimators=238; total time=  10.1s\n",
      "[CV] END ....................max_depth=100, n_estimators=254; total time=  10.1s\n",
      "[CV] END ....................max_depth=100, n_estimators=254; total time=  10.2s\n",
      "[CV] END ....................max_depth=100, n_estimators=269; total time=  11.0s\n",
      "[CV] END ....................max_depth=100, n_estimators=284; total time=  11.5s\n",
      "[CV] END ....................max_depth=100, n_estimators=300; total time=  11.9s\n",
      "[CV] END ....................max_depth=None, n_estimators=10; total time=   0.4s\n",
      "[CV] END ....................max_depth=None, n_estimators=10; total time=   0.4s\n",
      "[CV] END ....................max_depth=None, n_estimators=10; total time=   0.4s\n",
      "[CV] END ....................max_depth=None, n_estimators=10; total time=   0.4s\n",
      "[CV] END ....................max_depth=None, n_estimators=10; total time=   0.4s\n",
      "[CV] END ....................max_depth=None, n_estimators=25; total time=   1.0s\n",
      "[CV] END ....................max_depth=None, n_estimators=25; total time=   1.0s\n",
      "[CV] END ....................max_depth=None, n_estimators=25; total time=   1.2s\n",
      "[CV] END ....................max_depth=None, n_estimators=40; total time=   1.9s\n",
      "[CV] END ....................max_depth=None, n_estimators=40; total time=   1.6s\n",
      "[CV] END ....................max_depth=None, n_estimators=55; total time=   2.2s\n",
      "[CV] END ....................max_depth=None, n_estimators=71; total time=   2.9s\n",
      "[CV] END ....................max_depth=None, n_estimators=86; total time=   3.5s\n",
      "[CV] END ....................max_depth=None, n_estimators=86; total time=   3.5s\n",
      "[CV] END ...................max_depth=None, n_estimators=101; total time=   4.1s\n",
      "[CV] END ...................max_depth=None, n_estimators=116; total time=   4.6s\n",
      "[CV] END ...................max_depth=None, n_estimators=132; total time=   5.3s\n",
      "[CV] END ...................max_depth=None, n_estimators=147; total time=   6.4s\n",
      "[CV] END ...................max_depth=None, n_estimators=147; total time=   5.9s\n",
      "[CV] END ...................max_depth=None, n_estimators=162; total time=   6.6s\n",
      "[CV] END ...................max_depth=None, n_estimators=177; total time=   7.2s\n",
      "[CV] END ...................max_depth=None, n_estimators=193; total time=   8.0s\n",
      "[CV] END ...................max_depth=None, n_estimators=208; total time=   8.5s\n",
      "[CV] END ...................max_depth=None, n_estimators=208; total time=   8.5s\n",
      "[CV] END ...................max_depth=None, n_estimators=223; total time=   9.1s\n",
      "[CV] END ...................max_depth=None, n_estimators=238; total time=  10.0s\n",
      "[CV] END ...................max_depth=None, n_estimators=254; total time=  10.3s\n",
      "[CV] END ...................max_depth=None, n_estimators=269; total time=  10.7s\n",
      "[CV] END ...................max_depth=None, n_estimators=269; total time=  11.3s\n",
      "[CV] END ...................max_depth=None, n_estimators=284; total time=  11.6s\n",
      "[CV] END ...................max_depth=None, n_estimators=300; total time=  12.0s\n",
      "\n",
      "[CV] END .....................max_depth=80, n_estimators=147; total time=   5.9s\n",
      "[CV] END .....................max_depth=80, n_estimators=162; total time=   6.5s\n",
      "[CV] END .....................max_depth=80, n_estimators=177; total time=   7.0s\n",
      "[CV] END .....................max_depth=80, n_estimators=177; total time=   7.1s\n",
      "[CV] END .....................max_depth=80, n_estimators=193; total time=   8.2s\n",
      "[CV] END .....................max_depth=80, n_estimators=208; total time=   8.3s\n",
      "[CV] END .....................max_depth=80, n_estimators=223; total time=   8.9s\n",
      "[CV] END .....................max_depth=80, n_estimators=238; total time=   9.5s\n",
      "[CV] END .....................max_depth=80, n_estimators=238; total time=  10.0s\n",
      "[CV] END .....................max_depth=80, n_estimators=254; total time=  10.2s\n",
      "[CV] END .....................max_depth=80, n_estimators=269; total time=  10.8s\n",
      "[CV] END .....................max_depth=80, n_estimators=284; total time=  12.5s\n",
      "[CV] END .....................max_depth=80, n_estimators=300; total time=  12.3s\n",
      "[CV] END .....................max_depth=80, n_estimators=300; total time=  12.4s\n",
      "[CV] END .....................max_depth=100, n_estimators=40; total time=   1.7s\n",
      "[CV] END .....................max_depth=100, n_estimators=55; total time=   2.2s\n",
      "[CV] END .....................max_depth=100, n_estimators=71; total time=   2.8s\n",
      "[CV] END .....................max_depth=100, n_estimators=86; total time=   3.4s\n",
      "[CV] END .....................max_depth=100, n_estimators=86; total time=   3.5s\n",
      "[CV] END ....................max_depth=100, n_estimators=101; total time=   4.0s\n",
      "[CV] END ....................max_depth=100, n_estimators=116; total time=   4.6s\n",
      "[CV] END ....................max_depth=100, n_estimators=132; total time=   5.4s\n",
      "[CV] END ....................max_depth=100, n_estimators=147; total time=   6.3s\n",
      "[CV] END ....................max_depth=100, n_estimators=147; total time=   5.9s\n",
      "[CV] END ....................max_depth=100, n_estimators=162; total time=   6.5s\n",
      "[CV] END ....................max_depth=100, n_estimators=177; total time=   7.1s\n",
      "[CV] END ....................max_depth=100, n_estimators=193; total time=   7.8s\n",
      "[CV] END ....................max_depth=100, n_estimators=208; total time=   8.4s\n",
      "[CV] END ....................max_depth=100, n_estimators=208; total time=   8.4s\n",
      "[CV] END ....................max_depth=100, n_estimators=223; total time=   9.0s\n",
      "[CV] END ....................max_depth=100, n_estimators=238; total time=   9.7s\n",
      "[CV] END ....................max_depth=100, n_estimators=254; total time=  10.2s\n",
      "[CV] END ....................max_depth=100, n_estimators=269; total time=  10.8s\n",
      "[CV] END ....................max_depth=100, n_estimators=269; total time=  11.3s\n",
      "[CV] END ....................max_depth=100, n_estimators=284; total time=  11.3s\n",
      "[CV] END ....................max_depth=100, n_estimators=300; total time=  12.2s\n",
      "[CV] END ....................max_depth=None, n_estimators=25; total time=   1.0s\n",
      "[CV] END ....................max_depth=None, n_estimators=25; total time=   1.0s\n",
      "[CV] END ....................max_depth=None, n_estimators=40; total time=   2.2s\n",
      "[CV] END ....................max_depth=None, n_estimators=40; total time=   1.6s\n",
      "[CV] END ....................max_depth=None, n_estimators=55; total time=   2.2s\n",
      "[CV] END ....................max_depth=None, n_estimators=55; total time=   2.3s\n",
      "[CV] END ....................max_depth=None, n_estimators=71; total time=   2.9s\n",
      "[CV] END ....................max_depth=None, n_estimators=86; total time=   3.5s\n",
      "[CV] END ...................max_depth=None, n_estimators=101; total time=   4.1s\n",
      "[CV] END ...................max_depth=None, n_estimators=101; total time=   4.1s\n",
      "[CV] END ...................max_depth=None, n_estimators=116; total time=   4.7s\n",
      "[CV] END ...................max_depth=None, n_estimators=132; total time=   5.6s\n",
      "[CV] END ...................max_depth=None, n_estimators=147; total time=   5.9s\n",
      "[CV] END ...................max_depth=None, n_estimators=162; total time=   6.4s\n",
      "[CV] END ...................max_depth=None, n_estimators=162; total time=   6.6s\n",
      "[CV] END ...................max_depth=None, n_estimators=177; total time=   7.2s\n",
      "[CV] END ...................max_depth=None, n_estimators=193; total time=   8.3s\n",
      "[CV] END ...................max_depth=None, n_estimators=208; total time=   8.4s\n",
      "[CV] END ...................max_depth=None, n_estimators=223; total time=   9.0s\n",
      "[CV] END ...................max_depth=None, n_estimators=223; total time=   8.9s\n",
      "[CV] END ...................max_depth=None, n_estimators=238; total time=   9.8s\n",
      "[CV] END ...................max_depth=None, n_estimators=254; total time=  10.2s\n",
      "[CV] END ...................max_depth=None, n_estimators=269; total time=  10.8s\n",
      "[CV] END ...................max_depth=None, n_estimators=284; total time=  11.5s\n",
      "[CV] END ...................max_depth=None, n_estimators=284; total time=  11.5s\n",
      "[CV] END ...................max_depth=None, n_estimators=300; total time=  11.3s\n",
      "\n",
      "[CV] END .....................max_depth=100, n_estimators=71; total time=   2.9s\n",
      "[CV] END .....................max_depth=100, n_estimators=86; total time=   3.4s\n",
      "[CV] END ....................max_depth=100, n_estimators=101; total time=   4.1s\n",
      "[CV] END ....................max_depth=100, n_estimators=116; total time=   4.6s\n",
      "[CV] END ....................max_depth=100, n_estimators=116; total time=   4.7s\n",
      "[CV] END ....................max_depth=100, n_estimators=132; total time=   5.6s\n",
      "[CV] END ....................max_depth=100, n_estimators=147; total time=   5.9s\n",
      "[CV] END ....................max_depth=100, n_estimators=162; total time=   6.6s\n",
      "[CV] END ....................max_depth=100, n_estimators=177; total time=   7.1s\n",
      "[CV] END ....................max_depth=100, n_estimators=177; total time=   7.1s\n",
      "[CV] END ....................max_depth=100, n_estimators=193; total time=   8.5s\n",
      "[CV] END ....................max_depth=100, n_estimators=208; total time=   8.5s\n",
      "[CV] END ....................max_depth=100, n_estimators=223; total time=   9.0s\n",
      "[CV] END ....................max_depth=100, n_estimators=238; total time=  10.0s\n",
      "[CV] END ....................max_depth=100, n_estimators=238; total time=   9.7s\n",
      "[CV] END ....................max_depth=100, n_estimators=254; total time=  10.2s\n",
      "[CV] END ....................max_depth=100, n_estimators=269; total time=  11.3s\n",
      "[CV] END ....................max_depth=100, n_estimators=284; total time=  11.4s\n",
      "[CV] END ....................max_depth=100, n_estimators=300; total time=  12.1s\n",
      "[CV] END ....................max_depth=100, n_estimators=300; total time=  12.6s\n",
      "[CV] END ....................max_depth=None, n_estimators=55; total time=   2.3s\n",
      "[CV] END ....................max_depth=None, n_estimators=71; total time=   2.9s\n",
      "[CV] END ....................max_depth=None, n_estimators=86; total time=   3.5s\n",
      "[CV] END ...................max_depth=None, n_estimators=101; total time=   4.1s\n",
      "[CV] END ...................max_depth=None, n_estimators=116; total time=   4.6s\n",
      "[CV] END ...................max_depth=None, n_estimators=116; total time=   4.7s\n",
      "[CV] END ...................max_depth=None, n_estimators=132; total time=   5.8s\n",
      "[CV] END ...................max_depth=None, n_estimators=147; total time=   6.0s\n",
      "[CV] END ...................max_depth=None, n_estimators=162; total time=   6.5s\n",
      "[CV] END ...................max_depth=None, n_estimators=177; total time=   7.2s\n",
      "[CV] END ...................max_depth=None, n_estimators=177; total time=   7.3s\n",
      "[CV] END ...................max_depth=None, n_estimators=193; total time=   8.3s\n",
      "[CV] END ...................max_depth=None, n_estimators=208; total time=   8.6s\n",
      "[CV] END ...................max_depth=None, n_estimators=223; total time=   9.1s\n",
      "[CV] END ...................max_depth=None, n_estimators=238; total time=  10.0s\n",
      "[CV] END ...................max_depth=None, n_estimators=238; total time=   9.8s\n",
      "[CV] END ...................max_depth=None, n_estimators=254; total time=  10.3s\n",
      "[CV] END ...................max_depth=None, n_estimators=269; total time=  11.0s\n",
      "[CV] END ...................max_depth=None, n_estimators=284; total time=  12.1s\n",
      "[CV] END ...................max_depth=None, n_estimators=300; total time=  12.1s\n",
      "[CV] END ...................max_depth=None, n_estimators=300; total time=   9.7s\n"
     ]
    },
    {
     "data": {
      "image/png": "[encoded data removed]",
      "text/plain": [
       "<Figure size 720x1440 with 2 Axes>"
      ]
     },
     "metadata": {
      "needs_background": "light"
     },
     "output_type": "display_data"
    }
   ],
   "source": [
    "# use SHAP (SHapley Additive exPlanations) to understand the model \n",
    "explainer = shap.TreeExplainer(best_rf)\n",
    "shap_values = explainer.shap_values(test_X)\n",
    "\n",
    "# how model is predicting loan default (loan_status = 1)\n",
    "shap.summary_plot(shap_values[1], test_X, plot_size=(10, 20))"
   ]
  },
  {
   "cell_type": "markdown",
   "id": "40d8a72d",
   "metadata": {
    "papermill": {
     "duration": 0.038179,
     "end_time": "2023-08-12T21:22:11.434442",
     "exception": false,
     "start_time": "2023-08-12T21:22:11.396263",
     "status": "completed"
    },
    "tags": []
   },
   "source": [
    "**SHAP Importance Conclution**\n",
    "\n",
    "In the shap chart, we are able to see how each features are contributing to the final prediction of loan default. As we can see that each feature are contributing in a way that makes business sense. \n",
    "\n",
    "For example: \n",
    "* a person who rents (person_home_ownership_RENT = 1) shows higher chance of loan default. \n",
    "* loan with grade A (loan_grade_A = 1) has smaller chance of loan default. \n",
    "* higher personal income (person_income) shows a smaller chance of loan default. "
   ]
  },
  {
   "cell_type": "markdown",
   "id": "59f16414",
   "metadata": {
    "papermill": {
     "duration": 0.037807,
     "end_time": "2023-08-12T21:22:11.510615",
     "exception": false,
     "start_time": "2023-08-12T21:22:11.472808",
     "status": "completed"
    },
    "tags": []
   },
   "source": [
    "## Main Takeaway from a business perspectie\n",
    "\n",
    "* A person's annual income, employment history length, loan grade and credit history length have negative relationship with the risk of loan default. The higher annual income, the longer the employment length, higher loan grade or longer credit hisotry a person has, the less likely of a loan default might happen for that person. \n",
    "* The loan's interest rate and loan percent income have positive relationship with the risk of loan default. The higher a loan's interest rate or higher the loan percent income ratio is, the loan will have higher risk of loan default. \n",
    "* A person's age and loan amount are not seem to have a strong correlation with the potential loan default risk. \n",
    "* In addtion, there are other factors that can differentiate a person with higher risk of loan default and the ones with lower risk:\n",
    "    1. Having a home or mortage could indicate a lower loan default risk comparing to the ones who rents;\n",
    "    2. Different types of loans could associate different level of loan default risks;\n",
    "    3. Having a default on file could indicate a higher loan default risk comparing to the ones without any default on files."
   ]
  },
  {
   "cell_type": "code",
   "execution_count": null,
   "id": "29e13334",
   "metadata": {
    "papermill": {
     "duration": 0.037846,
     "end_time": "2023-08-12T21:22:11.586747",
     "exception": false,
     "start_time": "2023-08-12T21:22:11.548901",
     "status": "completed"
    },
    "tags": []
   },
   "outputs": [],
   "source": []
  }
 ],
 "metadata": {
  "kernelspec": {
   "display_name": "Python 3",
   "language": "python",
   "name": "python3"
  },
  "language_info": {
   "codemirror_mode": {
    "name": "ipython",
    "version": 3
   },
   "file_extension": ".py",
   "mimetype": "text/x-python",
   "name": "python",
   "nbconvert_exporter": "python",
   "pygments_lexer": "ipython3",
   "version": "3.7.12"
  },
  "papermill": {
   "default_parameters": {},
   "duration": 6710.746648,
   "end_time": "2023-08-12T21:22:14.263370",
   "environment_variables": {},
   "exception": null,
   "input_path": "__notebook__.ipynb",
   "output_path": "__notebook__.ipynb",
   "parameters": {},
   "start_time": "2023-08-12T19:30:23.516722",
   "version": "2.3.4"
  }
 },
 "nbformat": 4,
 "nbformat_minor": 5
}
